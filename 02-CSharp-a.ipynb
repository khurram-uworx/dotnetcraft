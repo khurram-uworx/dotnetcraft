{
 "cells": [
  {
   "cell_type": "markdown",
   "metadata": {},
   "source": [
    "# Namespace of the Day 🎁"
   ]
  },
  {
   "cell_type": "markdown",
   "metadata": {},
   "source": [
    "## System.Numerics 🔢"
   ]
  },
  {
   "cell_type": "code",
   "execution_count": null,
   "metadata": {
    "dotnet_interactive": {
     "language": "csharp"
    },
    "polyglot_notebook": {
     "kernelName": "csharp"
    },
    "vscode": {
     "languageId": "polyglot-notebook"
    }
   },
   "outputs": [],
   "source": [
    "using System.Numerics;\n",
    "\n",
    "var v1 = new Vector2(0.1f, 0.2f);           // we have Vector3 as well for 3d point; Vector4 is also there\n",
    "var v2 = new Vector2(1.1f, 2.2f);\n",
    "v1 + v2"
   ]
  },
  {
   "cell_type": "code",
   "execution_count": null,
   "metadata": {
    "dotnet_interactive": {
     "language": "csharp"
    },
    "polyglot_notebook": {
     "kernelName": "csharp"
    },
    "vscode": {
     "languageId": "polyglot-notebook"
    }
   },
   "outputs": [],
   "source": [
    "using System.Numerics;\n",
    "\n",
    "var v1 = new Vector2(0.1f, 0.2f);\n",
    "var v2 = new Vector2(1.1f, 2.2f);\n",
    "\n",
    "Console.WriteLine(Vector2.Dot(v1, v2));         // dot product of vectors\n",
    "Console.WriteLine(Vector2.Distance(v1, v2));    // distance between two points"
   ]
  },
  {
   "cell_type": "markdown",
   "metadata": {},
   "source": [
    "- We also have matrix, vector, plane and others\n",
    "- Complex numbers\n",
    "- Generic Math interfaces also live here"
   ]
  },
  {
   "cell_type": "code",
   "execution_count": null,
   "metadata": {
    "dotnet_interactive": {
     "language": "csharp"
    },
    "polyglot_notebook": {
     "kernelName": "csharp"
    },
    "vscode": {
     "languageId": "polyglot-notebook"
    }
   },
   "outputs": [],
   "source": [
    "using System.Numerics;\n",
    "var i = Complex.ImaginaryOne;\n",
    "i * i"
   ]
  },
  {
   "cell_type": "markdown",
   "metadata": {},
   "source": [
    "- Unsigned Types; uint, ushort, sbyte\n",
    "- Overflow and Underflow Handling; checked and unchecked\n",
    "- Math and MathF (float) classes"
   ]
  },
  {
   "cell_type": "code",
   "execution_count": null,
   "metadata": {
    "dotnet_interactive": {
     "language": "csharp"
    },
    "polyglot_notebook": {
     "kernelName": "csharp"
    },
    "vscode": {
     "languageId": "polyglot-notebook"
    }
   },
   "outputs": [],
   "source": [
    "unchecked\n",
    "{\n",
    "    int i = int.MaxValue;\n",
    "    int j = i+1;\n",
    "    Console.WriteLine(j);\n",
    "}"
   ]
  },
  {
   "cell_type": "code",
   "execution_count": null,
   "metadata": {
    "dotnet_interactive": {
     "language": "csharp"
    },
    "polyglot_notebook": {
     "kernelName": "csharp"
    },
    "vscode": {
     "languageId": "polyglot-notebook"
    }
   },
   "outputs": [],
   "source": [
    "checked\n",
    "{\n",
    "    try\n",
    "    {\n",
    "        int i = int.MaxValue;\n",
    "        int j = i+1;\n",
    "        Console.WriteLine(j);\n",
    "    }\n",
    "    catch (OverflowException ex)\n",
    "    {\n",
    "        Console.WriteLine(ex.ToString());\n",
    "    }\n",
    "}"
   ]
  },
  {
   "cell_type": "markdown",
   "metadata": {},
   "source": [
    "__SIMD__\n",
    "\n",
    "<img src=images/simd.png>\n",
    "\n",
    "https://en.wikipedia.org/wiki/Single_instruction,_multiple_data"
   ]
  },
  {
   "cell_type": "markdown",
   "metadata": {},
   "source": [
    "__Further Readings__\n",
    "\n",
    "- https://learn.microsoft.com/en-us/dotnet/csharp/language-reference/builtin-types/integral-numeric-types\n",
    "- https://learn.microsoft.com/en-us/dotnet/csharp/language-reference/builtin-types/floating-point-numeric-types\n",
    "- https://learn.microsoft.com/en-us/dotnet/standard/simd\n",
    "- https://learn.microsoft.com/en-us/dotnet/standard/numerics\n",
    "    - https://learn.microsoft.com/en-us/dotnet/api/system.numerics\n",
    "- https://learn.microsoft.com/en-us/dotnet/api/system.runtime.intrinsics 👈\n",
    "- https://learn.microsoft.com/en-us/dotnet/core/whats-new/dotnet-8/runtime"
   ]
  },
  {
   "cell_type": "markdown",
   "metadata": {},
   "source": [
    "## How small things are still a problem"
   ]
  },
  {
   "cell_type": "code",
   "execution_count": null,
   "metadata": {
    "dotnet_interactive": {
     "language": "csharp"
    },
    "polyglot_notebook": {
     "kernelName": "csharp"
    },
    "vscode": {
     "languageId": "polyglot-notebook"
    }
   },
   "outputs": [],
   "source": [
    "// floating point error\n",
    "\n",
    "double total = 0.0;\n",
    "for (int i = 0; i < 10; i++)\n",
    "    total += 0.1;\n",
    "Console.WriteLine($\"Expected Result: 1.0\\nActual Result: {total}\");"
   ]
  },
  {
   "cell_type": "code",
   "execution_count": null,
   "metadata": {
    "dotnet_interactive": {
     "language": "csharp"
    },
    "polyglot_notebook": {
     "kernelName": "csharp"
    },
    "vscode": {
     "languageId": "polyglot-notebook"
    }
   },
   "outputs": [],
   "source": [
    "#!connect jupyter --kernel-name pythonkernel --kernel-spec python3"
   ]
  },
  {
   "cell_type": "code",
   "execution_count": null,
   "metadata": {
    "dotnet_interactive": {
     "language": "pythonkernel"
    },
    "polyglot_notebook": {
     "kernelName": "pythonkernel"
    },
    "vscode": {
     "languageId": "polyglot-notebook"
    }
   },
   "outputs": [],
   "source": [
    "# python\n",
    "\n",
    "total = 0.0\n",
    "for i in range(10):\n",
    "\ttotal += 0.1\n",
    "print(f\"Expected Result: 1.0\\nActual Result: {total}\")"
   ]
  },
  {
   "cell_type": "markdown",
   "metadata": {},
   "source": [
    "- https://en.wikipedia.org/wiki/Floating-point_error_mitigation\n",
    "    - *By definition, floating-point error cannot be eliminated, and, at best, can only be managed*\n",
    "    - https://en.wikipedia.org/wiki/Monte_Carlo_method"
   ]
  },
  {
   "cell_type": "code",
   "execution_count": null,
   "metadata": {
    "dotnet_interactive": {
     "language": "csharp"
    },
    "polyglot_notebook": {
     "kernelName": "csharp"
    },
    "vscode": {
     "languageId": "polyglot-notebook"
    }
   },
   "outputs": [],
   "source": [
    "// avoid / manage floats\n",
    "\n",
    "var totalTenths = Enumerable.Range(0, 10).Sum(i => 1);  // we are using tenths as unit (1 = 0.1)\n",
    "double total = totalTenths / 10.0; // Convert back to double\n",
    "Console.WriteLine($\"Expected Result: 1.0\\nActual Result: {total}\");"
   ]
  },
  {
   "cell_type": "markdown",
   "metadata": {},
   "source": [
    "# Method Parameters 🪂"
   ]
  },
  {
   "cell_type": "markdown",
   "metadata": {},
   "source": [
    "## by value or by reference"
   ]
  },
  {
   "cell_type": "markdown",
   "metadata": {},
   "source": [
    "- Default: By Value or By Reference depending upon type"
   ]
  },
  {
   "cell_type": "code",
   "execution_count": null,
   "metadata": {
    "dotnet_interactive": {
     "language": "csharp"
    },
    "polyglot_notebook": {
     "kernelName": "csharp"
    },
    "vscode": {
     "languageId": "polyglot-notebook"
    }
   },
   "outputs": [],
   "source": [
    "int UpdateValue(int number) => number / 2;\n",
    "\n",
    "int i = 10;\n",
    "i = UpdateValue(i);"
   ]
  },
  {
   "cell_type": "markdown",
   "metadata": {},
   "source": [
    "## ref Parameters"
   ]
  },
  {
   "cell_type": "markdown",
   "metadata": {},
   "source": [
    "- Value types can be forced to pass by Reference using *ref*"
   ]
  },
  {
   "cell_type": "code",
   "execution_count": null,
   "metadata": {
    "dotnet_interactive": {
     "language": "csharp"
    },
    "polyglot_notebook": {
     "kernelName": "csharp"
    },
    "vscode": {
     "languageId": "polyglot-notebook"
    }
   },
   "outputs": [],
   "source": [
    "//ref\n",
    "void update(ref int j) => j += 2;\n",
    "\n",
    "int i = 5;\n",
    "update(ref i);\n",
    "i"
   ]
  },
  {
   "cell_type": "markdown",
   "metadata": {},
   "source": [
    "## out and in Parameters"
   ]
  },
  {
   "cell_type": "code",
   "execution_count": null,
   "metadata": {
    "dotnet_interactive": {
     "language": "csharp"
    },
    "polyglot_notebook": {
     "kernelName": "csharp"
    },
    "vscode": {
     "languageId": "polyglot-notebook"
    }
   },
   "outputs": [],
   "source": [
    "//out\n",
    "int k;\n",
    "if (int.TryParse(\"2h\", out k))\n",
    "    Console.WriteLine($\"We have integer value; its {k}\");\n",
    "else\n",
    "    Console.WriteLine(\"Couldnt parse\");\n",
    "\n",
    "//in\n",
    "int i = 5;\n",
    "void DontChangeParameter(in int j)\n",
    "{\n",
    "    //j++;\n",
    "}"
   ]
  },
  {
   "cell_type": "markdown",
   "metadata": {},
   "source": [
    "for the sake of completeness:\n",
    "- there's also *out readyonly*; but lets not confuse ourselves at the moment"
   ]
  },
  {
   "cell_type": "markdown",
   "metadata": {},
   "source": [
    "## default parameters"
   ]
  },
  {
   "cell_type": "code",
   "execution_count": null,
   "metadata": {
    "dotnet_interactive": {
     "language": "csharp"
    },
    "polyglot_notebook": {
     "kernelName": "csharp"
    },
    "vscode": {
     "languageId": "polyglot-notebook"
    }
   },
   "outputs": [],
   "source": [
    "//defaults\n",
    "int SomeMethod1(int neededParameter, int defaultParameter = 0)\n",
    "{\n",
    "    return defaultParameter;\n",
    "}\n",
    "\n",
    "int SomeMethod2(int neededParameter, int? optionalParameter = null) // null able value type\n",
    "{\n",
    "    //C styled imperative if/elses\n",
    "    if (null != optionalParameter) // yoda\n",
    "        return optionalParameter.Value;\n",
    "    else\n",
    "        return neededParameter;\n",
    "\n",
    "    //Object oriented\n",
    "    if (optionalParameter.HasValue)\n",
    "        return optionalParameter.Value;\n",
    "    else\n",
    "        return neededParameter;\n",
    "\n",
    "    //C styled ?: the ternary conditional operator\n",
    "    return optionalParameter.HasValue ? optionalParameter.Value : neededParameter;\n",
    "\n",
    "    //C# null-coalescing operator\n",
    "    return optionalParameter ?? neededParameter;\n",
    "}\n",
    "\n",
    "int SomeMethod3(int neededParameter, int? option1 = null, int? option2 = null, int? option3 = null)\n",
    "{\n",
    "    return null != option1 ? option1.Value :                    //show them without Value will not work and why?\n",
    "        null != option2 ? option2.Value :\n",
    "        null != option3 ? option3.Value : neededParameter;\n",
    "}\n",
    "\n",
    "Console.WriteLine(SomeMethod2(5, 3));\n",
    "Console.WriteLine(SomeMethod3(5, option1: 2, option2: 3)); // named parameters\n",
    "Console.WriteLine(SomeMethod3(neededParameter: 5, option2: 4));"
   ]
  },
  {
   "cell_type": "markdown",
   "metadata": {},
   "source": [
    "## discards"
   ]
  },
  {
   "cell_type": "code",
   "execution_count": null,
   "metadata": {
    "dotnet_interactive": {
     "language": "csharp"
    },
    "polyglot_notebook": {
     "kernelName": "csharp"
    },
    "vscode": {
     "languageId": "polyglot-notebook"
    }
   },
   "outputs": [],
   "source": [
    "//discards\n",
    "string number = \"9999\";\n",
    "if (int.TryParse(number, out _))\n",
    "    Console.WriteLine(\"String is valid integer\");\n",
    "else\n",
    "    Console.WriteLine(\"String is not valid integer\");"
   ]
  },
  {
   "cell_type": "markdown",
   "metadata": {},
   "source": [
    "## named Parameters"
   ]
  },
  {
   "cell_type": "code",
   "execution_count": null,
   "metadata": {
    "dotnet_interactive": {
     "language": "csharp"
    },
    "polyglot_notebook": {
     "kernelName": "csharp"
    },
    "vscode": {
     "languageId": "polyglot-notebook"
    }
   },
   "outputs": [],
   "source": [
    "void UpdateStudent(int studentNumber, string newFirstName, string newLastName, bool isActive)\n",
    "{ }\n",
    "\n",
    "var studentNumber = 1;\n",
    "string firstName = \"Khurram\";\n",
    "string lastName = \"Aziz\";\n",
    "\n",
    "UpdateStudent(studentNumber, firstName, lastName, true); // code readability is comromised\n",
    "\n",
    "bool isActive = true;\n",
    "UpdateStudent(studentNumber, firstName, lastName, isActive);\n",
    "UpdateStudent(studentNumber, firstName, lastName, isActive: true);\n",
    "UpdateStudent(studentNumber, firstName, newLastName: null, isActive: true); // if parameter name is changed; we will need to change this"
   ]
  },
  {
   "cell_type": "markdown",
   "metadata": {},
   "source": [
    "- The problem of types in Parametric Polymorphism\n",
    "    - UpdateUser(string name) and UpdateUser(string phone) not possible"
   ]
  },
  {
   "cell_type": "markdown",
   "metadata": {},
   "source": [
    "## params Parameters"
   ]
  },
  {
   "cell_type": "code",
   "execution_count": null,
   "metadata": {
    "dotnet_interactive": {
     "language": "csharp"
    },
    "polyglot_notebook": {
     "kernelName": "csharp"
    },
    "vscode": {
     "languageId": "polyglot-notebook"
    }
   },
   "outputs": [],
   "source": [
    "// params\n",
    "string BuildCommand(string command, params string[] options)\n",
    "{\n",
    "    var sb = new StringBuilder();\n",
    "    sb.Append(command);\n",
    "\n",
    "    foreach(var i in options)\n",
    "        sb.Append($\" {i}\");\n",
    "    \n",
    "    return sb.ToString();\n",
    "}\n",
    "\n",
    "Console.WriteLine(BuildCommand(\"format\"));\n",
    "Console.WriteLine(BuildCommand(\"format\", \"c\"));\n",
    "Console.WriteLine(BuildCommand(\"format\", \"c\", \"d\"));\n",
    "\n",
    "// Main has params args"
   ]
  },
  {
   "cell_type": "code",
   "execution_count": null,
   "metadata": {
    "dotnet_interactive": {
     "language": "csharp"
    },
    "polyglot_notebook": {
     "kernelName": "csharp"
    },
    "vscode": {
     "languageId": "polyglot-notebook"
    }
   },
   "outputs": [],
   "source": [
    "// structured logging; Microsoft Logging Extension\n",
    "\n",
    "void Log(string pattern, params object[] objects)\n",
    "{\n",
    "}\n",
    "\n",
    "string vm = \"vm\";\n",
    "Log($\"{vm} is started\"); //incorrect\n",
    "\n",
    "//correct\n",
    "Log(\"{vm} is started\", vm); // but why?"
   ]
  },
  {
   "cell_type": "markdown",
   "metadata": {},
   "source": [
    "# Generics 📦"
   ]
  },
  {
   "cell_type": "markdown",
   "metadata": {},
   "source": [
    "## 101 Recap"
   ]
  },
  {
   "cell_type": "markdown",
   "metadata": {},
   "source": [
    "- Classes\n",
    "- Collections\n",
    "- Delegate"
   ]
  },
  {
   "cell_type": "code",
   "execution_count": null,
   "metadata": {
    "dotnet_interactive": {
     "language": "csharp"
    },
    "polyglot_notebook": {
     "kernelName": "csharp"
    },
    "vscode": {
     "languageId": "polyglot-notebook"
    }
   },
   "outputs": [],
   "source": [
    "class Box<T>\n",
    "{\n",
    "    T field;\n",
    "    \n",
    "    public T Field { get => this.field; }\n",
    "\n",
    "    public Box(T input) => this.SetField(input);\n",
    "\n",
    "    public void SetField(T input) => this.field = input;\n",
    "}"
   ]
  },
  {
   "cell_type": "code",
   "execution_count": null,
   "metadata": {
    "dotnet_interactive": {
     "language": "csharp"
    },
    "polyglot_notebook": {
     "kernelName": "csharp"
    },
    "vscode": {
     "languageId": "polyglot-notebook"
    }
   },
   "outputs": [],
   "source": [
    "using System.Collections.Generic;\n",
    "\n",
    "var list = new List<int>();\n",
    "list.Add(3); list.Add(5);\n",
    "\n",
    "foreach(var number in list)\n",
    "    Console.WriteLine(number);"
   ]
  },
  {
   "cell_type": "code",
   "execution_count": null,
   "metadata": {
    "dotnet_interactive": {
     "language": "csharp"
    },
    "polyglot_notebook": {
     "kernelName": "csharp"
    },
    "vscode": {
     "languageId": "polyglot-notebook"
    }
   },
   "outputs": [],
   "source": [
    "var add = new Func<int, int, int>((a, b) => a + b);\n",
    "add(3, 5)"
   ]
  },
  {
   "cell_type": "markdown",
   "metadata": {},
   "source": [
    "## Reference Tuples"
   ]
  },
  {
   "cell_type": "code",
   "execution_count": null,
   "metadata": {
    "dotnet_interactive": {
     "language": "csharp"
    },
    "polyglot_notebook": {
     "kernelName": "csharp"
    },
    "vscode": {
     "languageId": "polyglot-notebook"
    }
   },
   "outputs": [],
   "source": [
    "Tuple<string, int> GetTemperature(string deviceIp)\n",
    "{\n",
    "    var deviceName = \"Lahore / 203\";\n",
    "    var temperature = 26;\n",
    "    return new Tuple<string, int>(deviceName, temperature); // can we return null?\n",
    "}\n",
    "\n",
    "// Generics dont make sense for Value Tuples; because of C# language constructs"
   ]
  },
  {
   "cell_type": "markdown",
   "metadata": {},
   "source": [
    "## Interfaces & Methods"
   ]
  },
  {
   "cell_type": "code",
   "execution_count": null,
   "metadata": {
    "dotnet_interactive": {
     "language": "csharp"
    },
    "polyglot_notebook": {
     "kernelName": "csharp"
    },
    "vscode": {
     "languageId": "polyglot-notebook"
    }
   },
   "outputs": [],
   "source": [
    "interface IContainer<T>\n",
    "{\n",
    "    T Field { get; }\n",
    "    void SetField(T input);\n",
    "}\n",
    "\n",
    "class Box<T> : IContainer<T>\n",
    "{\n",
    "    T field;\n",
    "    public Box(T input) => this.SetField(input);\n",
    "    public T Field { get => this.field; }\n",
    "    public void SetField(T input) => this.field = input;\n",
    "}\n",
    "\n",
    "static void Swap<T>(this IContainer<T> left, IContainer<T> right) // a seperate unit / algorithm\n",
    "{\n",
    "    T temp = left.Field;\n",
    "    left.SetField(right.Field);\n",
    "    right.SetField(temp);\n",
    "}\n",
    "\n",
    "var boxedInteger1 = new Box<int>(3);\n",
    "var boxedInteger2 = new Box<int>(5);\n",
    "boxedInteger1.Swap(boxedInteger2);\n",
    "\n",
    "Console.WriteLine(\"{0}, {1}\", boxedInteger1.Field, boxedInteger2.Field);"
   ]
  },
  {
   "cell_type": "markdown",
   "metadata": {},
   "source": [
    "## Constraints on Type Parameter"
   ]
  },
  {
   "cell_type": "markdown",
   "metadata": {},
   "source": [
    "Apply parameter generalization on types with some least known behavior\n",
    "\n",
    "- where T : struct The type argument must be a non-nullable value type (including record struct types)\n",
    "- where T : class The type argument must be a reference type (class, interface, delegate, or array type)\n",
    "- where T : notnull The type argument must be a non-nullable type (reference type or value type)\n",
    "- where T : unmanaged The type argument must be a non-nullable unmanaged type\n",
    "- where T : new() The type argument must have a public parameterless constructor\n",
    "- where T : base class name> The type argument must be or derive from the specified base class\n",
    "- where T : interface name> The type argument must implement the specified interface"
   ]
  },
  {
   "cell_type": "code",
   "execution_count": null,
   "metadata": {
    "dotnet_interactive": {
     "language": "csharp"
    },
    "polyglot_notebook": {
     "kernelName": "csharp"
    },
    "vscode": {
     "languageId": "polyglot-notebook"
    }
   },
   "outputs": [],
   "source": [
    "public class SpecializedList<T>\n",
    "{\n",
    "    public void Add<U>(List<U> items) where U : T\n",
    "    {\n",
    "        // ...\n",
    "    }\n",
    "}"
   ]
  },
  {
   "cell_type": "markdown",
   "metadata": {},
   "source": [
    "## Deferred Algorithms"
   ]
  },
  {
   "cell_type": "markdown",
   "metadata": {},
   "source": [
    "### IComparable and IComparable of T"
   ]
  },
  {
   "cell_type": "code",
   "execution_count": null,
   "metadata": {
    "dotnet_interactive": {
     "language": "csharp"
    },
    "polyglot_notebook": {
     "kernelName": "csharp"
    },
    "vscode": {
     "languageId": "polyglot-notebook"
    }
   },
   "outputs": [],
   "source": [
    "using System;\n",
    "using System.Collections.Generic;\n",
    "\n",
    "class Temperature : IComparable<Temperature>\n",
    "{\n",
    "    double value = 0.0;\n",
    "\n",
    "    public double Celsius\n",
    "    {\n",
    "        get => this.value - 273.15;\n",
    "    }\n",
    "\n",
    "    public double Kelvin\n",
    "    {\n",
    "        get => this.value;\n",
    "        set\n",
    "        {\n",
    "            if (value < 0.0)\n",
    "                throw new ArgumentException(\"Temperature cannot be less than absolute zero.\");\n",
    "            else\n",
    "                this.value = value;\n",
    "        }\n",
    "    }\n",
    "\n",
    "    public Temperature(double kelvins) => this.Kelvin = kelvins;\n",
    "\n",
    "    // IComparable<T> is { int CompareTo (T? other); }\n",
    "    public int CompareTo(Temperature other) // Temperature?\n",
    "    {\n",
    "        if (null == other) return 1; // If other is not a valid object reference, this instance is greater.\n",
    "        // we can simply use underlying type's IComparable; in this case double 👈\n",
    "        return this.value.CompareTo(other.value); // the class itself private field; even if its of another instance\n",
    "    }\n",
    "}"
   ]
  },
  {
   "cell_type": "code",
   "execution_count": null,
   "metadata": {
    "dotnet_interactive": {
     "language": "csharp"
    },
    "polyglot_notebook": {
     "kernelName": "csharp"
    },
    "vscode": {
     "languageId": "polyglot-notebook"
    }
   },
   "outputs": [],
   "source": [
    "var temps = new SortedList<Temperature, string>(); // uses IComparable for its working\n",
    "\n",
    "temps.Add(new Temperature(2017.15), \"Boiling point of Lead\");\n",
    "temps.Add(new Temperature(0), \"Absolute zero\");\n",
    "temps.Add(new Temperature(273.15), \"Freezing point of water\");\n",
    "temps.Add(new Temperature(5100.15), \"Boiling point of Carbon\");\n",
    "temps.Add(new Temperature(373.15), \"Boiling point of water\");\n",
    "temps.Add(new Temperature(600.65), \"Melting point of Lead\");\n",
    "\n",
    "foreach( KeyValuePair<Temperature, string> kvp in temps)\n",
    "    Console.WriteLine(\"{0} is {1} degrees Celsius.\", kvp.Value, kvp.Key.Celsius);"
   ]
  },
  {
   "cell_type": "markdown",
   "metadata": {},
   "source": [
    "- https://learn.microsoft.com/en-us/dotnet/api/system.icomparable\n",
    "- https://learn.microsoft.com/en-us/dotnet/api/system.icomparable-1"
   ]
  },
  {
   "cell_type": "code",
   "execution_count": null,
   "metadata": {
    "dotnet_interactive": {
     "language": "csharp"
    },
    "polyglot_notebook": {
     "kernelName": "csharp"
    },
    "vscode": {
     "languageId": "polyglot-notebook"
    }
   },
   "outputs": [],
   "source": [
    "class BoxOfTwoItems<T> where T : IComparable<T>\n",
    "{\n",
    "    T first, second;\n",
    "\n",
    "    public BoxOfTwoItems(T first, T second)\n",
    "    {\n",
    "        //validate inputs\n",
    "        this.first = first;\n",
    "        this.second = second;\n",
    "    }\n",
    "\n",
    "    public T GetTopper() =>\n",
    "        first.CompareTo(second) > 0 ? first : second;\n",
    "}\n",
    "\n",
    "var items = new BoxOfTwoItems<int>(5, 3);\n",
    "items.GetTopper()"
   ]
  },
  {
   "cell_type": "markdown",
   "metadata": {},
   "source": [
    "#### IComparable and Operator Overloading"
   ]
  },
  {
   "cell_type": "code",
   "execution_count": null,
   "metadata": {
    "dotnet_interactive": {
     "language": "csharp"
    },
    "polyglot_notebook": {
     "kernelName": "csharp"
    },
    "vscode": {
     "languageId": "polyglot-notebook"
    }
   },
   "outputs": [],
   "source": [
    "using System;\n",
    "using System.Collections.Generic;\n",
    "\n",
    "class Temperature : IComparable<Temperature> // IComparable<T> is { int CompareTo (T? other); }\n",
    "{\n",
    "    double value = 0.0;\n",
    "\n",
    "    public double Celsius\n",
    "    {\n",
    "        get => this.value - 273.15;\n",
    "    }\n",
    "\n",
    "    public double Kelvin\n",
    "    {\n",
    "        get => this.value;\n",
    "        set\n",
    "        {\n",
    "            if (value < 0.0)\n",
    "                throw new ArgumentException(\"Temperature cannot be less than absolute zero.\");\n",
    "            else\n",
    "                this.value = value;\n",
    "        }\n",
    "    }\n",
    "\n",
    "    public Temperature(double kelvins) => this.Kelvin = kelvins;\n",
    "\n",
    "    public int CompareTo(Temperature other) // Temperature?\n",
    "    {\n",
    "        if (null == other) return 1; // If other is not a valid object reference, this instance is greater.\n",
    "        // we can simply use underlying type's IComparable; in this case double\n",
    "        return this.value.CompareTo(other.value); // the class itself private field; even if its of another instance\n",
    "    }\n",
    "\n",
    "    public static bool operator >  (Temperature operand1, Temperature operand2) =>\n",
    "        operand1.CompareTo(operand2) > 0;\n",
    "\n",
    "    public static bool operator <  (Temperature operand1, Temperature operand2) =>\n",
    "        operand1.CompareTo(operand2) < 0;\n",
    "\n",
    "    public static bool operator >=  (Temperature operand1, Temperature operand2) =>\n",
    "        operand1.CompareTo(operand2) >= 0;\n",
    "\n",
    "    public static bool operator <=  (Temperature operand1, Temperature operand2) =>\n",
    "        operand1.CompareTo(operand2) <= 0;\n",
    "}"
   ]
  },
  {
   "cell_type": "code",
   "execution_count": null,
   "metadata": {
    "dotnet_interactive": {
     "language": "csharp"
    },
    "polyglot_notebook": {
     "kernelName": "csharp"
    },
    "vscode": {
     "languageId": "polyglot-notebook"
    }
   },
   "outputs": [],
   "source": [
    "var leadBoiding = new Temperature(2017.15);\n",
    "var leadMelting = new Temperature(600.65);\n",
    "\n",
    "bool assertion = leadBoiding > leadMelting;\n",
    "assertion"
   ]
  },
  {
   "cell_type": "markdown",
   "metadata": {},
   "source": [
    "## Interrogation"
   ]
  },
  {
   "cell_type": "code",
   "execution_count": null,
   "metadata": {
    "dotnet_interactive": {
     "language": "csharp"
    },
    "polyglot_notebook": {
     "kernelName": "csharp"
    },
    "vscode": {
     "languageId": "polyglot-notebook"
    }
   },
   "outputs": [],
   "source": [
    "using System.Reflection;\n",
    "\n",
    "class Mocking<T>\n",
    "{\n",
    "    void inspect(Type type)\n",
    "    {\n",
    "        MethodInfo[] methods = type.GetMethods();\n",
    "        foreach (MethodInfo method in methods)\n",
    "            // We can also get more information about the method, such as parameters, return type, etc.\n",
    "            Console.WriteLine($\"Method Name: {method.Name}\");\n",
    "    }\n",
    "\n",
    "    public Mocking()\n",
    "    {\n",
    "        Type type = typeof(T); // the type definition is itself type\n",
    "        if (!type.IsInterface) throw new ArgumentException(\"Mock only works with interfaces\");\n",
    "\n",
    "        this.inspect(type);\n",
    "    }\n",
    "}"
   ]
  },
  {
   "cell_type": "code",
   "execution_count": null,
   "metadata": {
    "dotnet_interactive": {
     "language": "csharp"
    },
    "polyglot_notebook": {
     "kernelName": "csharp"
    },
    "vscode": {
     "languageId": "polyglot-notebook"
    }
   },
   "outputs": [],
   "source": [
    "var mock = new Mocking<int>();"
   ]
  },
  {
   "cell_type": "code",
   "execution_count": null,
   "metadata": {
    "dotnet_interactive": {
     "language": "csharp"
    },
    "polyglot_notebook": {
     "kernelName": "csharp"
    },
    "vscode": {
     "languageId": "polyglot-notebook"
    }
   },
   "outputs": [],
   "source": [
    "interface IService\n",
    "{\n",
    "    public void DoSomething(int withThis);\n",
    "}\n",
    "\n",
    "var mock = new Mocking<IService>();"
   ]
  },
  {
   "cell_type": "markdown",
   "metadata": {},
   "source": [
    "# Nuget of the day 🎁"
   ]
  },
  {
   "cell_type": "markdown",
   "metadata": {},
   "source": [
    "- https://www.nuget.org/packages/Moq\n",
    "- https://github.com/moq/moq"
   ]
  },
  {
   "cell_type": "code",
   "execution_count": null,
   "metadata": {
    "dotnet_interactive": {
     "language": "csharp"
    },
    "polyglot_notebook": {
     "kernelName": "csharp"
    },
    "vscode": {
     "languageId": "polyglot-notebook"
    }
   },
   "outputs": [],
   "source": [
    "#r \"nuget:Moq\""
   ]
  },
  {
   "cell_type": "code",
   "execution_count": null,
   "metadata": {
    "dotnet_interactive": {
     "language": "csharp"
    },
    "polyglot_notebook": {
     "kernelName": "csharp"
    },
    "vscode": {
     "languageId": "polyglot-notebook"
    }
   },
   "outputs": [],
   "source": [
    "using Moq;\n",
    "\n",
    "interface IDuck\n",
    "{\n",
    "    bool CanWalk();\n",
    "    bool CanSwim();\n",
    "    void Quake();\n",
    "}\n",
    "\n",
    "var inline = new Mock<IDuck>();\n",
    "\n",
    "inline.Setup(x => x.CanWalk()).Returns(true);\n",
    "inline.Setup(x => x.CanSwim()).Returns(true);\n",
    "inline.Setup(x => x.Quake()).Callback(() => Console.WriteLine(\"Quaking...\"));\n",
    "\n",
    "var o = inline.Object;\n",
    "if (o.CanWalk() && o.CanSwim())\n",
    "    o.Quake();"
   ]
  },
  {
   "cell_type": "markdown",
   "metadata": {},
   "source": [
    "# Seperating Responsibility 🤝"
   ]
  },
  {
   "cell_type": "markdown",
   "metadata": {},
   "source": [
    "## IComparer and IComparer of T\n",
    "__aka Strategy Pattern__"
   ]
  },
  {
   "cell_type": "markdown",
   "metadata": {},
   "source": [
    "<img src=images/comparer.webp width=700>"
   ]
  },
  {
   "cell_type": "code",
   "execution_count": null,
   "metadata": {
    "dotnet_interactive": {
     "language": "csharp"
    },
    "polyglot_notebook": {
     "kernelName": "csharp"
    },
    "vscode": {
     "languageId": "polyglot-notebook"
    }
   },
   "outputs": [],
   "source": [
    "record Student(int StudentId, string StudentName, int LastAverageScore);\n",
    "\n",
    "class StudentScoreComparer : IComparer<Student>\n",
    "{\n",
    "    public int Compare(Student x, Student y) => -1 * x.LastAverageScore.CompareTo(y.LastAverageScore);\n",
    "}\n",
    "\n",
    "var students = new Student[]\n",
    "{\n",
    "    new Student(1, \"1\", 90),\n",
    "    new Student(StudentId: 2, StudentName: \"2\", LastAverageScore: 80),\n",
    "    new Student(3, \"1\", LastAverageScore: 95)\n",
    "};\n",
    "\n",
    "Array.Sort(students, new StudentScoreComparer());\n",
    "students"
   ]
  },
  {
   "cell_type": "code",
   "execution_count": null,
   "metadata": {
    "dotnet_interactive": {
     "language": "csharp"
    },
    "polyglot_notebook": {
     "kernelName": "csharp"
    },
    "vscode": {
     "languageId": "polyglot-notebook"
    }
   },
   "outputs": [],
   "source": [
    "record Student(int StudentId, string StudentName, int LastAverageScore);\n",
    "\n",
    "var students = new Student[]\n",
    "{\n",
    "    new Student(1, \"1\", 90),\n",
    "    new Student(StudentId: 2, StudentName: \"2\", LastAverageScore: 80),\n",
    "    new Student(3, \"1\", LastAverageScore: 95)\n",
    "};\n",
    "\n",
    "// Student[] is IEnumerable and Linq can work on IEnumerables\n",
    "students.OrderByDescending(s => s.LastAverageScore).ToArray()"
   ]
  },
  {
   "cell_type": "code",
   "execution_count": null,
   "metadata": {
    "dotnet_interactive": {
     "language": "csharp"
    },
    "polyglot_notebook": {
     "kernelName": "csharp"
    },
    "vscode": {
     "languageId": "polyglot-notebook"
    }
   },
   "outputs": [],
   "source": [
    "record Student(int StudentId, string StudentName, int LastAverageScore);\n",
    "\n",
    "var students = new Student[]\n",
    "{\n",
    "    new Student(1, \"1\", 90),\n",
    "    new Student(StudentId: 2, StudentName: \"2\", LastAverageScore: 80),\n",
    "    new Student(3, \"1\", LastAverageScore: 95)\n",
    "};\n",
    "\n",
    "var q = from s in students\n",
    "        orderby s.LastAverageScore descending\n",
    "        select s;\n",
    "\n",
    "q.ToArray()"
   ]
  },
  {
   "cell_type": "markdown",
   "metadata": {},
   "source": [
    "## Interesting Interfaces in Base Class Library (BCL)"
   ]
  },
  {
   "cell_type": "markdown",
   "metadata": {},
   "source": [
    "- IComparable and IComparer ✅\n",
    "- IEquatable ✅\n",
    "- IDisposable ✅\n",
    "- IEnumerable and IEnumerator ✅\n",
    "- 👉 IObservable<T>\n",
    "- 👉 IQueryable \n",
    "- INotifyPropertyChanged ✅\n",
    "- INotifyCollectionChanged ✅"
   ]
  },
  {
   "cell_type": "markdown",
   "metadata": {},
   "source": [
    "# .NET Break"
   ]
  },
  {
   "cell_type": "markdown",
   "metadata": {},
   "source": [
    "## Binary Tree"
   ]
  },
  {
   "cell_type": "markdown",
   "metadata": {},
   "source": [
    "__Session 2__\n",
    "- Back then it was just to make you guys feel \"awww how sweet\"; but now you should be able to implement such stuff in similar no nonsense 'C# way' 😁"
   ]
  },
  {
   "cell_type": "markdown",
   "metadata": {},
   "source": [
    "## JiraWorklogs"
   ]
  },
  {
   "cell_type": "code",
   "execution_count": null,
   "metadata": {
    "dotnet_interactive": {
     "language": "value"
    },
    "polyglot_notebook": {
     "kernelName": "value"
    },
    "vscode": {
     "languageId": "polyglot-notebook"
    }
   },
   "outputs": [],
   "source": [
    "using System.Collections.Generic;\n",
    "\n",
    "class WorklogDictionary : Dictionary<string, Dictionary<int, long>>\n",
    "{\n",
    "    // it also had another internal structure for lookup that we later used for HTML generation\n",
    "\n",
    "    // ctor to prepopulat to avoid nulls/simple consumer code\n",
    "}\n",
    "\n",
    "var dic = new WorklogDictionary(Month);\n",
    "\n",
    "dic.Add(\"khurram@uworx\", .. );\n",
    "//we could just enumerate and straight forwardly added things into our dictionary\n",
    "// keeping it or discarding it; if employee is ours were internally managed (encapsulated)\n",
    "\n",
    "dic[\"khurram@uworx\"][1].Add(8 * 60 * 60, \"AA-1001\");  // khurram worked 8hrs on 1st"
   ]
  },
  {
   "cell_type": "markdown",
   "metadata": {},
   "source": [
    "# Generic Maths 🧮"
   ]
  },
  {
   "cell_type": "markdown",
   "metadata": {},
   "source": [
    "<img src=images/generic-maths.png>"
   ]
  },
  {
   "cell_type": "code",
   "execution_count": null,
   "metadata": {
    "dotnet_interactive": {
     "language": "csharp"
    },
    "polyglot_notebook": {
     "kernelName": "csharp"
    },
    "vscode": {
     "languageId": "polyglot-notebook"
    }
   },
   "outputs": [],
   "source": [
    "using System.Numerics;\n",
    "\n",
    "T Add<T>(T left, T right) where T : INumber<T>\n",
    "{\n",
    "    return left + right;\n",
    "}\n",
    "\n",
    "Add(2, 3)"
   ]
  },
  {
   "cell_type": "code",
   "execution_count": null,
   "metadata": {
    "dotnet_interactive": {
     "language": "csharp"
    },
    "polyglot_notebook": {
     "kernelName": "csharp"
    },
    "vscode": {
     "languageId": "polyglot-notebook"
    }
   },
   "outputs": [],
   "source": [
    "using System.Numerics;\n",
    "\n",
    "T KahanSum<T>(IEnumerable<T> numbers) where T : INumber<T>\n",
    "{\n",
    "    T sum = T.Zero;\n",
    "    T c = T.Zero; // A running compensation for lost low-order bits.\n",
    "    foreach (var number in numbers)\n",
    "    {\n",
    "        T y = number - c;       // So far, so good: c is zero.\n",
    "        T t = sum + y;          // Alas, sum is big, y small, so low-order digits of y are lost.\n",
    "        c = (t - sum) - y;      // (t - sum) recovers the high-order part of y; subtracting y recovers -(low part of y)\n",
    "        sum = t;                // Algebraically, c should always be zero. Beware overly-aggressive optimizing compilers!\n",
    "        // Next time around, the lost low part will be added to y in a fresh attempt.\n",
    "    }\n",
    "    return sum;\n",
    "}\n",
    "\n",
    "KahanSum(Enumerable.Range(0, 10).Select(i => 0.1))"
   ]
  },
  {
   "cell_type": "markdown",
   "metadata": {},
   "source": [
    "__Further Readings__\n",
    "- https://learn.microsoft.com/en-us/dotnet/standard/generics/math\n",
    "- https://en.wikipedia.org/wiki/Kahan_summation_algorithm\n",
    "- https://github.com/DragonSpit/HPCsharp"
   ]
  },
  {
   "cell_type": "markdown",
   "metadata": {},
   "source": [
    "# The Decimal"
   ]
  },
  {
   "cell_type": "markdown",
   "metadata": {},
   "source": [
    "- https://learn.microsoft.com/en-us/dotnet/csharp/language-reference/builtin-types/floating-point-numeric-types 👈\n",
    "    - decimal is 128bits / 16bytes\n",
    "    - BigDecimal and BigInteger of Java\n",
    "        - https://learn.microsoft.com/en-us/dotnet/api/system.numerics.biginteger; its 128bits / 16bytes\n",
    "        - https://en.wikipedia.org/wiki/Arbitrary-precision_arithmetic 👈\n",
    "            - https://github.com/deveel/deveel-math 🎁\n"
   ]
  },
  {
   "cell_type": "code",
   "execution_count": null,
   "metadata": {
    "dotnet_interactive": {
     "language": "csharp"
    },
    "polyglot_notebook": {
     "kernelName": "csharp"
    },
    "vscode": {
     "languageId": "polyglot-notebook"
    }
   },
   "outputs": [],
   "source": [
    "decimal total = 0.0M;\n",
    "for (int i = 0; i < 10; i++)\n",
    "    total += 0.1M;\n",
    "Console.WriteLine($\"Expected Result: 1.0\\nActual Result: {total}\");"
   ]
  },
  {
   "cell_type": "markdown",
   "metadata": {},
   "source": [
    "- Literals: l and L for long, f or F for float, d or D for doubles, m or M for decimal"
   ]
  },
  {
   "cell_type": "code",
   "execution_count": null,
   "metadata": {
    "dotnet_interactive": {
     "language": "csharp"
    },
    "polyglot_notebook": {
     "kernelName": "csharp"
    },
    "vscode": {
     "languageId": "polyglot-notebook"
    }
   },
   "outputs": [],
   "source": [
    "var i  = 1;     // int\n",
    "var ui = 1U;    // uint\n",
    "\n",
    "var d  = 1.0d;  // double\n",
    "var d0 = 1.0;   // double\n",
    "var d1 = 1e+3;  // double\n",
    "var d2 = 1e-3;  // double\n",
    "\n",
    "var ul = 1UL;   // ulong\n",
    "var l  = 1L;    // long\n",
    "\n",
    "var f  = 1.0f;  // float\n",
    "\n",
    "var m  = 1.0m;  // decimal"
   ]
  }
 ],
 "metadata": {
  "kernelspec": {
   "display_name": ".NET (C#)",
   "language": "C#",
   "name": ".net-csharp"
  },
  "language_info": {
   "name": "python",
   "version": "3.12.2"
  },
  "polyglot_notebook": {
   "kernelInfo": {
    "defaultKernelName": "csharp",
    "items": [
     {
      "aliases": [],
      "name": "csharp"
     },
     {
      "aliases": [],
      "languageName": "python",
      "name": "pythonkernel"
     }
    ]
   }
  }
 },
 "nbformat": 4,
 "nbformat_minor": 2
}
