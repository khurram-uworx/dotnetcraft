{
 "cells": [
  {
   "cell_type": "markdown",
   "metadata": {},
   "source": [
    "# 🧮 Java Functional Interfaces"
   ]
  },
  {
   "cell_type": "markdown",
   "metadata": {},
   "source": [
    "- What Action and Func family of delegates are doing\n",
    "- Composability through methods like apply, before, after, andThen and compose"
   ]
  },
  {
   "cell_type": "code",
   "execution_count": null,
   "metadata": {
    "dotnet_interactive": {
     "language": "javascript"
    },
    "polyglot_notebook": {
     "kernelName": "javascript"
    },
    "vscode": {
     "languageId": "polyglot-notebook"
    }
   },
   "outputs": [],
   "source": [
    "Function<Integer, Integer> addOne = x -> x + 1;\n",
    "Function<Integer, Integer> multiplyByTwo = x -> x * 2;\n",
    "\n",
    "Function<Integer, Integer> combined = addOne.andThen(multiplyByTwo);\n",
    "\n",
    "int result = combined.apply(3); // Result: (3 + 1) * 2 = 8"
   ]
  },
  {
   "cell_type": "code",
   "execution_count": null,
   "metadata": {
    "dotnet_interactive": {
     "language": "csharp"
    },
    "polyglot_notebook": {
     "kernelName": "csharp"
    },
    "vscode": {
     "languageId": "polyglot-notebook"
    }
   },
   "outputs": [],
   "source": [
    "Func<int, int> addOne = x => x + 1;\n",
    "Func<int, int> multiplyByTwo = x => x * 2;\n",
    "\n",
    "Func<int, int> combined = x => multiplyByTwo(addOne(x));\n",
    "\n",
    "Func<int, int> combinedBetter = x =>\n",
    "{\n",
    "    x = addOne(x);\n",
    "    return multiplyByTwo(x);\n",
    "};\n",
    "\n",
    "combinedBetter(3)"
   ]
  },
  {
   "cell_type": "code",
   "execution_count": null,
   "metadata": {
    "dotnet_interactive": {
     "language": "csharp"
    },
    "polyglot_notebook": {
     "kernelName": "csharp"
    },
    "vscode": {
     "languageId": "polyglot-notebook"
    }
   },
   "outputs": [],
   "source": [
    "public static Func<T, TResult> AndThen<T, TIntermediate, TResult>(this Func<T, TIntermediate> first,\n",
    "        Func<TIntermediate, TResult> second) => x => second(first(x));\n",
    "\n",
    "Func<int, int> addOne = x => x + 1;\n",
    "Func<int, int> multiplyByTwo = x => x * 2;\n",
    "\n",
    "var combined = addOne.AndThen(multiplyByTwo);\n",
    "\n",
    "combined(3)"
   ]
  },
  {
   "cell_type": "markdown",
   "metadata": {},
   "source": [
    "And if we want to further deep we have some cool nugets\n",
    "\n",
    "- https://github.com/MewsSystems/FuncSharp\n",
    "- https://github.com/louthy/language-ext"
   ]
  },
  {
   "cell_type": "markdown",
   "metadata": {},
   "source": [
    "# ❓Did you know"
   ]
  },
  {
   "cell_type": "markdown",
   "metadata": {},
   "source": [
    "We can use throw as an expression"
   ]
  },
  {
   "cell_type": "code",
   "execution_count": null,
   "metadata": {
    "dotnet_interactive": {
     "language": "csharp"
    },
    "polyglot_notebook": {
     "kernelName": "csharp"
    },
    "vscode": {
     "languageId": "polyglot-notebook"
    }
   },
   "outputs": [],
   "source": [
    "// the conditional operator\n",
    "string[] args = null;\n",
    "string first = args.Length >= 1 \n",
    "    ? args[0]\n",
    "    : throw new ArgumentException(\"Please supply at least one argument\");\n",
    "\n",
    "// the null-coalescing operator\n",
    "string name;\n",
    "string Name\n",
    "{\n",
    "    get => name;\n",
    "    set => name = value ??\n",
    "        throw new ArgumentNullException(paramName: nameof(value), message: \"Name cannot be null\");\n",
    "}\n",
    "\n",
    "// expression bodied lambda\n",
    "DateTime ToDateTime(IFormatProvider provider) =>\n",
    "    throw new InvalidCastException(\"Conversion to a DateTime is not supported\");"
   ]
  },
  {
   "cell_type": "markdown",
   "metadata": {},
   "source": [
    "# 🔢Indexers"
   ]
  },
  {
   "cell_type": "code",
   "execution_count": null,
   "metadata": {
    "dotnet_interactive": {
     "language": "csharp"
    },
    "polyglot_notebook": {
     "kernelName": "csharp"
    },
    "vscode": {
     "languageId": "polyglot-notebook"
    }
   },
   "outputs": [],
   "source": [
    "class HundredCollection<T>\n",
    "{\n",
    "   T[] arr = new T[100];\n",
    "   int nextIndex = 0;\n",
    "\n",
    "   public T this[int i] => arr[i];\n",
    "\n",
    "   public void Add(T value)\n",
    "   {\n",
    "      if (nextIndex >= arr.Length)\n",
    "         throw new IndexOutOfRangeException($\"The collection can hold only {arr.Length} elements.\");\n",
    "      arr[nextIndex++] = value;\n",
    "   }\n",
    "}\n",
    "\n",
    "var hundredNumbers = new HundredCollection<int>();\n",
    "hundredNumbers.Add(100);\n",
    "hundredNumbers[1]       // any guesses what value it will be holding at index 1 ?"
   ]
  },
  {
   "cell_type": "markdown",
   "metadata": {},
   "source": [
    "<img src=images/chess-board.jpg width=300>"
   ]
  },
  {
   "cell_type": "code",
   "execution_count": null,
   "metadata": {
    "dotnet_interactive": {
     "language": "csharp"
    },
    "polyglot_notebook": {
     "kernelName": "csharp"
    },
    "vscode": {
     "languageId": "polyglot-notebook"
    }
   },
   "outputs": [],
   "source": [
    "enum ChessPieceColor { White, Black }\n",
    "enum ChessPieceType { Pawn, Rook, Knight, Bishop, Queen, King }\n",
    "record ChessPiece(ChessPieceColor Color, ChessPieceType Type);\n",
    "\n",
    "class ChessBoard\n",
    "{\n",
    "    ChessPiece[,] board = new ChessPiece[8, 8];\n",
    "\n",
    "    public ChessPiece this[string square]\n",
    "    {\n",
    "        get\n",
    "        {\n",
    "            int row = 8 - int.Parse(square[1].ToString());\n",
    "            int column = square[0] - 'a';\n",
    "\n",
    "            if (row >= 0 && row < 8 && column >= 0 && column < 8)\n",
    "                return board[row, column];\n",
    "            else\n",
    "                throw new ArgumentOutOfRangeException($\"Invalid square: {square}\");\n",
    "        }\n",
    "        set\n",
    "        {\n",
    "            int row = 8 - int.Parse(square[1].ToString());\n",
    "            int column = square[0] - 'a';\n",
    "\n",
    "            if (row >= 0 && row < 8 && column >= 0 && column < 8)\n",
    "                board[row, column] = value;\n",
    "            else\n",
    "                throw new ArgumentOutOfRangeException($\"Invalid square: {square}\");\n",
    "        }\n",
    "    }\n",
    "}\n",
    "\n",
    "var board = new ChessBoard();\n",
    "\n",
    "// Placing pieces on the board\n",
    "board[\"e2\"] = new ChessPiece(ChessPieceColor.White, ChessPieceType.Pawn);\n",
    "board[\"d7\"] = new ChessPiece(ChessPieceColor.Black, ChessPieceType.Pawn);\n",
    "\n",
    "// Moving the piece on the board\n",
    "board[\"e4\"] = board[\"e2\"];\n",
    "board[\"e2\"] = null;"
   ]
  },
  {
   "cell_type": "markdown",
   "metadata": {},
   "source": [
    "__Resources__\n",
    "- https://learn.microsoft.com/en-us/dotnet/csharp/programming-guide/indexers"
   ]
  },
  {
   "cell_type": "markdown",
   "metadata": {},
   "source": [
    "# 🎁Namespace of the Day"
   ]
  },
  {
   "cell_type": "markdown",
   "metadata": {},
   "source": [
    "## System.Collections.Frozen"
   ]
  },
  {
   "cell_type": "markdown",
   "metadata": {},
   "source": [
    "__Immutable Collections__\n",
    "- Collections that cannot be modified after they are created. Any modification operation returns a new collection with the modification applied, leaving the original collection unchanged\n",
    "- Ideal for scenarios where collections are shared across multiple threads and need to be accessed in a thread-safe manner without the overhead of locks\n",
    "- Immutable collections are designed to optimize the creation of new versions of the collection. This often involves sharing as much of the underlying data as possible with the original collection to minimize memory usage and copying overhead\n",
    "\n",
    "__Frozen Collections__\n",
    "- These collections are mutable during creation but become fixed (frozen) once their creation is complete. After freezing, the collection cannot be modified.\n",
    "    - Once the Freeze method is called, the collection becomes immutable, and any further attempts to modify it will throw an exception.\n",
    "- Best suited for collections that are constructed once and then used for lookups or iteration without modification. They provide optimized performance for lookup operations after the collection is frozen.\n",
    "- Frozen collections are highly optimized for read operations, especially lookups. They can use more efficient data structures internally since the collection's size and contents are known to be fixed after freezing.\n"
   ]
  },
  {
   "cell_type": "code",
   "execution_count": null,
   "metadata": {
    "dotnet_interactive": {
     "language": "csharp"
    },
    "polyglot_notebook": {
     "kernelName": "csharp"
    },
    "vscode": {
     "languageId": "polyglot-notebook"
    }
   },
   "outputs": [],
   "source": [
    "using System.Collections.Immutable;\n",
    "using System.Collections.Frozen;\n",
    "\n",
    "var immutableList = ImmutableList.Create<int>();\n",
    "var newList = immutableList.Add(1); // immutableList remains unchanged\n",
    "\n",
    "var list = new List<int> { 1, 2, 3 };\n",
    "var frozenSet = list.ToFrozenSet(); // frozenSet is now immutable"
   ]
  },
  {
   "cell_type": "markdown",
   "metadata": {},
   "source": [
    "# 🧵System.Threading.Tasks"
   ]
  },
  {
   "cell_type": "markdown",
   "metadata": {},
   "source": [
    "## 1- Threading 101 Recap"
   ]
  },
  {
   "cell_type": "code",
   "execution_count": null,
   "metadata": {
    "dotnet_interactive": {
     "language": "javascript"
    },
    "polyglot_notebook": {
     "kernelName": "javascript"
    },
    "vscode": {
     "languageId": "polyglot-notebook"
    }
   },
   "outputs": [],
   "source": [
    "// Java\n",
    "Thread t = new Thread(new Runnable() { // Runnable is functional interface; we are declaring an anonymous inner class\n",
    "    public void run() {\n",
    "        // do something\n",
    "    }\n",
    "});\n",
    "\n",
    "t.start();\n",
    "// do something else\n",
    "t.join();"
   ]
  },
  {
   "cell_type": "code",
   "execution_count": null,
   "metadata": {
    "dotnet_interactive": {
     "language": "csharp"
    },
    "polyglot_notebook": {
     "kernelName": "csharp"
    },
    "vscode": {
     "languageId": "polyglot-notebook"
    }
   },
   "outputs": [],
   "source": [
    "using System.Threading;\n",
    "\n",
    "var thread = new Thread(() =>       // this is ThreadStart with inference; ThreadStart is delegate\n",
    "{\n",
    "    // do something\n",
    "});\n",
    "\n",
    "thread.Start();\n",
    "// do something else\n",
    "thread.Join();"
   ]
  },
  {
   "cell_type": "markdown",
   "metadata": {},
   "source": [
    "## 2- System.Threading.Tasks"
   ]
  },
  {
   "cell_type": "markdown",
   "metadata": {},
   "source": [
    "System.Threading.Tasks was introduced in .NET 4\n",
    "- Task based modern APIs \n",
    "- Parallel Programming Features were introduced\n",
    "- *Async Programming came later in .NET 4.5 (Windows Phone / Windows 8)* that continued to build upon Tasks API"
   ]
  },
  {
   "cell_type": "code",
   "execution_count": null,
   "metadata": {
    "dotnet_interactive": {
     "language": "csharp"
    },
    "polyglot_notebook": {
     "kernelName": "csharp"
    },
    "vscode": {
     "languageId": "polyglot-notebook"
    }
   },
   "outputs": [],
   "source": [
    "using static System.Console;\n",
    "using static System.DateTime;\n",
    "using System.Threading.Tasks;\n",
    "\n",
    "var task1 = Task.Factory.StartNew(() => Task.Delay(3000));\n",
    "var task2 = Task.Run(() => Task.Delay(5000));\n",
    "// There's Thread.Sleep; its used with classic Threading API\n",
    "// Task.Delay can be awaited but lets discuss async await later\n",
    "\n",
    "WriteLine(Now);\n",
    "Task.WaitAll(task1, task2); // we should complete these tasks in 5s\n",
    "WriteLine(Now);"
   ]
  },
  {
   "cell_type": "code",
   "execution_count": null,
   "metadata": {
    "dotnet_interactive": {
     "language": "csharp"
    },
    "polyglot_notebook": {
     "kernelName": "csharp"
    },
    "vscode": {
     "languageId": "polyglot-notebook"
    }
   },
   "outputs": [],
   "source": [
    "using System.Threading;\n",
    "using System.Threading.Tasks;\n",
    "\n",
    "var task1 = Task.Run(() => \n",
    "{\n",
    "    Task.Delay(2000).Wait();\n",
    "    return 5;\n",
    "});\n",
    "\n",
    "var task2 = task1.ContinueWith(t1 => \n",
    "{\n",
    "    //t1.IsCompletedSuccessfully\n",
    "    //t1.IsFaulted\n",
    "    //t1.Exception\n",
    "    Console.WriteLine($\"Task 2; from 1 we got {t1.Result}\");\n",
    "});\n",
    "\n",
    "task2.Wait();"
   ]
  },
  {
   "cell_type": "markdown",
   "metadata": {},
   "source": [
    "__Resources__\n",
    "- https://learn.microsoft.com/en-us/dotnet/standard/parallel-programming/task-based-asynchronous-programming 👈"
   ]
  },
  {
   "cell_type": "markdown",
   "metadata": {},
   "source": [
    "## 3- Debouncing"
   ]
  },
  {
   "cell_type": "markdown",
   "metadata": {},
   "source": [
    "- Higher Order Function\n",
    "- Task"
   ]
  },
  {
   "cell_type": "code",
   "execution_count": null,
   "metadata": {
    "dotnet_interactive": {
     "language": "csharp"
    },
    "polyglot_notebook": {
     "kernelName": "csharp"
    },
    "vscode": {
     "languageId": "polyglot-notebook"
    }
   },
   "outputs": [],
   "source": [
    "using static System.Console;\n",
    "using System.Threading;\n",
    "using System.Threading.Tasks;\n",
    "\n",
    "static Action<T> Debounce<T>(Action<T> func, int milliseconds = 300)\n",
    "{\n",
    "    var last = 0;\n",
    "    return arg =>\n",
    "    {\n",
    "        var current = Interlocked.Increment(ref last);\n",
    "        Task.Delay(milliseconds).ContinueWith(task =>\n",
    "        {\n",
    "            if (current == last) func(arg);\n",
    "            task.Dispose();\n",
    "        });\n",
    "    };\n",
    "}\n",
    "\n",
    "Action<string> search = input => WriteLine($\"Searching {input}\");\n",
    "Action<string> debouncedSearch = Debounce<string>(s => search(s), 500);\n",
    "\n",
    "debouncedSearch(\"Go\");\n",
    "debouncedSearch(\"Goog\");\n",
    "debouncedSearch(\"Google\");\n",
    "\n",
    "// giving the debounced function time to complete\n",
    "Thread.Sleep(1000);"
   ]
  },
  {
   "cell_type": "markdown",
   "metadata": {},
   "source": [
    "- Currying"
   ]
  },
  {
   "cell_type": "code",
   "execution_count": null,
   "metadata": {
    "dotnet_interactive": {
     "language": "csharp"
    },
    "polyglot_notebook": {
     "kernelName": "csharp"
    },
    "vscode": {
     "languageId": "polyglot-notebook"
    }
   },
   "outputs": [],
   "source": [
    "static Func<Action<T>, Action<T>> CurriedDebounce<T>(int milliseconds = 300) =>\n",
    "    func => Debounce(func, milliseconds);\n",
    "\n",
    "Action<string> search = input => WriteLine($\"Searching {input}\");\n",
    "var debouncer = CurriedDebounce<string>(300); //debouncer is a function\n",
    "var debouncedSearch = debouncer(search);\n",
    "\n",
    "debouncedSearch(\"Go\");\n",
    "debouncedSearch(\"Goog\");\n",
    "debouncedSearch(\"Google\");\n",
    "\n",
    "// giving the debounced function time to complete\n",
    "Thread.Sleep(1000);"
   ]
  }
 ],
 "metadata": {
  "kernelspec": {
   "display_name": ".NET (C#)",
   "language": "C#",
   "name": ".net-csharp"
  },
  "language_info": {
   "name": "python",
   "version": "3.11.4"
  },
  "polyglot_notebook": {
   "kernelInfo": {
    "defaultKernelName": "csharp",
    "items": [
     {
      "aliases": [],
      "languageName": "csharp",
      "name": "csharp"
     }
    ]
   }
  }
 },
 "nbformat": 4,
 "nbformat_minor": 2
}
