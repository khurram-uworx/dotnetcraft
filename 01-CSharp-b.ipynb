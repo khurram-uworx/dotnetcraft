{
 "cells": [
  {
   "cell_type": "markdown",
   "metadata": {},
   "source": [
    "# Revision🧾"
   ]
  },
  {
   "cell_type": "markdown",
   "metadata": {},
   "source": [
    "- WarningsAsErrors in Project Settings for Nullable\n",
    "- 👉 We cant have this feature straight away in older .NET Framework and .NET Standard projects; but there's a way that we will discuss\n",
    "\n",
    "__Moving On__\n",
    "- if setting is missing in configuration file; ConfigurationManager.AppSettings[\"Setting-Name\"] API returns null"
   ]
  },
  {
   "cell_type": "code",
   "execution_count": null,
   "metadata": {
    "dotnet_interactive": {
     "language": "csharp"
    },
    "polyglot_notebook": {
     "kernelName": "csharp"
    },
    "vscode": {
     "languageId": "polyglot-notebook"
    }
   },
   "outputs": [],
   "source": [
    "string flagDoMagic = null;\n",
    "bool doMagic = Convert.ToBoolean(flagDoMagic);\n",
    "doMagic"
   ]
  },
  {
   "cell_type": "code",
   "execution_count": null,
   "metadata": {
    "dotnet_interactive": {
     "language": "csharp"
    },
    "polyglot_notebook": {
     "kernelName": "csharp"
    },
    "vscode": {
     "languageId": "polyglot-notebook"
    }
   },
   "outputs": [],
   "source": [
    "bool b = Convert.ToBoolean(null);\n",
    "\n",
    "bool f1 = Convert.ToBoolean(0);\n",
    "//bool f2 = Convert.ToBoolean(\"0\"); // fails with FormatException\n",
    "bool f3 = Convert.ToBoolean(\"false\");\n",
    "bool f4 = Convert.ToBoolean(\"False\");\n",
    "\n",
    "bool t1 = Convert.ToBoolean(1);\n",
    "//bool t2 = Convert.ToBoolean(\"1\"); // fails with FormatException\n",
    "bool t3 = Convert.ToBoolean(\"true\");\n",
    "bool t4 = Convert.ToBoolean(\"True\");\n",
    "\n",
    "Console.WriteLine(f1 || f3 || f4);\n",
    "Console.WriteLine(t1 && t3 && t4);"
   ]
  },
  {
   "cell_type": "code",
   "execution_count": null,
   "metadata": {
    "dotnet_interactive": {
     "language": "csharp"
    },
    "polyglot_notebook": {
     "kernelName": "csharp"
    },
    "vscode": {
     "languageId": "polyglot-notebook"
    }
   },
   "outputs": [],
   "source": [
    "record Person(string FirstName, string LastName, int Age);\n",
    "\n",
    "var list = new List<Person>();\n",
    "list.Add(new Person(\"Khurram\", \"Aziz\", 46));\n",
    "list.Add(null);\n",
    "list.Add(new Person(\"Fresh\", \"Internee\", 23));\n",
    "\n",
    "//int totalAge = list.Sum(p => p.Age); // will fail with NullReferenceException\n",
    "int totalAge1 = list.Sum(p => null != p ? p.Age : 0);\n",
    "int totalAge2 = list.Sum(p => p?.Age ?? 0); // the lamda exceptions int return type; if p is null we need some value\n",
    "\n",
    "totalAge1 == totalAge2 && totalAge1 == 46 + 23"
   ]
  },
  {
   "cell_type": "markdown",
   "metadata": {},
   "source": [
    "# Using 🔥"
   ]
  },
  {
   "cell_type": "markdown",
   "metadata": {},
   "source": [
    "- Last time we saw how Case Sensitity is put to good use (Pascal and camel Casing)\n",
    "- { } languages and Code Block is put to good use"
   ]
  },
  {
   "cell_type": "code",
   "execution_count": null,
   "metadata": {
    "dotnet_interactive": {
     "language": "csharp"
    },
    "polyglot_notebook": {
     "kernelName": "csharp"
    },
    "vscode": {
     "languageId": "polyglot-notebook"
    }
   },
   "outputs": [],
   "source": [
    "void Something()\n",
    "{\n",
    "    int i = 5;\n",
    "}\n",
    "\n",
    "void SomethingElse()\n",
    "{\n",
    "    string i = \"Something\";\n",
    "}"
   ]
  },
  {
   "cell_type": "code",
   "execution_count": null,
   "metadata": {
    "dotnet_interactive": {
     "language": "csharp"
    },
    "polyglot_notebook": {
     "kernelName": "csharp"
    },
    "vscode": {
     "languageId": "polyglot-notebook"
    }
   },
   "outputs": [],
   "source": [
    "{\n",
    "    int i = 5;\n",
    "    Console.WriteLine(i);\n",
    "}\n",
    "\n",
    "{\n",
    "    string i = \"Something\";\n",
    "    Console.WriteLine(i);\n",
    "}"
   ]
  },
  {
   "cell_type": "markdown",
   "metadata": {},
   "source": [
    "- Disposable Pattern"
   ]
  },
  {
   "cell_type": "code",
   "execution_count": null,
   "metadata": {
    "dotnet_interactive": {
     "language": "csharp"
    },
    "polyglot_notebook": {
     "kernelName": "csharp"
    },
    "vscode": {
     "languageId": "polyglot-notebook"
    }
   },
   "outputs": [],
   "source": [
    "using System.IO;\n",
    "\n",
    "using (StreamWriter writer = File.CreateText(\"data.txt\"))\n",
    "{\n",
    "    writer.WriteLine(\"C# is cool\");\n",
    "}   // will call IDisposable::Dispose\n",
    "\n",
    "// using var reader = new StreamReader(\"data.txt\"); will not compile in notebook but works in project"
   ]
  },
  {
   "cell_type": "code",
   "execution_count": null,
   "metadata": {
    "dotnet_interactive": {
     "language": "csharp"
    },
    "polyglot_notebook": {
     "kernelName": "csharp"
    },
    "vscode": {
     "languageId": "polyglot-notebook"
    }
   },
   "outputs": [],
   "source": [
    "using static System.Console;        // bringing static methods in scope\n",
    "\n",
    "WriteLine(\"Hello World\");"
   ]
  },
  {
   "cell_type": "code",
   "execution_count": null,
   "metadata": {
    "dotnet_interactive": {
     "language": "csharp"
    },
    "polyglot_notebook": {
     "kernelName": "csharp"
    },
    "vscode": {
     "languageId": "polyglot-notebook"
    }
   },
   "outputs": [],
   "source": [
    "// global usings in project\n",
    "global using System;"
   ]
  },
  {
   "cell_type": "code",
   "execution_count": null,
   "metadata": {
    "dotnet_interactive": {
     "language": "csharp"
    },
    "polyglot_notebook": {
     "kernelName": "csharp"
    },
    "vscode": {
     "languageId": "polyglot-notebook"
    }
   },
   "outputs": [],
   "source": [
    "//aliasing types; useful when we have class name clashes; say Microsoft.User and UWorx.User\n",
    "using str = System.String;\n",
    "str j = \"Hello World\";\n",
    "\n",
    "//System.String k = \"Hello World\";"
   ]
  },
  {
   "cell_type": "code",
   "execution_count": null,
   "metadata": {
    "dotnet_interactive": {
     "language": "csharp"
    },
    "polyglot_notebook": {
     "kernelName": "csharp"
    },
    "vscode": {
     "languageId": "polyglot-notebook"
    }
   },
   "outputs": [],
   "source": [
    "//aliasing value tuples\n",
    "global using Coordinate = (int X, int Y);\n",
    "Coordinate start = (5, 10);\n",
    "Coordinate finish = (6, 12);"
   ]
  },
  {
   "cell_type": "markdown",
   "metadata": {},
   "source": [
    "# Seperating Responsibility 🤝"
   ]
  },
  {
   "cell_type": "markdown",
   "metadata": {},
   "source": [
    "## IEnumerable and IEnumerator\n",
    "__aka Visitor Pattern__"
   ]
  },
  {
   "cell_type": "markdown",
   "metadata": {},
   "source": [
    "<img src=images/patterns-visitor.jpg width=700><br>\n",
    "<img src=images/patterns-visitor-dotnet.jpg>"
   ]
  },
  {
   "cell_type": "code",
   "execution_count": null,
   "metadata": {
    "vscode": {
     "languageId": "polyglot-notebook"
    }
   },
   "outputs": [],
   "source": [
    "using System;\n",
    "using System.Collections;\n",
    "using System.Collections.Generic;\n",
    "\n",
    "class FibonacciEnumerator : IEnumerator<int>\n",
    "{\n",
    "    int current = 1;\n",
    "    int previous = 0;\n",
    "    int count = 0;\n",
    "\n",
    "    public int Current => current;\n",
    "\n",
    "    // we need to explicitly implement as IEnumerator<T> : IEnumerator\n",
    "    object IEnumerator.Current => Current;\n",
    "\n",
    "    public void Dispose() { }\n",
    "\n",
    "    public bool MoveNext()\n",
    "    {\n",
    "        if (count == 0)\n",
    "        {\n",
    "            count++;\n",
    "            return true;\n",
    "        }\n",
    "\n",
    "        int next = current + previous;\n",
    "        previous = current;\n",
    "        current = next;\n",
    "        count++;\n",
    "\n",
    "        return true;\n",
    "    }\n",
    "\n",
    "    public void Reset()\n",
    "    {\n",
    "        current = 1;\n",
    "        previous = 0;\n",
    "        count = 0;\n",
    "    }\n",
    "}\n",
    "\n",
    "class FibonacciSequence : IEnumerable<int>\n",
    "{\n",
    "    // the sequence dont need to hold anything\n",
    "\n",
    "    public IEnumerator<int> GetEnumerator()\n",
    "    {\n",
    "        return new FibonacciEnumerator();\n",
    "    }\n",
    "\n",
    "    IEnumerator IEnumerable.GetEnumerator()\n",
    "    {\n",
    "        return GetEnumerator();\n",
    "    }\n",
    "}"
   ]
  },
  {
   "cell_type": "code",
   "execution_count": null,
   "metadata": {
    "vscode": {
     "languageId": "polyglot-notebook"
    }
   },
   "outputs": [],
   "source": [
    "var sequence = new FibonacciSequence();\n",
    "\n",
    "foreach (int number in sequence)\n",
    "{\n",
    "    if (number > 100) break;\n",
    "    Console.WriteLine(number);\n",
    "}"
   ]
  },
  {
   "cell_type": "markdown",
   "metadata": {},
   "source": [
    "### The Dynamic Nature of C# Compiler"
   ]
  },
  {
   "cell_type": "code",
   "execution_count": null,
   "metadata": {
    "vscode": {
     "languageId": "polyglot-notebook"
    }
   },
   "outputs": [],
   "source": [
    "class StoryPoints\n",
    "{\n",
    "    public IEnumerator<int> GetEnumerator()\n",
    "    {\n",
    "        // local variables\n",
    "\n",
    "        yield return 1;\n",
    "        // we can have more logic\n",
    "        yield return 2;\n",
    "        yield return 3;\n",
    "        yield return 5;\n",
    "        yield return 8;\n",
    "    }\n",
    "}\n",
    "\n",
    "var validStoryPoints = new StoryPoints();\n",
    "foreach(var sp in validStoryPoints)\n",
    "    Console.WriteLine(sp);"
   ]
  },
  {
   "cell_type": "code",
   "execution_count": null,
   "metadata": {
    "vscode": {
     "languageId": "polyglot-notebook"
    }
   },
   "outputs": [],
   "source": [
    "IEnumerable<int> GetNumbers()\n",
    "{\n",
    "    // Create a list of integers\n",
    "    var list = new List<int> { -1, -4, 3, 5 };\n",
    "\n",
    "    Console.WriteLine(\"GetNumbers() called\");\n",
    "    \n",
    "    foreach (var number in list)\n",
    "    {\n",
    "        // Return positive numbers from myList\n",
    "        if (number >= 0)\n",
    "        {                               // Generators in modern Javascript\n",
    "            yield return number;        // Location of the code is preserved\n",
    "            Console.WriteLine($\".... for {number}\");  // This line gets executed on the next iteration\n",
    "        }\n",
    "    }\n",
    "}\n",
    "\n",
    "foreach(var number in GetNumbers())\n",
    "    Console.WriteLine($\"Result in Caller: {number}\");"
   ]
  },
  {
   "cell_type": "code",
   "execution_count": null,
   "metadata": {
    "vscode": {
     "languageId": "polyglot-notebook"
    }
   },
   "outputs": [],
   "source": [
    "record Person(string FirstName);\n",
    "\n",
    "Person[] GetPersons()\n",
    "{\n",
    "    return null;\n",
    "}\n",
    "\n",
    "\n",
    "IEnumerable<Person> GetPersons()\n",
    "{\n",
    "    return db.Persons.Where().ToArray();\n",
    "}"
   ]
  }
 ],
 "metadata": {
  "kernelspec": {
   "display_name": ".NET (C#)",
   "language": "C#",
   "name": ".net-csharp"
  },
  "language_info": {
   "name": "python"
  },
  "polyglot_notebook": {
   "kernelInfo": {
    "defaultKernelName": "csharp",
    "items": [
     {
      "aliases": [],
      "name": "csharp"
     },
     {
      "aliases": [],
      "languageName": "python",
      "name": "pythonkernel"
     }
    ]
   }
  }
 },
 "nbformat": 4,
 "nbformat_minor": 2
}
