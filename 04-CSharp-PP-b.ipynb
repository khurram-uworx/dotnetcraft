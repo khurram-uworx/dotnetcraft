{
 "cells": [
  {
   "cell_type": "markdown",
   "metadata": {},
   "source": [
    "# ⚡️Parallel Programming in .NET"
   ]
  },
  {
   "cell_type": "markdown",
   "metadata": {},
   "source": [
    "<img src=images/multi-cores.jpg>"
   ]
  },
  {
   "cell_type": "markdown",
   "metadata": {},
   "source": [
    "https://learn.microsoft.com/en-us/dotnet/api/system.threading 👈\n",
    "\n",
    "- Thread Management: Thread, ThreadStart, ParameterizedThreadStart\n",
    "- Task Parallel Library: Task, Task<T>, TaskCompletionSource<T>, Parallel, ParallelOption\n",
    "- Thread Pooling: ThreadPool\n",
    "- Synchronization Primitives: Monitor, Mutex, Semaphore, SemaphoreSlim, SpinLock, SpinWait\n",
    "    - Locking Primitives: ReaderWriteLock, ReaderWriterLockSlim, LockCookie\n",
    "    - Barrier\n",
    "    - CountdownEvent\n",
    "    - ManualResetEvent, ManualResetEventSlim, AutoResetEvent\n",
    "- Thread Signaling: Interlocked, Volatile\n",
    "- Timers: Timer\n",
    "- Thread Safety: ThreadLocal, LazyInitializer"
   ]
  },
  {
   "cell_type": "markdown",
   "metadata": {},
   "source": [
    "## 1- Threading Primitives"
   ]
  },
  {
   "cell_type": "code",
   "execution_count": null,
   "metadata": {
    "dotnet_interactive": {
     "language": "csharp"
    },
    "polyglot_notebook": {
     "kernelName": "csharp"
    },
    "vscode": {
     "languageId": "polyglot-notebook"
    }
   },
   "outputs": [],
   "source": [
    "//ThreadPool\n",
    "using static System.Console;\n",
    "\n",
    "void work(Object stateInfo) \n",
    "{\n",
    "    WriteLine(\"Hello from the thread pool.\");\n",
    "}\n",
    "\n",
    "ThreadPool.QueueUserWorkItem(work);\n",
    "WriteLine(\"Main thread does some work, then sleeps.\");\n",
    "Thread.Sleep(1000);\n",
    "\n",
    "WriteLine(\"Main thread exits.\");"
   ]
  },
  {
   "cell_type": "markdown",
   "metadata": {},
   "source": [
    "- https://learn.microsoft.com/en-us/archive/msdn-magazine/2006/march/net-matters-abortable-thread-pool 👈"
   ]
  },
  {
   "cell_type": "code",
   "execution_count": null,
   "metadata": {
    "dotnet_interactive": {
     "language": "csharp"
    },
    "polyglot_notebook": {
     "kernelName": "csharp"
    },
    "vscode": {
     "languageId": "polyglot-notebook"
    }
   },
   "outputs": [],
   "source": [
    "//LazyInitializer\n",
    "using System.Threading;\n",
    "\n",
    "class ExpensiveData { }\n",
    "\n",
    "ExpensiveData data = null;\n",
    "bool dataInitialized = false;  \n",
    "object dataLock = new object();  \n",
    "\n",
    "ExpensiveData dataToUse = LazyInitializer.EnsureInitialized(ref data, ref dataInitialized, ref dataLock);"
   ]
  },
  {
   "cell_type": "code",
   "execution_count": null,
   "metadata": {
    "dotnet_interactive": {
     "language": "csharp"
    },
    "polyglot_notebook": {
     "kernelName": "csharp"
    },
    "vscode": {
     "languageId": "polyglot-notebook"
    }
   },
   "outputs": [],
   "source": [
    "using System.Threading;\n",
    "\n",
    "readonly static object lockObject = new object(); // 👈 static?\n",
    "\n",
    "void work()\n",
    "{\n",
    "    lock (lockObject)\n",
    "    {\n",
    "        // Critical section code\n",
    "    }\n",
    "}\n",
    "\n",
    "void workUsingMonitor()\n",
    "{\n",
    "    Monitor.Enter(lockObject);\n",
    "    try\n",
    "    {\n",
    "        // Critical section code\n",
    "    }\n",
    "    finally\n",
    "    {\n",
    "        Monitor.Exit(lockObject);\n",
    "    }\n",
    "}"
   ]
  },
  {
   "cell_type": "code",
   "execution_count": null,
   "metadata": {
    "dotnet_interactive": {
     "language": "csharp"
    },
    "polyglot_notebook": {
     "kernelName": "csharp"
    },
    "vscode": {
     "languageId": "polyglot-notebook"
    }
   },
   "outputs": [],
   "source": [
    "var namedMutex = new Mutex(false, \"Global\\\\MyMutex\"); // OS level support is used"
   ]
  },
  {
   "cell_type": "markdown",
   "metadata": {},
   "source": [
    "- Mutex can be used; it put the waiting thread to sleep; while SpinWait keeps the thread \"spinning\"; if wait time is less; SpinWait is more efficient\n",
    "    - Mutex can be system wide (different applications doing synchronization)\n",
    "- Monitor is another thread synchronization primitive and is similar to Mutex but with more features; Wait/Pulse\n",
    "    - We have higher order language construct; lock which uses Monitor\n",
    "\n",
    "__Resources__\n",
    "- https://learn.microsoft.com/en-us/dotnet/standard/threading/overview-of-synchronization-primitives"
   ]
  },
  {
   "cell_type": "code",
   "execution_count": null,
   "metadata": {
    "dotnet_interactive": {
     "language": "csharp"
    },
    "polyglot_notebook": {
     "kernelName": "csharp"
    },
    "vscode": {
     "languageId": "polyglot-notebook"
    }
   },
   "outputs": [],
   "source": [
    "// SpinLock\n",
    "using System.Threading;\n",
    "\n",
    "var spinLock = new SpinLock();\n",
    "\n",
    "void work()\n",
    "{\n",
    "    bool lockTaken = false;\n",
    "\n",
    "    try\n",
    "    {\n",
    "        spinLock.Enter(ref lockTaken);\n",
    "\n",
    "        // Critical section\n",
    "        Console.WriteLine($\"Thread {Thread.CurrentThread.ManagedThreadId} is in the critical section.\");\n",
    "        Thread.Sleep(1000); // Simulate some work\n",
    "    }\n",
    "    finally\n",
    "    {\n",
    "        if (lockTaken)\n",
    "            spinLock.Exit();\n",
    "    }\n",
    "}\n",
    "\n",
    "var thread1 = new Thread(work);\n",
    "var thread2 = new Thread(work);\n",
    "\n",
    "thread1.Start();\n",
    "thread2.Start();\n",
    "\n",
    "thread1.Join();\n",
    "thread2.Join();"
   ]
  },
  {
   "cell_type": "markdown",
   "metadata": {},
   "source": [
    "- https://khurram-aziz.github.io/posts/net-4-barrier-class 👈"
   ]
  },
  {
   "cell_type": "code",
   "execution_count": null,
   "metadata": {
    "dotnet_interactive": {
     "language": "csharp"
    },
    "polyglot_notebook": {
     "kernelName": "csharp"
    },
    "vscode": {
     "languageId": "polyglot-notebook"
    }
   },
   "outputs": [],
   "source": [
    "//Barrier\n",
    "using System.Threading;\n",
    "\n",
    "var barrier = new Barrier(0, b => // initial participantt count for barrier plus the action performed when someone is added\n",
    "{\n",
    "    Console.WriteLine($\"{b.ParticipantCount} are going...\");\n",
    "});\n",
    "\n",
    "void friendLogic(int identifier)\n",
    "{\n",
    "    Console.WriteLine($\"{identifier} is interested\");\n",
    "    barrier.AddParticipant();\n",
    "\n",
    "    Thread.Sleep(1000);\n",
    "\n",
    "    if (identifier % 2 == 0)\n",
    "    {\n",
    "        Console.WriteLine($\"{identifier} is not interested anymore\");\n",
    "        barrier.RemoveParticipant();\n",
    "    }\n",
    "    else\n",
    "        barrier.SignalAndWait(); // we have reached and now waiting at barrier\n",
    "}\n",
    "\n",
    "var friend1 = Task.Run(() => friendLogic(1));\n",
    "var friend2 = Task.Run(() => friendLogic(2));\n",
    "var friend3 = Task.Run(() => friendLogic(3));\n",
    "var friend4 = Task.Run(() => friendLogic(4));\n",
    "var friend5 = Task.Run(() => friendLogic(5));\n",
    "\n",
    "Task.WaitAll(friend1, friend2, friend3, friend4, friend5);"
   ]
  },
  {
   "cell_type": "code",
   "execution_count": null,
   "metadata": {
    "dotnet_interactive": {
     "language": "csharp"
    },
    "polyglot_notebook": {
     "kernelName": "csharp"
    },
    "vscode": {
     "languageId": "polyglot-notebook"
    }
   },
   "outputs": [],
   "source": [
    "//Semaphore\n",
    "using static System.Console;\n",
    "using System.Threading;\n",
    "\n",
    "var semaphore = new SemaphoreSlim(3);\n",
    "\n",
    "void AccessResource(int taskNumber)\n",
    "{\n",
    "    WriteLine($\"Task {taskNumber} waiting to enter...\");\n",
    "    semaphore.Wait();\n",
    "\n",
    "    try\n",
    "    {\n",
    "        WriteLine($\"Task {taskNumber} has entered.\");\n",
    "        Thread.Sleep(1000); // Simulate some work\n",
    "        WriteLine($\"Task {taskNumber} is leaving.\");\n",
    "    }\n",
    "    finally\n",
    "    {\n",
    "        semaphore.Release();\n",
    "    }\n",
    "}\n",
    "\n",
    "var tasks = new Task[5];\n",
    "for (int i = 0; i < tasks.Length; i++)\n",
    "{\n",
    "    int taskNumber = i; // Capture the current value of i\n",
    "    tasks[i] = Task.Run(() => AccessResource(taskNumber));\n",
    "}\n",
    "\n",
    "Task.WaitAll(tasks);"
   ]
  },
  {
   "cell_type": "code",
   "execution_count": null,
   "metadata": {
    "dotnet_interactive": {
     "language": "value"
    },
    "polyglot_notebook": {
     "kernelName": "value"
    },
    "vscode": {
     "languageId": "polyglot-notebook"
    }
   },
   "outputs": [],
   "source": [
    "Illustration by GPT\n",
    "\n",
    "[Thread A] ----> | LOCK | ----> [Critical Section] ----> | UNLOCK | ----> [Thread A Continues]\n",
    "[Thread B] ----> | WAIT | (Blocked until Thread A finishes and unlocks)\n",
    "\n",
    "\n",
    "[Thread A] ----> [Checkpoint] --\\\n",
    "                                 \\\n",
    "[Thread B] ----> [Checkpoint] ----+----> [All Threads Proceed]\n",
    "                                 /\n",
    "[Thread C] ----> [Checkpoint] --/\n",
    "\n",
    "\n",
    "[Thread A] ----> | Semaphore (2) | ----> [Resource Access]\n",
    "[Thread B] ----> | Semaphore (2) | ----> [Resource Access]\n",
    "[Thread C] ----> | Semaphore Full (Waits) |\n",
    "(Semaphore count is 2, so only two threads can access the resource simultaneously)"
   ]
  },
  {
   "cell_type": "markdown",
   "metadata": {},
   "source": [
    "__Signalling__"
   ]
  },
  {
   "cell_type": "code",
   "execution_count": null,
   "metadata": {
    "dotnet_interactive": {
     "language": "csharp"
    },
    "polyglot_notebook": {
     "kernelName": "csharp"
    },
    "vscode": {
     "languageId": "polyglot-notebook"
    }
   },
   "outputs": [],
   "source": [
    "using System.Diagnostics;\n",
    "\n",
    "var stopwatch = new Stopwatch();\n",
    "stopwatch.Start();\n",
    "\n",
    "void print(string s) => Console.WriteLine($\"{stopwatch.Elapsed} - {s}\");\n",
    "\n",
    "int count = 3;\n",
    "var countdown = new CountdownEvent(count);\n",
    "\n",
    "for (int i = 0; i < count; i++)\n",
    "{\n",
    "    var taskNumber = i;     // we need to capture it; as when task will run; delegate will have most propably last number\n",
    "    _ = Task.Run(() =>      // Closure\n",
    "    {\n",
    "        print($\"Task {i} is starting.\");                // using i instead of taskNumber\n",
    "        Thread.Sleep(new Random().Next(1000, 3000));    // Simulating work\n",
    "        print($\"Task {taskNumber} is completed.\");\n",
    "        countdown.Signal(); // Signal that the task is done\n",
    "    });\n",
    "}\n",
    "\n",
    "print(\"Main thread is waiting for tasks to complete...\");\n",
    "countdown.Wait(); // Wait for all tasks to signal\n",
    "print(\"All tasks have completed. Main thread is resuming.\");\n",
    "\n",
    "stopwatch.Stop();\n"
   ]
  },
  {
   "cell_type": "markdown",
   "metadata": {},
   "source": [
    "- https://khurram-aziz.github.io/posts/net-4-countdownevent 👈\n",
    "- There are other signalling primitives; EventWaitHandle, AutoResetEvent, ManualResetEvent\n",
    "- Monitor has Wait and Pulse\n",
    "- https://arghya.xyz/articles/thread-synchronization-part-three"
   ]
  },
  {
   "cell_type": "markdown",
   "metadata": {},
   "source": [
    "## 2- Timers ⏰"
   ]
  },
  {
   "cell_type": "markdown",
   "metadata": {},
   "source": [
    "__System.Timers.Timer__\n",
    "- general-purpose; not tied to any specific UI framework\n",
    "- best suited for non-UI related tasks: background processing, data polling or scheduling\n",
    "\n",
    "__System.Windows.Forms.Timer__\n",
    "- specifically designed for Windows Forms applications\n",
    "- raised events are tied to the UI thread\n",
    "- best suited for UI related tasks; updating UI at regular intervals, animations or handling user inputs\n",
    "\n",
    "__System.Threading.Timer__\n",
    "- general-purpose; not tied to any specific UI framework\n",
    "- high resolution\n",
    "- best suited for real-time processing, network communication or asynchronous operations"
   ]
  },
  {
   "cell_type": "markdown",
   "metadata": {},
   "source": [
    "- System.Timers.Stopwatch"
   ]
  },
  {
   "cell_type": "markdown",
   "metadata": {},
   "source": [
    "## 3- Task Parallel Library"
   ]
  },
  {
   "cell_type": "code",
   "execution_count": null,
   "metadata": {
    "dotnet_interactive": {
     "language": "csharp"
    },
    "polyglot_notebook": {
     "kernelName": "csharp"
    },
    "vscode": {
     "languageId": "polyglot-notebook"
    }
   },
   "outputs": [],
   "source": [
    "using System.Threading.Tasks;\n",
    "\n",
    "//Run\n",
    "Task task1 = Task.Run(() => { /* Do work */ });\n",
    "// if we are not waiting / getting result; it will run in background\n",
    "\n",
    "//Result\n",
    "Task<int> task2 = Task.Run(() => { return 42; });\n",
    "int result = task2.Result; // .Result will block calling thread\n",
    "\n",
    "//FromResult\n",
    "Task<int> task3 = Task.FromResult(42);\n",
    "\n",
    "//FromException\n",
    "Task task4 = Task.FromException(new InvalidOperationException());\n",
    "\n",
    "//FromCancelled\n",
    "CancellationTokenSource cts = new CancellationTokenSource();\n",
    "Task task5 = Task.FromCanceled(cts.Token);\n",
    "\n",
    "TaskCompletionSource<int> tcs = new TaskCompletionSource<int>();\n",
    "Task<int> task6 = tcs.Task;\n",
    "// Later, when the result is available:\n",
    "tcs.SetResult(42); // waiting / blocking thread will get the result / completition\n",
    "\n",
    "//ContinueWith\n",
    "var task = Task.Run(() => {\n",
    "    // Do some work\n",
    "}).ContinueWith(t => {\n",
    "    // we can check completed, faulted, cancelled etc using t\n",
    "    // Continuation work\n",
    "});\n",
    "\n",
    "//Wait\n",
    "Task task11 = Task.Run(() => { /* Do work */ });\n",
    "task11.Wait();\n",
    "\n",
    "//WaitAll\n",
    "Task[] tasksWaitAll = { task1, task2, task3 };\n",
    "Task.WaitAll(tasksWaitAll);\n",
    "\n",
    "//WaitAny\n",
    "Task[] tasksWaitAny = { task1, task2, task3 };\n",
    "int completedTaskIndex = Task.WaitAny(tasksWaitAny);\n",
    "\n",
    "//Delay\n",
    "await Task.Delay(1000); // Waits for 1 second\n",
    "\n",
    "//WhenAll\n",
    "Task[] tasksWhenAll = { task1, task2, task3 };\n",
    "await Task.WhenAll(tasksWhenAll);\n",
    "\n",
    "//WhenAny\n",
    "Task[] tasksWhenAny = { task1, task2, task3 };\n",
    "Task firstCompleted = await Task.WhenAny(tasksWhenAny);"
   ]
  },
  {
   "cell_type": "markdown",
   "metadata": {},
   "source": [
    "__Difference between Wait and When__\n",
    "- Wait methods are blocking; When methods are non blocking and return another task that we can Wait\n",
    "- Wait methods are Synchronous; When methods are Asynchronous\n",
    "- Task Exception is propogated to calling thread; When methods return task so they can be used for Continuation"
   ]
  },
  {
   "cell_type": "markdown",
   "metadata": {},
   "source": [
    "__Execution Flow and Tasks__\n",
    "- 👉 Thread Pool is fire and forget\n",
    "    - We can implement Abortable Thread Pool; https://learn.microsoft.com/en-us/archive/msdn-magazine/2006/march/net-matters-abortable-thread-pool 👈\n",
    "    - https://github.com/topics/thread-pool?l=c%23\n",
    "- 👉 Task is \"started\" / \"running\" when you create / get it\n",
    "- 👉 Waiting appropriately: One has to Wait/Join/get result (optionally)\n",
    "- ✅ Task Composition / Continuations\n",
    "- ✅ Deadlock prevention\n",
    "- ✅ Exception Handling\n",
    "- ✅ Syncrhronization and Signalling Primitives\n",
    "- ⚠️ How many threads to run; queue everything and let system starve; jump start load\n",
    "    - Parallel class; Seperating Responsibility 🤝"
   ]
  },
  {
   "cell_type": "markdown",
   "metadata": {},
   "source": [
    "<img src=images/parallel-programming.png>"
   ]
  },
  {
   "cell_type": "code",
   "execution_count": null,
   "metadata": {
    "dotnet_interactive": {
     "language": "csharp"
    },
    "polyglot_notebook": {
     "kernelName": "csharp"
    },
    "vscode": {
     "languageId": "polyglot-notebook"
    }
   },
   "outputs": [],
   "source": [
    "using static System.Console;\n",
    "using static System.DateTime;\n",
    "\n",
    "using System.Threading;\n",
    "using System.Threading.Tasks;\n",
    "\n",
    "void work(int i)\n",
    "{\n",
    "    try // thread localized exception handling\n",
    "    {\n",
    "        Thread.Sleep(5000);\n",
    "    }\n",
    "    catch { }\n",
    "}\n",
    "\n",
    "WriteLine(Now);\n",
    "\n",
    "try // orchestration level exception handling\n",
    "{\n",
    "    Parallel.Invoke(    // Seperating Responsibility 🤝\n",
    "        () => work(0), () => work(1), () => work(2), () => work(3),\n",
    "        () => work(4), () => work(5), () => work(6), () => work(7)\n",
    "    );\n",
    "}\n",
    "catch { }\n",
    "\n",
    "WriteLine(Now); // should take slightly more than 5s"
   ]
  },
  {
   "cell_type": "code",
   "execution_count": null,
   "metadata": {
    "dotnet_interactive": {
     "language": "csharp"
    },
    "polyglot_notebook": {
     "kernelName": "csharp"
    },
    "vscode": {
     "languageId": "polyglot-notebook"
    }
   },
   "outputs": [],
   "source": [
    "using static System.Console;\n",
    "using static System.DateTime;\n",
    "\n",
    "using System.Threading;\n",
    "using System.Threading.Tasks;\n",
    "\n",
    "void work(int i) { Thread.Sleep(5000); }\n",
    "//async Task work(int i) { await Task.Delay(1000); }\n",
    "\n",
    "WriteLine(Now);\n",
    "\n",
    "Parallel.For(0, 25, work); // should take slightly more than 5s\n",
    "\n",
    "//var ct = CancellationToken.None;\n",
    "//await Parallel.ForAsync(0, 25, async (i, ct) => await work(i)); // should take slightly more than 5s\n",
    "\n",
    "WriteLine(Now);"
   ]
  },
  {
   "cell_type": "markdown",
   "metadata": {},
   "source": [
    "- There's also Parallel.ForEach and Parallel.ForEachAsync\n",
    "- Task-based Asynchronous Programming\n",
    "- Data Parallelism"
   ]
  },
  {
   "cell_type": "markdown",
   "metadata": {},
   "source": [
    "__Resources__\n",
    "- https://learn.microsoft.com/en-us/dotnet/standard/parallel-programming/task-parallel-library-tpl 👈\n",
    "- https://learn.microsoft.com/en-us/dotnet/standard/parallel-programming"
   ]
  },
  {
   "cell_type": "markdown",
   "metadata": {},
   "source": [
    "## 4- Real World Example"
   ]
  },
  {
   "cell_type": "code",
   "execution_count": null,
   "metadata": {
    "dotnet_interactive": {
     "language": "csharp"
    },
    "polyglot_notebook": {
     "kernelName": "csharp"
    },
    "vscode": {
     "languageId": "polyglot-notebook"
    }
   },
   "outputs": [],
   "source": [
    "using System.Threading.Tasks;\n",
    "\n",
    "Task task = Task.Run(() =>\n",
    "{\n",
    "    Console.WriteLine(\"Task is starting.\");\n",
    "    Thread.Sleep(5000);\n",
    "    Console.WriteLine(\"Task is starting.\");\n",
    "});\n",
    "\n",
    "Thread.Sleep(2000);\n",
    "task.Wait(); // wait was missing 👈\n",
    "Console.WriteLine(\"Main thread terminating\");"
   ]
  },
  {
   "cell_type": "code",
   "execution_count": null,
   "metadata": {
    "dotnet_interactive": {
     "language": "csharp"
    },
    "polyglot_notebook": {
     "kernelName": "csharp"
    },
    "vscode": {
     "languageId": "polyglot-notebook"
    }
   },
   "outputs": [],
   "source": [
    "using System.Threading.Tasks;\n",
    "\n",
    "// 2\n",
    "try\n",
    "{\n",
    "    // 1\n",
    "    Task task =\n",
    "    Task.Run(() =>\n",
    "    {\n",
    "        // 3\n",
    "        try\n",
    "        {\n",
    "            Console.WriteLine(\"Step 1 done\");\n",
    "            throw new InvalidOperationException(\"This is an unhandled exception in the task.\");\n",
    "            Console.WriteLine(\"Step 2 done\");\n",
    "        // 3\n",
    "        }\n",
    "        catch (Exception ex)\n",
    "        {\n",
    "            throw;\n",
    "        }\n",
    "\n",
    "        Console.WriteLine(\"All steps done\");\n",
    "    });\n",
    "    // 1\n",
    "    task.Wait(); // Wait for the task to complete\n",
    "// 2\n",
    "}\n",
    "catch (AggregateException ex) // exception handling was missing\n",
    "{\n",
    "    Console.WriteLine(\"Caught an aggregate exception: \" + ex.Message);\n",
    "    foreach (var innerEx in ex.InnerExceptions)\n",
    "    {\n",
    "        Console.WriteLine(\"Inner exception: \" + innerEx.Message);\n",
    "    }\n",
    "}\n",
    "\n",
    "Thread.Sleep(2000);"
   ]
  },
  {
   "cell_type": "code",
   "execution_count": null,
   "metadata": {
    "dotnet_interactive": {
     "language": "csharp"
    },
    "polyglot_notebook": {
     "kernelName": "csharp"
    },
    "vscode": {
     "languageId": "polyglot-notebook"
    }
   },
   "outputs": [],
   "source": [
    "volatile bool loop = true;  // 👈\n",
    "//int loop = 1; // 1 represents true, 0 represents false\n",
    "\n",
    "void keepWriting()\n",
    "{\n",
    "    try\n",
    "    {\n",
    "        while(loop)\n",
    "        //while (Interlocked.CompareExchange(ref loop, 1, 1) == 1) Interlocked doesnt support boolean\n",
    "        {\n",
    "            Thread.Sleep(1000);\n",
    "            Console.WriteLine(\"Ticking...\");\n",
    "        }\n",
    "    }\n",
    "    catch { }\n",
    "}\n",
    "\n",
    "_ = Task.Run(() => keepWriting());\n",
    "Thread.Sleep(5000);\n",
    "loop = false;\n",
    "//Interlocked.Exchange(ref loop, 0);\n",
    "Thread.Sleep(1000);\n"
   ]
  },
  {
   "cell_type": "code",
   "execution_count": null,
   "metadata": {
    "dotnet_interactive": {
     "language": "csharp"
    },
    "polyglot_notebook": {
     "kernelName": "csharp"
    },
    "vscode": {
     "languageId": "polyglot-notebook"
    }
   },
   "outputs": [],
   "source": [
    "using static System.Console;\n",
    "\n",
    "using System.Diagnostics;\n",
    "using System.IO;\n",
    "using System.Threading;\n",
    "using System.Threading.Tasks;\n",
    "\n",
    "void scanFolder(string folder, bool inParallel)\n",
    "{\n",
    "    long totalSize = 0;\n",
    "    var stopWatch = new Stopwatch();\n",
    "    stopWatch.Start();\n",
    "\n",
    "    string[] files = Directory.GetFiles(folder);\n",
    "\n",
    "    if (!inParallel)\n",
    "    {\n",
    "        foreach(var f in files)\n",
    "        {\n",
    "            var fi = new FileInfo(f);\n",
    "            totalSize += fi.Length;\n",
    "        }\n",
    "    }\n",
    "    else\n",
    "    {\n",
    "        Parallel.For(0, files.Length, index =>\n",
    "        {\n",
    "            var fi = new FileInfo(files[index]);\n",
    "            long size = fi.Length;\n",
    "            Interlocked.Add(ref totalSize, size);   // 👈\n",
    "        });\n",
    "    }\n",
    "\n",
    "    stopWatch.Stop();\n",
    "\n",
    "    WriteLine($\"{files.Length:N0} files, {totalSize:N0} bytes, took {stopWatch.Elapsed}\");\n",
    "}\n",
    "\n",
    "scanFolder(@\"C:\\Windows\\System32\", inParallel: false);\n",
    "scanFolder(@\"C:\\Windows\\System32\", inParallel: true);"
   ]
  },
  {
   "cell_type": "markdown",
   "metadata": {},
   "source": [
    "# 🗄️Concurrent Collections"
   ]
  },
  {
   "cell_type": "markdown",
   "metadata": {},
   "source": [
    "- ConcurrentBag: Represents a thread-safe, unordered collection of objects\n",
    "- There's also Concurrent Dictionary, Queue, Stack"
   ]
  },
  {
   "cell_type": "code",
   "execution_count": null,
   "metadata": {
    "dotnet_interactive": {
     "language": "csharp"
    },
    "polyglot_notebook": {
     "kernelName": "csharp"
    },
    "vscode": {
     "languageId": "polyglot-notebook"
    }
   },
   "outputs": [],
   "source": [
    "using System.Collections.Concurrent;\n",
    "using System.Threading;\n",
    "using System.Threading.Tasks;\n",
    "\n",
    "var bag = new ConcurrentBag<int>();\n",
    "var countdown = new CountdownEvent(3);\n",
    "\n",
    "for (int i = 0; i < 3; i++)\n",
    "{\n",
    "    int producerId = i;\n",
    "\n",
    "    _ = Task.Run(() =>\n",
    "    {\n",
    "        try\n",
    "        {\n",
    "            for (int j = 0; j < 5; j++)\n",
    "            {\n",
    "                bag.Add(producerId * 10 + j);\n",
    "                Thread.Sleep(100); // Simulate work\n",
    "            }\n",
    "        }\n",
    "        finally\n",
    "        {\n",
    "            countdownEvent.Signal();\n",
    "        }\n",
    "    });\n",
    "}\n",
    "\n",
    "var consumer = Task.Run(() =>\n",
    "{\n",
    "    while (true)\n",
    "    {\n",
    "        if (bag.TryTake(out int item))\n",
    "        {\n",
    "            Console.WriteLine($\"Processed {item}\");\n",
    "            Thread.Sleep(50); // Simulate work\n",
    "        }\n",
    "        else if (countdownEvent.IsSet)\n",
    "        {\n",
    "            if (bag.IsEmpty) // If no more items are being added and the bag is empty, exit the loop\n",
    "            {\n",
    "                Console.WriteLine(\"All items processed.\");\n",
    "                break;\n",
    "            }\n",
    "        }\n",
    "        else\n",
    "        {\n",
    "            // If the bag is empty but not all producers are done, wait a bit before retrying\n",
    "            Thread.Sleep(100);\n",
    "        }\n",
    "    }\n",
    "});\n",
    "\n",
    "consumer.Wait();"
   ]
  },
  {
   "cell_type": "markdown",
   "metadata": {},
   "source": [
    "BlockingCollection is a thread-safe collection class that provides:\n",
    "- An implementation of the Producer-Consumer pattern.\n",
    "- Concurrent adding and taking of items from multiple threads.\n",
    "- Optional maximum capacity.\n",
    "- Insertion and removal operations that block when collection is empty or full.\n",
    "- Insertion and removal \"try\" operations that do not block or that block up to a specified period of time.\n",
    "- Encapsulates any collection type that implements IProducerConsumerCollection<T>\n",
    "- Cancellation with cancellation tokens.\n",
    "- Two kinds of enumeration with foreach (For Each in Visual Basic):\n",
    "    - Read-only enumeration\n",
    "    - Enumeration that removes items as they are enumerated"
   ]
  },
  {
   "cell_type": "code",
   "execution_count": null,
   "metadata": {
    "dotnet_interactive": {
     "language": "csharp"
    },
    "polyglot_notebook": {
     "kernelName": "csharp"
    },
    "vscode": {
     "languageId": "polyglot-notebook"
    }
   },
   "outputs": [],
   "source": [
    "using System.Collections.Concurrent;\n",
    "using System.Diagnostics;\n",
    "using System.Threading;\n",
    "\n",
    "var blockingCollection = new BlockingCollection<string>();\n",
    "\n",
    "void print(string s) => Console.WriteLine($\"{DateTime.Now} {s}\");\n",
    "\n",
    "var producer = Task.Factory.StartNew(() =>\n",
    "{\n",
    "    for(int i = 1; i <= 20; i ++)\n",
    "    {\n",
    "        blockingCollection.Add(\"value \" + i);\n",
    "        Thread.Sleep(400); // lets throw some fixed values to be processed periodically\n",
    "    }\n",
    "    print(\"Producer is done!\");\n",
    "});\n",
    "\n",
    "bool fastWorkerRunning = true;\n",
    "\n",
    "bool checkForNotFinished()\n",
    "{\n",
    "    if (blockingCollection.Count > 0)\n",
    "        return true;\n",
    "    else if (fastWorkerRunning)\n",
    "        return true;\n",
    "    else\n",
    "    {\n",
    "        Thread.Sleep(500);\n",
    "        return blockingCollection.Count > 0;\n",
    "    }\n",
    "}\n",
    "\n",
    "var consumerSlow = Task.Factory.StartNew(() =>\n",
    "{\n",
    "    while(checkForNotFinished())\n",
    "    {                    \n",
    "        print(\"Slow Worker: \" + blockingCollection.Take());\n",
    "        Thread.Sleep(1000); //slow processing\n",
    "    }\n",
    "\n",
    "    print(\"Slow Worker is quitting...\");\n",
    "});\n",
    "\n",
    "var consumerFast = Task.Factory.StartNew(() =>\n",
    "{\n",
    "    var stopWatch = new Stopwatch();\n",
    "    stopWatch.Start();\n",
    "    while (true)\n",
    "    {\n",
    "        print(\"Fast Worker: \" + blockingCollection.Take());\n",
    "        Thread.Sleep(300); //lets take some time to take it in\n",
    "\n",
    "        if (stopWatch.Elapsed.TotalSeconds > 2)\n",
    "        {\n",
    "            print(\"Fast Worker is quitting...\");\n",
    "            fastWorkerRunning = false;\n",
    "            break;\n",
    "        }\n",
    "    }\n",
    "});\n",
    "\n",
    "// everything is started; we just need to Wait\n",
    "\n",
    "producer.Wait();\n",
    "consumerSlow.Wait();\n",
    "consumerFast.Wait();\n",
    "\n",
    "print(\"Finished\");"
   ]
  },
  {
   "cell_type": "markdown",
   "metadata": {},
   "source": [
    "- https://learn.microsoft.com/en-us/dotnet/api/system.collections.concurrent 👈\n",
    "    - Partitioner 👈"
   ]
  },
  {
   "cell_type": "markdown",
   "metadata": {},
   "source": [
    "## 1- Real World Example"
   ]
  },
  {
   "cell_type": "code",
   "execution_count": null,
   "metadata": {
    "dotnet_interactive": {
     "language": "csharp"
    },
    "polyglot_notebook": {
     "kernelName": "csharp"
    },
    "vscode": {
     "languageId": "polyglot-notebook"
    }
   },
   "outputs": [],
   "source": [
    "using System.Collections.Concurrent;\n",
    "\n",
    "var flags = new ConcurrentDictionary<string, bool>();\n",
    "\n",
    "bool setFlag(string key) => flags.TryAdd(key, true); // from concurrent dictionary; if we succeed we get true\n",
    "// indirectly one thread who will be able to add flag will get to know about it"
   ]
  },
  {
   "cell_type": "code",
   "execution_count": null,
   "metadata": {
    "dotnet_interactive": {
     "language": "csharp"
    },
    "polyglot_notebook": {
     "kernelName": "csharp"
    },
    "vscode": {
     "languageId": "polyglot-notebook"
    }
   },
   "outputs": [],
   "source": [
    "if (setFlag(\"Connection_Successful\"))\n",
    "    Console.WriteLine(\"Connection is successfully established.\"); // we dont want to log too much; just once\n",
    "\n",
    "string vmName = \"AzureVM11\";\n",
    "string flagKey = $\"Machine.InternalDnsName:{vmName}\";\n",
    "if (setFlag(flagKey))\n",
    "    Console.WriteLine($\"Failing to determine DNS name of {vmName}\");"
   ]
  },
  {
   "cell_type": "markdown",
   "metadata": {},
   "source": [
    "## 2- Distributed Computing - Collections and Constructs"
   ]
  },
  {
   "cell_type": "markdown",
   "metadata": {},
   "source": [
    "- https://www.nuget.org/packages/StackExchange.Redis.Collections\n",
    "- https://khurram-aziz.github.io/posts/zookeeper-higher-level-constructs 👈\n",
    "- https://redis.io/docs/latest/develop/use/patterns/distributed-locks\n",
    "    - Leader Election\n",
    "- https://dapr.io\n",
    "    - https://docs.dapr.io/concepts/building-blocks-concept 👈"
   ]
  },
  {
   "cell_type": "markdown",
   "metadata": {},
   "source": [
    "# 💾PLINQ"
   ]
  },
  {
   "cell_type": "code",
   "execution_count": null,
   "metadata": {
    "dotnet_interactive": {
     "language": "csharp"
    },
    "polyglot_notebook": {
     "kernelName": "csharp"
    },
    "vscode": {
     "languageId": "polyglot-notebook"
    }
   },
   "outputs": [],
   "source": [
    "using System.Linq;\n",
    "\n",
    "var numbers = Enumerable.Range(1, 10000);\n",
    "var evens = from n in numbers.AsParallel()\n",
    "            where n % 2 == 0\n",
    "            select n;\n",
    "\n",
    "Console.WriteLine($\"{evens.Count()} even numbers out of {numbers.Count()} total\");"
   ]
  },
  {
   "cell_type": "markdown",
   "metadata": {},
   "source": [
    "<img src=images/plinq.png>"
   ]
  },
  {
   "cell_type": "code",
   "execution_count": null,
   "metadata": {
    "dotnet_interactive": {
     "language": "csharp"
    },
    "polyglot_notebook": {
     "kernelName": "csharp"
    },
    "vscode": {
     "languageId": "polyglot-notebook"
    }
   },
   "outputs": [],
   "source": [
    "using System.Linq;\n",
    "using System.Threading.Tasks;\n",
    "\n",
    "int ExpensiveFunction(int n)\n",
    "{\n",
    "    Thread.Sleep(100);\n",
    "    return n;\n",
    "}\n",
    "\n",
    "var numbers = Enumerable.Range(1, 1000);\n",
    "\n",
    "var queryA = from n in numbers.AsParallel()\n",
    "             where n % 2 > 0\n",
    "             select ExpensiveFunction(n);   //good for PLINQ  \n",
    "var queryB = from n in numbers.AsParallel()\n",
    "             where n % 2 > 0\n",
    "             select n;                      //no point of using PLINQ\n",
    "\n",
    "Console.WriteLine(DateTime.Now);\n",
    "queryA.ToList();\n",
    "Console.WriteLine(DateTime.Now);"
   ]
  },
  {
   "cell_type": "markdown",
   "metadata": {},
   "source": [
    "- https://learn.microsoft.com/en-us/dotnet/standard/parallel-programming/introduction-to-plinq"
   ]
  },
  {
   "cell_type": "markdown",
   "metadata": {},
   "source": [
    "# 🏁Terminating Things"
   ]
  },
  {
   "cell_type": "markdown",
   "metadata": {},
   "source": [
    "<img src=images/while-loop.png>"
   ]
  },
  {
   "cell_type": "code",
   "execution_count": null,
   "metadata": {
    "dotnet_interactive": {
     "language": "csharp"
    },
    "polyglot_notebook": {
     "kernelName": "csharp"
    },
    "vscode": {
     "languageId": "polyglot-notebook"
    }
   },
   "outputs": [],
   "source": [
    "using System.Diagnostics;\n",
    "using System.Net.Http;\n",
    "using System.Threading;\n",
    "\n",
    "async Task<int> processUrlAsync(HttpClient client, string url, CancellationToken token)\n",
    "{\n",
    "    try\n",
    "    {\n",
    "        HttpResponseMessage response = await client.GetAsync(url, token);\n",
    "        byte[] content = await response.Content.ReadAsByteArrayAsync(token);\n",
    "        Console.WriteLine($\"{url,-60} {content.Length,10:#,#}\");\n",
    "\n",
    "        return content.Length;\n",
    "    }\n",
    "    catch(Exception ex) // why its important\n",
    "    {\n",
    "        Console.WriteLine($\"{url,-60} Failed {ex.GetType()}\");\n",
    "        return 0;\n",
    "    }\n",
    "}\n",
    "\n",
    "async Task sumPageSizesAsync(string[] urls, CancellationToken token)\n",
    "{\n",
    "    var stopwatch = Stopwatch.StartNew();\n",
    "\n",
    "    int total = 0;\n",
    "    //foreach (var url in urls)\n",
    "    Parallel.ForEach(urls, url =>\n",
    "    {\n",
    "        var client = new HttpClient() { MaxResponseContentBufferSize = 1_000_000 };\n",
    "        int contentLength = processUrlAsync(client, url, token).Result;\n",
    "        total += contentLength;\n",
    "    });\n",
    "\n",
    "    stopwatch.Stop();\n",
    "\n",
    "    Console.WriteLine($\"Total bytes returned:  {total:#,#}\");\n",
    "    Console.WriteLine($\"Elapsed time:          {stopwatch.Elapsed}\");\n",
    "}\n",
    "\n",
    "\n",
    "var urls = new string[] {\n",
    "    \"https://learn.microsoft.com\",\n",
    "    \"https://learn.microsoft.com/aspnet/core\",\n",
    "    \"https://learn.microsoft.com/azure\",\n",
    "    \"https://learn.microsoft.com/azure/devops\",\n",
    "    \"https://learn.microsoft.com/dotnet\",\n",
    "    \"https://learn.microsoft.com/dynamics365\",\n",
    "    \"https://learn.microsoft.com/education\",\n",
    "    \"https://learn.microsoft.com/enterprise-mobility-security\",\n",
    "    \"https://learn.microsoft.com/gaming\",\n",
    "    \"https://learn.microsoft.com/graph\",\n",
    "    \"https://learn.microsoft.com/microsoft-365\",\n",
    "    \"https://learn.microsoft.com/office\",\n",
    "    \"https://learn.microsoft.com/powershell\",\n",
    "    \"https://learn.microsoft.com/sql\",\n",
    "    \"https://learn.microsoft.com/surface\",\n",
    "    \"https://learn.microsoft.com/system-center\",\n",
    "    \"https://learn.microsoft.com/visualstudio\",\n",
    "    \"https://learn.microsoft.com/windows\",\n",
    "    \"https://learn.microsoft.com/xamarin\" };\n",
    "\n",
    "var ct = new CancellationTokenSource();\n",
    "\n",
    "try\n",
    "{\n",
    "    ct.CancelAfter(2000);\n",
    "    await sumPageSizesAsync(urls, ct.Token);\n",
    "}\n",
    "catch (OperationCanceledException)\n",
    "{\n",
    "    Console.WriteLine(\"Tasks cancelled: timed out\");\n",
    "}\n",
    "finally\n",
    "{}"
   ]
  },
  {
   "cell_type": "markdown",
   "metadata": {},
   "source": [
    "- Threading Features https://learn.microsoft.com/en-us/dotnet/standard/threading/overview-of-synchronization-primitives\n",
    "- Task Parallel Library; https://learn.microsoft.com/en-us/dotnet/standard/parallel-programming/task-parallel-library-tpl\n",
    "- PLINQ; https://learn.microsoft.com/en-us/dotnet/standard/parallel-programming/introduction-to-plinq\n",
    "- System.Collections.Concurrent; https://learn.microsoft.com/en-us/dotnet/api/system.collections.concurrent\n",
    "- Dataflow; https://learn.microsoft.com/en-us/dotnet/standard/parallel-programming/dataflow-task-parallel-library"
   ]
  },
  {
   "cell_type": "markdown",
   "metadata": {},
   "source": [
    "# 🎈Async Programming"
   ]
  },
  {
   "cell_type": "code",
   "execution_count": null,
   "metadata": {
    "dotnet_interactive": {
     "language": "csharp"
    },
    "polyglot_notebook": {
     "kernelName": "csharp"
    },
    "vscode": {
     "languageId": "polyglot-notebook"
    }
   },
   "outputs": [],
   "source": [
    "using System.Threading.Tasks;\n",
    "using System.Diagnostics;\n",
    "\n",
    "// explicit\n",
    "var get2ndPrime = new Task<int>(() => 2);\n",
    "//the task is running and when complete we will get the Result\n",
    "//we need to join the task, or wait for the task to complete\n",
    "\n",
    "get2ndPrime.Wait();\n",
    "var result = get2ndPrime.Result;\n",
    "\n",
    "var secondPrime = new Task<int>(() => 2)\n",
    "    .Result; // The Result property call is blocking call\n",
    "\n",
    "async Task<int> GetNthPrime(int n)\n",
    "{\n",
    "    await Task.Delay(100);\n",
    "    return await Task.FromResult(2);\n",
    "}\n",
    "\n",
    "int result1 = GetNthPrime(2).Result;\n",
    "int result2 = await GetNthPrime(2); // to use await; we will need to async / color the caller"
   ]
  },
  {
   "cell_type": "code",
   "execution_count": null,
   "metadata": {
    "dotnet_interactive": {
     "language": "csharp"
    },
    "polyglot_notebook": {
     "kernelName": "csharp"
    },
    "vscode": {
     "languageId": "polyglot-notebook"
    }
   },
   "outputs": [],
   "source": [
    "using System.Threading;\n",
    "\n",
    "var random = new Random(Guid.NewGuid().GetHashCode());\n",
    "\n",
    "// we want to make this async\n",
    "bool CpuHeavyMethod()\n",
    "{\n",
    "    var next = random.Next();\n",
    "    Thread.Sleep(1000);\n",
    "    return next > (int.MaxValue / 2);\n",
    "}"
   ]
  },
  {
   "cell_type": "code",
   "execution_count": null,
   "metadata": {
    "dotnet_interactive": {
     "language": "csharp"
    },
    "polyglot_notebook": {
     "kernelName": "csharp"
    },
    "vscode": {
     "languageId": "polyglot-notebook"
    }
   },
   "outputs": [],
   "source": [
    "using System.Threading.Tasks;\n",
    "using System.Diagnostics;\n",
    "\n",
    "async ValueTask<int> GetNthPrime(int n)\n",
    "{\n",
    "    if (n < 10)\n",
    "        return 2;\n",
    "    else\n",
    "    {\n",
    "        await Task.Delay(100);\n",
    "        return await ValueTask.FromResult(2);  \n",
    "    }\n",
    "}\n",
    "\n",
    "for(int i = 0; i < 50; i++)\n",
    "    _ = GetNthPrime(5).Result;"
   ]
  },
  {
   "cell_type": "markdown",
   "metadata": {},
   "source": [
    "__Further Readings__\n",
    "\n",
    "- https://learn.microsoft.com/en-us/dotnet/csharp/asynchronous-programming\n",
    "- https://learn.microsoft.com/en-us/dotnet/csharp/asynchronous-programming/async-scenarios\n",
    "- https://learn.microsoft.com/en-us/dotnet/standard/parallel-programming/task-based-asynchronous-programming\n",
    "- https://learn.microsoft.com/en-us/dotnet/standard/asynchronous-programming-patterns\n",
    "    - TAP: https://learn.microsoft.com/en-us/dotnet/standard/asynchronous-programming-patterns/task-based-asynchronous-pattern-tap\n",
    "    - EAP: https://learn.microsoft.com/en-us/dotnet/standard/asynchronous-programming-patterns/event-based-asynchronous-pattern-overview\n",
    "    - APM: https://learn.microsoft.com/en-us/dotnet/standard/asynchronous-programming-patterns/asynchronous-programming-model-apm"
   ]
  },
  {
   "cell_type": "markdown",
   "metadata": {},
   "source": [
    "# 🎁Dataflow (Task Parallel Library)"
   ]
  },
  {
   "cell_type": "markdown",
   "metadata": {},
   "source": [
    "- Sources & Targets\n",
    "    - ISourceBlock<TOutput>\n",
    "    - ITargetBlock<TInput>\n",
    "    - IPropagatorBlock<TInput, TOutput>\n",
    "    - Blocks\n",
    "        - BufferBlock<T>\n",
    "        - BroadcastBlock<T>\n",
    "        - WriteOnceBlock<T>\n",
    "    - Executions\n",
    "        - ActionBlock<T>\n",
    "        - TransformBlock<TIn, TOut>\n",
    "        - TransformManyBlock<TIn, TOut>\n",
    "    - Grouping\n",
    "        - BatchBlock<T>\n",
    "        - JoinBlock<T1, T2>\n",
    "        - BatchedJoinBlock<T1, T2>\n",
    "- Connecting Blocks\n",
    "    - DataflowBlockOptions\n",
    "    - ExecutionDataflowBlockOptions\n",
    "    - GroupingDataflowBlockOptions\n",
    "- Filtering\n",
    "- Message Passing\n",
    "    - Post, SendAsync\n",
    "    - Receive, ReceiveAsync"
   ]
  },
  {
   "cell_type": "code",
   "execution_count": null,
   "metadata": {
    "dotnet_interactive": {
     "language": "csharp"
    },
    "polyglot_notebook": {
     "kernelName": "csharp"
    },
    "vscode": {
     "languageId": "polyglot-notebook"
    }
   },
   "outputs": [],
   "source": [
    "#r \"System.Threading.Tasks.Dataflow\""
   ]
  },
  {
   "cell_type": "code",
   "execution_count": null,
   "metadata": {
    "dotnet_interactive": {
     "language": "csharp"
    },
    "polyglot_notebook": {
     "kernelName": "csharp"
    },
    "vscode": {
     "languageId": "polyglot-notebook"
    }
   },
   "outputs": [],
   "source": [
    "using System.Collections.Generic;\n",
    "using System.Linq;\n",
    "using System.Net.Http;\n",
    "using System.Threading;\n",
    "using System.Threading.Tasks.Dataflow;\n",
    "\n",
    "void print(string s) => Console.WriteLine($\"[{Thread.CurrentThread.ManagedThreadId}] {s}\");\n",
    "\n",
    "var downloadString = new TransformBlock<string, string>(async uri =>\n",
    "{\n",
    "    print($\"Downloading {uri}...\");\n",
    "    return await new HttpClient(\n",
    "        //new HttpClientHandler { AutomaticDecompression = System.Net.DecompressionMethods.GZip }\n",
    "        ).GetStringAsync(uri);\n",
    "});\n",
    "\n",
    "var createWordList = new TransformBlock<string, string[]>(text =>\n",
    "{\n",
    "    print(\"Creating word list...\");\n",
    "    char[] tokens = text.Select(c => char.IsLetter(c) ? c : ' ').ToArray();\n",
    "    text = new string(tokens);\n",
    "    return text.Split(new[] { ' ' }, StringSplitOptions.RemoveEmptyEntries);\n",
    "});\n",
    "\n",
    "var filterWordList = new TransformBlock<string[], string[]>(words =>\n",
    "{\n",
    "    print(\"Filtering word list...\");\n",
    "    return words\n",
    "        .Where(word => word.Length > 3)\n",
    "        .Distinct()\n",
    "        .ToArray();\n",
    "});\n",
    "\n",
    "var findReversedWords = new TransformManyBlock<string[], string>(words =>\n",
    "{\n",
    "    print(\"Finding reversed words...\");\n",
    "    var wordsSet = new HashSet<string>(words);\n",
    "    return from word in words.AsParallel()\n",
    "        let reverse = new string(word.Reverse().ToArray())\n",
    "        where word != reverse && wordsSet.Contains(reverse)\n",
    "        select word;\n",
    "});\n",
    "\n",
    "var printReversedWords = new ActionBlock<string>(reversedWord =>\n",
    "{\n",
    "    print($\"Found reversed words {reversedWord}/{new string(reversedWord.Reverse().ToArray())}\");\n",
    "});"
   ]
  },
  {
   "cell_type": "code",
   "execution_count": null,
   "metadata": {
    "dotnet_interactive": {
     "language": "csharp"
    },
    "polyglot_notebook": {
     "kernelName": "csharp"
    },
    "vscode": {
     "languageId": "polyglot-notebook"
    }
   },
   "outputs": [],
   "source": [
    "// downloadString -> createWordList -> filterWordList -> findReversedWords\n",
    "\n",
    "var linkOptions = new DataflowLinkOptions { PropagateCompletion = true };\n",
    "\n",
    "downloadString.LinkTo(createWordList, linkOptions);\n",
    "createWordList.LinkTo(filterWordList, linkOptions);\n",
    "filterWordList.LinkTo(findReversedWords, linkOptions);\n",
    "findReversedWords.LinkTo(printReversedWords, linkOptions);"
   ]
  },
  {
   "cell_type": "code",
   "execution_count": null,
   "metadata": {
    "dotnet_interactive": {
     "language": "csharp"
    },
    "polyglot_notebook": {
     "kernelName": "csharp"
    },
    "vscode": {
     "languageId": "polyglot-notebook"
    }
   },
   "outputs": [],
   "source": [
    "print(\"Starting...\");\n",
    "\n",
    "// \"The Iliad of Homer\" by Homer: http://www.gutenberg.org/cache/epub/16452/pg16452.txt\n",
    "downloadString.Post(\"https://en.wikipedia.org/wiki/Palindrome\");\n",
    "//it gets triggered\n",
    "//we can do something else here\n",
    "downloadString.Complete(); // marking pipeline that we are done\n",
    "//we can more stuff here\n",
    "printReversedWords.Completion.Wait();\n",
    "\n",
    "print(\"Finished!\");"
   ]
  },
  {
   "cell_type": "markdown",
   "metadata": {},
   "source": [
    "- https://learn.microsoft.com/en-us/dotnet/standard/parallel-programming/dataflow-task-parallel-library\n",
    "- https://learn.microsoft.com/en-us/dotnet/standard/parallel-programming/walkthrough-creating-a-dataflow-pipeline"
   ]
  },
  {
   "cell_type": "markdown",
   "metadata": {},
   "source": [
    "# 🔀Channels"
   ]
  },
  {
   "cell_type": "code",
   "execution_count": null,
   "metadata": {
    "dotnet_interactive": {
     "language": "csharp"
    },
    "polyglot_notebook": {
     "kernelName": "csharp"
    },
    "vscode": {
     "languageId": "polyglot-notebook"
    }
   },
   "outputs": [],
   "source": [
    "using System.Threading.Channels;\n",
    "\n",
    "var channel = Channel.CreateUnbounded<int>(); // any numbers of producers or consumers can use this channel\n",
    "//var channel = Channel.CreateBounded<int>(10);  // maximum capacity of messages"
   ]
  },
  {
   "cell_type": "code",
   "execution_count": null,
   "metadata": {
    "dotnet_interactive": {
     "language": "csharp"
    },
    "polyglot_notebook": {
     "kernelName": "csharp"
    },
    "vscode": {
     "languageId": "polyglot-notebook"
    }
   },
   "outputs": [],
   "source": [
    "using System.Threading;\n",
    "using System.Threading.Channels;\n",
    "\n",
    "record struct Coordinates(\n",
    "    Guid DeviceId,\n",
    "    double Latitude,\n",
    "    double Longitude);\n",
    "\n",
    "void print(string s) => Console.WriteLine($\"{DateTime.Now} {s}\");\n",
    "    \n",
    "var channel = Channel.CreateUnbounded<Coordinates>();\n",
    "ChannelWriter<Coordinates> writer = channel.Writer;\n",
    "ChannelReader<Coordinates> reader = channel.Reader;\n",
    "\n",
    "var consumerSlow = Task.Factory.StartNew(async () =>\n",
    "{\n",
    "    for (int i = 0; i < 5; i++)\n",
    "    {\n",
    "        Thread.Sleep(1000);\n",
    "        var coordinate = await reader.ReadAsync();\n",
    "        print($\"Slow: {coordinate}\");\n",
    "    }\n",
    "});\n",
    "var consumerFast = Task.Factory.StartNew(async () =>\n",
    "{\n",
    "    for (int i = 0; i < 5; i++)\n",
    "    {\n",
    "        Thread.Sleep(500);\n",
    "        var coordinate = await reader.ReadAsync();\n",
    "        print($\"Fast: {coordinate}\");\n",
    "    }\n",
    "});\n",
    "\n",
    "var producer = Task.Factory.StartNew(() =>\n",
    "{\n",
    "    var deviceId = Guid.NewGuid();\n",
    "\n",
    "    for (int i = 0; i < 9; i++)\n",
    "        writer.TryWrite(new Coordinates(deviceId, 0, 0));\n",
    "\n",
    "    print($\"Waiting for 5sec\");\n",
    "    Thread.Sleep(5000);\n",
    "\n",
    "    if (writer.TryWrite(new Coordinates(deviceId, 10, 10)))\n",
    "        print($\"Sent the last one\");\n",
    "    else\n",
    "        print($\"Failed\");\n",
    "    \n",
    "    /*\n",
    "     * above we are producing 10 values and consuming 10 values\n",
    "     * in real world we often dont know how many values to consume\n",
    "     * in these cases we can use \"punctuations\"\n",
    "     *      producer sends special data telling that its done\n",
    "     *      in the above example; it will need to learn how many consumers\n",
    "     *      are still running and send that many \"end of data\" punctuation\n",
    "     *      we can use Task's IsCompleted; or our orchestrator can tell how\n",
    "     *      many conusmers are running\n",
    "     *      message queues / event buses have exchange / routine concept\n",
    "     *      a single message from producer is broadcasted to all listeners\n",
    "     */\n",
    "     \n",
    "});\n",
    "\n",
    "Task.WaitAll(producer, consumerSlow, consumerFast);\n",
    "\n",
    "Thread.Sleep(1000);\n",
    "print(\"Finished\");"
   ]
  },
  {
   "cell_type": "code",
   "execution_count": null,
   "metadata": {
    "dotnet_interactive": {
     "language": "csharp"
    },
    "polyglot_notebook": {
     "kernelName": "csharp"
    },
    "vscode": {
     "languageId": "polyglot-notebook"
    }
   },
   "outputs": [],
   "source": [
    "static void ProduceWithWhileAndTryWrite(ChannelWriter<Coordinates> writer, Coordinates coordinates)\n",
    "{\n",
    "    while (coordinates is { Latitude: < 90, Longitude: < 180 })\n",
    "    {\n",
    "        var tempCoordinates = coordinates with\n",
    "        {\n",
    "            Latitude = coordinates.Latitude + .5,\n",
    "            Longitude = coordinates.Longitude + 1\n",
    "        };\n",
    "\n",
    "        if (writer.TryWrite(item: tempCoordinates))\n",
    "            coordinates = tempCoordinates;\n",
    "    }\n",
    "}\n",
    "\n",
    "static async ValueTask ConsumeWithWhileAsync(ChannelReader<Coordinates> reader)\n",
    "{\n",
    "    while (true)\n",
    "    {\n",
    "        // May throw ChannelClosedException if\n",
    "        // the parent channel's writer signals complete.\n",
    "        Coordinates coordinates = await reader.ReadAsync();\n",
    "        Console.WriteLine(coordinates);\n",
    "    }\n",
    "}"
   ]
  },
  {
   "cell_type": "markdown",
   "metadata": {},
   "source": [
    "## 1- Java Streams are cool"
   ]
  },
  {
   "cell_type": "markdown",
   "metadata": {},
   "source": [
    "__Channels and Java's Streams API Similarities__\n",
    "\n",
    "- Asynchronous Processing: Both channels and streams allow for asynchronous processing of data. This means that data can be produced and consumed independently of each other, which can lead to more efficient use of system resources\n",
    "- Backpressure: Both channels and streams support the concept of backpressure. This is a mechanism that allows the producer of data to be notified when the consumer is unable to keep up with the rate of data production, allowing the producer to adjust its rate accordingly\n",
    "- Functional Programming: Both channels and streams are designed to be used in a functional programming style. This means that they support operations like map, filter, and reduce, which can be composed together to process data in a declarative and composable way\n",
    "\n",
    "__Channels and Java's Streams API Differences__\n",
    "- Data Flow Direction: Channels in .NET are bidirectional, meaning that data can be sent in both directions between the producer and consumer. Streams in Java are unidirectional, meaning that data can only be sent from the producer to the consumer\n",
    "- Error Handling: Channels in .NET support the concept of faulting, which allows errors to be propagated along the channel. Streams in Java do not have a built-in mechanism for error handling\n",
    "- Synchronization: Channels in .NET are synchronous by default, meaning that the producer will block if the consumer is not ready to receive data. Streams in Java are asynchronous by default, meaning that the producer will not block if the consumer is not ready to receive data\n",
    "\n",
    "*__Similar but not exactly same__*\n",
    "\n",
    "__Resources__\n",
    "- https://learn.microsoft.com/en-us/dotnet/core/extensions/channels\n",
    "- https://devblogs.microsoft.com/dotnet/an-introduction-to-system-threading-channels"
   ]
  },
  {
   "cell_type": "code",
   "execution_count": null,
   "metadata": {
    "dotnet_interactive": {
     "language": "javascript"
    },
    "polyglot_notebook": {
     "kernelName": "javascript"
    },
    "vscode": {
     "languageId": "polyglot-notebook"
    }
   },
   "outputs": [],
   "source": [
    "Stream.generate(new Supplier<Integer>() {   // how its being declared / instantiated and invoked\n",
    "    int a = 0;                              // anonymous inner class; sadly we dont have it in C#\n",
    "    int b = 1;\n",
    "\n",
    "    public Integer get() {\n",
    "        int temp = a;\n",
    "        a = b;\n",
    "        b = a + temp;\n",
    "        return temp;\n",
    "    }\n",
    "}).limit(10).forEach(System.out::println);"
   ]
  },
  {
   "cell_type": "code",
   "execution_count": null,
   "metadata": {
    "dotnet_interactive": {
     "language": "csharp"
    },
    "polyglot_notebook": {
     "kernelName": "csharp"
    },
    "vscode": {
     "languageId": "polyglot-notebook"
    }
   },
   "outputs": [],
   "source": [
    "IEnumerable<int> FibonacciSequence()\n",
    "{\n",
    "    (int a, int b) = (0, 1);\n",
    "    while (true)\n",
    "    {\n",
    "        yield return a;\n",
    "        (a, b) = (b, a + b);\n",
    "    }\n",
    "}\n",
    "\n",
    "foreach (var number in FibonacciSequence().Take(10))\n",
    "    Console.WriteLine(number);\n",
    "\n",
    "FibonacciSequence().Take(10).ToList().ForEach(n => Console.WriteLine(n));"
   ]
  },
  {
   "cell_type": "code",
   "execution_count": null,
   "metadata": {
    "dotnet_interactive": {
     "language": "csharp"
    },
    "polyglot_notebook": {
     "kernelName": "csharp"
    },
    "vscode": {
     "languageId": "polyglot-notebook"
    }
   },
   "outputs": [],
   "source": [
    "using System.Linq;\n",
    "\n",
    "(int a, int b) = (0, 1);\n",
    "Enumerable.Range(0, 10)\n",
    "    .Select(index =>\n",
    "    {\n",
    "        int r = a;\n",
    "        (a, b) = (b, a + b);\n",
    "        return r;\n",
    "    })\n",
    "    .ToList()\n",
    "    .ForEach(n => Console.WriteLine(n));"
   ]
  },
  {
   "cell_type": "markdown",
   "metadata": {},
   "source": [
    "## 2- Declarative Programming with Channels"
   ]
  },
  {
   "cell_type": "markdown",
   "metadata": {},
   "source": [
    "- sync.cs"
   ]
  },
  {
   "cell_type": "code",
   "execution_count": null,
   "metadata": {
    "dotnet_interactive": {
     "language": "csharp"
    },
    "polyglot_notebook": {
     "kernelName": "csharp"
    },
    "vscode": {
     "languageId": "polyglot-notebook"
    }
   },
   "outputs": [],
   "source": [
    "#r \"nuget: Open.ChannelExtensions, 8.3.0\""
   ]
  },
  {
   "cell_type": "code",
   "execution_count": null,
   "metadata": {
    "dotnet_interactive": {
     "language": "csharp"
    },
    "polyglot_notebook": {
     "kernelName": "csharp"
    },
    "vscode": {
     "languageId": "polyglot-notebook"
    }
   },
   "outputs": [],
   "source": [
    "using System.Threading.Channels;\n",
    "using System.Linq;\n",
    "using Open.ChannelExtensions;\n",
    "\n",
    "class ThumbnailGenerator\n",
    "{\n",
    "    public async Task<object> ReadMetaDataAsync(string filePath)\n",
    "    { return await Task.FromResult<object>(null); }\n",
    "\n",
    "    public async Task<object> CreateImageAsync(object frontMatter)\n",
    "    { return await Task.FromResult<object>(null); }\n",
    "\n",
    "    public async Task SaveImageAsync()\n",
    "    { await Task.CompletedTask; }\n",
    "}\n",
    "\n",
    "var directory = @\"C:\\\\Windows\\\\System32\";\n",
    "var generator = new ThumbnailGenerator();\n",
    "\n",
    "await Channel\n",
    "    .CreateBounded<string>(50000)\n",
    "    .Source(Directory.GetFiles(directory))\n",
    "    .PipeAsync(\n",
    "        maxConcurrency: 2,\n",
    "        capacity: 100,\n",
    "        transform: async filePath =>\n",
    "        {\n",
    "            var metaData = await generator.ReadMetaDataAsync(filePath);\n",
    "            return (filePath, metaData);\n",
    "        })\n",
    "    .Filter(tuple => tuple.Item2 != null)\n",
    "    .PipeAsync(\n",
    "        maxConcurrency: 10,\n",
    "        capacity: 20,\n",
    "        transform: async tuple =>\n",
    "        {\n",
    "            var (filePath, metaData) = tuple;\n",
    "            var image = await generator.CreateImageAsync(metaData);\n",
    "\n",
    "            return (filePath, metaData, image);\n",
    "        })\n",
    "    .ReadAllAsync(async tuple =>\n",
    "    {\n",
    "        var (filePath, metaData, image) = tuple;\n",
    "        //some logic\n",
    "\n",
    "        await generator.SaveImageAsync();\n",
    "    });\n"
   ]
  },
  {
   "cell_type": "markdown",
   "metadata": {},
   "source": [
    "## 3- Dataflow vs Channels"
   ]
  },
  {
   "cell_type": "markdown",
   "metadata": {},
   "source": [
    "__Dataflow__\n",
    "- Complex Pipelines and Workflows: When you need to process data through multiple stages, with each stage potentially running in parallel and asynchronously\n",
    "- Customizable Task Scheduling: When you need fine-grained control over task scheduling, execution, and resource management\n",
    "- Message Passing Between Blocks: When you need to pass messages between different processing blocks with options for filtering, batching, and transforming data\n",
    "- Backpressure Handling: When you need to handle backpressure by controlling the flow of data through the pipeline to prevent overloading of downstream components\n",
    "\n",
    "__Channels__\n",
    "- High-Performance Producer-Consumer Scenarios: When you need a low-overhead way to implement producer-consumer patterns\n",
    "- Streaming Data: When you need to process a continuous stream of data with minimal latency\n",
    "- Simple Pipelines: When you need a simpler pipeline without the complex features of TPL Dataflow\n",
    "- Custom Buffering Strategies: When you need custom buffering strategies and precise control over how data is read and written"
   ]
  },
  {
   "cell_type": "markdown",
   "metadata": {},
   "source": [
    "# 🎁Namespace of the Day"
   ]
  },
  {
   "cell_type": "markdown",
   "metadata": {},
   "source": [
    "## System.IO.Pipelines"
   ]
  },
  {
   "cell_type": "markdown",
   "metadata": {},
   "source": [
    "- This namespace provides a library for building high-performance I/O pipelines. It's particularly useful for scenarios involving streams and network programming.\n",
    "- Key classes include Pipe, PipeReader, and PipeWriter.\n",
    "\n",
    "These namespaces and libraries provide a rich set of tools for writing parallel and concurrent applications in C#. They help manage synchronization, communication, and workload distribution across multiple threads and processors"
   ]
  },
  {
   "cell_type": "markdown",
   "metadata": {},
   "source": [
    "# 🎯 Composing Code"
   ]
  },
  {
   "cell_type": "markdown",
   "metadata": {},
   "source": [
    "__Break Down__\n",
    "- Procedural Programming\n",
    "- Object Oriented Programming\n",
    "- Functional Programming\n",
    "\n",
    "__Control Flow__\n",
    "- Linear Control Flow\n",
    "- Control Structures: Conditional Structures (if/else)\n",
    "- Control Structures: Looping Structures\n",
    "- Control Structures: Branching Structure (switch)\n",
    "- Control Structures: Jump Statements (goto, return, continue, break, yield)\n",
    "- Control Structures: Exception Handling\n",
    "\n",
    "__Execution Flow__\n",
    "- Threading\n",
    "- Concurrency\n",
    "- Parallelism\n",
    "- Asynchronous Programming\n",
    "- Task Scheduling\n",
    "\n",
    "__Data Flow__\n",
    "- Data Flow Programming\n",
    "- Producer-Consumer Model\n",
    "- Reactive Programming\n",
    "- Pipeline\n",
    "- Stream Processing\n",
    "\n",
    "__Resources__\n",
    "- https://devblogs.microsoft.com/pfxteam\n",
    "- https://github.com/dotnet/samples/tree/main/csharp/parallel/ParallelExtensionsExtras\n"
   ]
  }
 ],
 "metadata": {
  "kernelspec": {
   "display_name": ".NET (C#)",
   "language": "C#",
   "name": ".net-csharp"
  },
  "language_info": {
   "name": "python",
   "version": "3.11.4"
  },
  "polyglot_notebook": {
   "kernelInfo": {
    "defaultKernelName": "csharp",
    "items": [
     {
      "aliases": [],
      "languageName": "csharp",
      "name": "csharp"
     }
    ]
   }
  }
 },
 "nbformat": 4,
 "nbformat_minor": 2
}
