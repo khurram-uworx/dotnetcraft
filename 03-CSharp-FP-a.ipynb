{
 "cells": [
  {
   "cell_type": "markdown",
   "metadata": {},
   "source": [
    "# Recursion 🔮"
   ]
  },
  {
   "cell_type": "code",
   "execution_count": null,
   "metadata": {
    "dotnet_interactive": {
     "language": "csharp"
    },
    "polyglot_notebook": {
     "kernelName": "csharp"
    },
    "vscode": {
     "languageId": "polyglot-notebook"
    }
   },
   "outputs": [],
   "source": [
    "using static System.Console;\n",
    "\n",
    "void printMaze(char[,] maze)\n",
    "{\n",
    "    for (int i = 0; i < maze.GetLength(0); i++)\n",
    "    {\n",
    "        for (int j = 0; j < maze.GetLength(1); j++)\n",
    "            Write(maze[i, j] + \" \");\n",
    "        WriteLine();\n",
    "    }\n",
    "}\n",
    "\n",
    "bool isValidMove(char[,] maze, int x, int y) =>\n",
    "    x >= 0 && x < maze.GetLength(0) &&\n",
    "    y >= 0 && y < maze.GetLength(1);\n",
    "\n",
    "bool solveMaze(char[,] maze, int x, int y)\n",
    "{\n",
    "    if (!isValidMove(maze, x, y))\n",
    "        return false;                               // recursion termination\n",
    "\n",
    "    if (maze[x, y] == 'E')                          // ending\n",
    "        return true;                                // recursion termination\n",
    "\n",
    "    if (maze[x, y] == '1' || maze[x, y] == '*')     // hit the wall or already visited spot\n",
    "        return false;                               // recursion termination\n",
    "\n",
    "    maze[x, y] = '*';                               // breadcrumb of the solution path\n",
    "\n",
    "    if (solveMaze(maze, x - 1, y))                  // up\n",
    "        return true;\n",
    "\n",
    "    if (solveMaze(maze, x + 1, y))                  // down\n",
    "        return true;\n",
    "\n",
    "    if (solveMaze(maze, x, y - 1))                  // left\n",
    "        return true;\n",
    "\n",
    "    if (solveMaze(maze, x, y + 1))                  // right\n",
    "        return true;\n",
    "\n",
    "    maze[x, y] = '0';                               // we couldnt reach anywhere; lets unmark\n",
    "    return false;                                   // and fail\n",
    "}\n",
    "\n",
    "char[,] maze = {\n",
    "    { 'S', '1', '0', '0', '0' },\n",
    "    { '0', '1', '1', '1', '0' },\n",
    "    { '0', '0', '0', '1', '0' },\n",
    "    { '1', '1', '0', '1', 'E' },\n",
    "    { '0', '0', '0', '0', '0' }\n",
    "};\n",
    "\n",
    "int x = 0, y = 0;\n",
    "\n",
    "if (solveMaze(maze, x, y))\n",
    "{\n",
    "    WriteLine(\"Path found:\");\n",
    "    printMaze(maze);\n",
    "}\n",
    "else\n",
    "    WriteLine(\"No path found.\");"
   ]
  },
  {
   "cell_type": "markdown",
   "metadata": {},
   "source": [
    "- https://www.youtube.com/watch?v=qbHUKPI0YIw 👈"
   ]
  },
  {
   "cell_type": "code",
   "execution_count": null,
   "metadata": {
    "dotnet_interactive": {
     "language": "csharp"
    },
    "polyglot_notebook": {
     "kernelName": "csharp"
    },
    "vscode": {
     "languageId": "polyglot-notebook"
    }
   },
   "outputs": [],
   "source": [
    "int Factorial(int n)\n",
    "{\n",
    "    if (n < 0)                              // recursion termination\n",
    "        throw new ArgumentException(\"Input must be a non-negative integer\", nameof(n));\n",
    "    else if (n == 0)                        // recursion termination\n",
    "        return 1;\n",
    "    else\n",
    "        return n * Factorial(n - 1);        // tail recursion\n",
    "}\n",
    "\n",
    "Factorial(5)"
   ]
  },
  {
   "cell_type": "markdown",
   "metadata": {},
   "source": [
    "# Going \"Functional\" 🎈"
   ]
  },
  {
   "cell_type": "markdown",
   "metadata": {},
   "source": [
    "In computer science, functional programming is a programming paradigm where programs are constructed by __applying and composing functions.__ It is a declarative programming paradigm in which __function definitions are trees of expressions that map values to other values, rather than a sequence of imperative statements which update the running state of the program__ - Wikipedia"
   ]
  },
  {
   "cell_type": "markdown",
   "metadata": {},
   "source": [
    "- https://en.wikipedia.org/wiki/Functional_programming\n",
    "- Functions as first-class; so a program becomes *declarative* and *composable*\n",
    "    - Passed as Parameter\n",
    "    - Can be Returned\n",
    "- Pure Functional Programming; so a program has *fewer bugs*, *easy to debug* and becomes *testable*\n",
    "    - Avoiding state mutation; side effects\n",
    "    - Functions are __deterministic__"
   ]
  },
  {
   "cell_type": "markdown",
   "metadata": {},
   "source": [
    "__Why__\n",
    "- Functional Programming suites for Parallel Computing\n",
    "- Functional Programming suites for Cloud\n",
    "- Functional Programming suites for AI workloads"
   ]
  },
  {
   "cell_type": "markdown",
   "metadata": {},
   "source": [
    "# Higher Order Functions ⚡"
   ]
  },
  {
   "cell_type": "markdown",
   "metadata": {},
   "source": [
    "<img src=images/functional-programming-meme-1.png>"
   ]
  },
  {
   "cell_type": "markdown",
   "metadata": {},
   "source": [
    "## Java-ish / C# 1.x [OOP-ish]"
   ]
  },
  {
   "cell_type": "code",
   "execution_count": null,
   "metadata": {
    "dotnet_interactive": {
     "language": "csharp"
    },
    "polyglot_notebook": {
     "kernelName": "csharp"
    },
    "vscode": {
     "languageId": "polyglot-notebook"
    }
   },
   "outputs": [],
   "source": [
    "// C# 1\n",
    "\n",
    "delegate bool Predicate(int i);\n",
    "\n",
    "bool GreaterThan5(int x)\n",
    "{\n",
    "    return x > 5;\n",
    "}\n",
    "\n",
    "int[] Filter(int[] source, Predicate p) // Seperating Responsibility 🤝\n",
    "{\n",
    "    ArrayList destination = new ArrayList();\n",
    "    \n",
    "    foreach(int item in source)\n",
    "    {\n",
    "        if (p(item)) destination.Add(item);\n",
    "    }\n",
    "\n",
    "    int[] result = new int[destination.Count];\n",
    "    for(int i = 0; i < result.Length; i ++)\n",
    "        result[i] = (int)destination[i];\n",
    "    \n",
    "    return result;\n",
    "}\n",
    "\n",
    "int[] array = { 1, 3, 5, 7, 9 };\n",
    "int[] query = Filter(array, GreaterThan5);\n",
    "foreach(var r in query)\n",
    "    Console.WriteLine(r);"
   ]
  },
  {
   "cell_type": "markdown",
   "metadata": {},
   "source": [
    "## Generics / Parametric Polymorphism"
   ]
  },
  {
   "cell_type": "code",
   "execution_count": null,
   "metadata": {
    "dotnet_interactive": {
     "language": "csharp"
    },
    "polyglot_notebook": {
     "kernelName": "csharp"
    },
    "vscode": {
     "languageId": "polyglot-notebook"
    }
   },
   "outputs": [],
   "source": [
    "// C# 2; Polymorphism; Parametric Polymorphism and Sub Type Polymorphism\n",
    "// Generics are Parametric Polymorphism\n",
    "delegate bool Predicate<T>(T i);\n",
    "\n",
    "IEnumerable<T> Filter<T>(IEnumerable<T> source, Predicate<T> p)\n",
    "{\n",
    "    foreach(T item in source)\n",
    "        if (p(item)) yield return item;\n",
    "}\n",
    "\n",
    "int[] array = { 1, 3, 5, 7, 9 };\n",
    "IEnumerable<int> query = Filter(array,\n",
    "    delegate (int x) { return x > 5; });\n",
    "\n",
    "foreach(int r in query)\n",
    "    Console.WriteLine(r);"
   ]
  },
  {
   "cell_type": "markdown",
   "metadata": {},
   "source": [
    "## Actions and Funcs"
   ]
  },
  {
   "cell_type": "code",
   "execution_count": null,
   "metadata": {
    "dotnet_interactive": {
     "language": "csharp"
    },
    "polyglot_notebook": {
     "kernelName": "csharp"
    },
    "vscode": {
     "languageId": "polyglot-notebook"
    }
   },
   "outputs": [],
   "source": [
    "using System.Collections.Generic;\n",
    "\n",
    "bool IsEven(int number)\n",
    "{\n",
    "    return number % 2 == 0;\n",
    "}\n",
    "\n",
    "IEnumerable<T> Filter<T>(IEnumerable<T> source, Func<T, bool> p)\n",
    "{\n",
    "    foreach(T item in source)\n",
    "        if (p(item)) yield return item;\n",
    "}\n",
    "\n",
    "var numbers = new List<int> { 1, 2, 3, 4, 5, 6, 7, 8, 9, 10 };\n",
    "IEnumerable<int> query = Filter(numbers, IsEven);\n",
    "\n",
    "foreach(int r in query)\n",
    "    Console.WriteLine(r);"
   ]
  },
  {
   "cell_type": "markdown",
   "metadata": {},
   "source": [
    "## LINQy"
   ]
  },
  {
   "cell_type": "code",
   "execution_count": null,
   "metadata": {
    "dotnet_interactive": {
     "language": "csharp"
    },
    "polyglot_notebook": {
     "kernelName": "csharp"
    },
    "vscode": {
     "languageId": "polyglot-notebook"
    }
   },
   "outputs": [],
   "source": [
    "// C# 3; Querying\n",
    "using System.Linq;\n",
    "\n",
    "int[] array = { 1, 3, 5, 7, 9 };\n",
    "\n",
    "var query = from x in array.AsQueryable()   // Code Quotation: treating code as data\n",
    "            where x > 5                     //      Dynamic nature of C#: We dont exactly need IQueryable; compiler will discover if it query\n",
    "            select x;                       //      the object / collection; if it finds the special method queries will work; similar to foreach\n",
    "\n",
    "Console.WriteLine(query.Expression);        // Code Quotation; its not executed\n",
    "\n",
    "foreach(var r in query)                     // the expression will start to execute here\n",
    "    Console.WriteLine(r);"
   ]
  },
  {
   "cell_type": "code",
   "execution_count": null,
   "metadata": {
    "dotnet_interactive": {
     "language": "csharp"
    },
    "polyglot_notebook": {
     "kernelName": "csharp"
    },
    "vscode": {
     "languageId": "polyglot-notebook"
    }
   },
   "outputs": [],
   "source": [
    "using static System.Console;\n",
    "using System.Collections.Generic;\n",
    "using System.Linq;\n",
    "\n",
    "var numbers = new List<int> { 1, 2, 3, 4, 5, 6, 7, 8, 9, 10 };\n",
    "\n",
    "var evenNumbers = numbers.Where(n => n % 2 == 0);                   // Code Quotation           Composing Query    Equals()   Square()    ^2\n",
    "var sortedEvenNumbers = evenNumbers.OrderByDescending(o => o);      // Still Code Quotation\n",
    "\n",
    "foreach (var number in sortedEvenNumbers)                           // expression will start to execute here\n",
    "    WriteLine(number);"
   ]
  },
  {
   "cell_type": "markdown",
   "metadata": {},
   "source": [
    "__LINQ as a functional library__\n",
    "\n",
    "- LINQ methods are higher order functions\n",
    "- LINQ methods promotes immutability; they return new collections\n",
    "    - Pure Functions\n",
    "- Declarative approach to querying data using operator overloading (succinct code)\n",
    "```var largeOrders = orders.Where(o => o.Total > 1000);```\n",
    "- First class functions and Closures\n",
    "```Func<int, bool> isEven = n => n % 2 == 0;```\n",
    "```var evenNumbers = numbers.Where(isEven);```\n",
    "- Composition\n",
    "```var processedNumbers = numbers.Where(n => n % 2 == 0)```\n",
    "```                            .Select(n => n * n)```\n",
    "```                            .OrderBy(n => n);```\n",
    "- Lazy Evaluations\n",
    "- Functional Interfaces; IEnumerable<T> -> IQueryable<T>\n",
    "```IEnumerable<int> numbers = new List<int> { 1, 2, 3, 4, 5 };```\n",
    "```var evenNumbers = numbers.Where(n => n % 2 == 0);```"
   ]
  },
  {
   "cell_type": "markdown",
   "metadata": {},
   "source": [
    "## Real World Examples"
   ]
  },
  {
   "cell_type": "code",
   "execution_count": null,
   "metadata": {
    "dotnet_interactive": {
     "language": "csharp"
    },
    "polyglot_notebook": {
     "kernelName": "csharp"
    },
    "vscode": {
     "languageId": "polyglot-notebook"
    }
   },
   "outputs": [],
   "source": [
    "using System.Net.Sockets;\n",
    "using System.Threading;\n",
    "\n",
    "interface IDatabase { Task<bool> OpenAsync(); }\n",
    "class RedisConnectionException : SocketException {}         // this is odd one out and making our retry logic coupled\n",
    "\n",
    "static Task ForceReconnectAsync() => Task.CompletedTask;    // some retry logic\n",
    "\n",
    "static async Task<T> BasicRetryAsync<T>(this IDatabase database, Func<IDatabase, Task<T>> func) // for instance Task<bool> OpenAsync(); we can retry it\n",
    "{\n",
    "    int RetryMaxAttempts = 5;\n",
    "    int reconnectRetry = 0;\n",
    "\n",
    "    while (true)\n",
    "    {\n",
    "        try\n",
    "        {\n",
    "            return await func(database);\n",
    "        }\n",
    "        catch (Exception ex) when (ex is RedisConnectionException || ex is SocketException || ex is ObjectDisposedException)\n",
    "        {\n",
    "            reconnectRetry++;\n",
    "            if (reconnectRetry > RetryMaxAttempts)\n",
    "                throw;\n",
    "\n",
    "            try\n",
    "            {\n",
    "                Thread.Sleep(100);\n",
    "                await ForceReconnectAsync();\n",
    "            }\n",
    "            catch (ObjectDisposedException) { }\n",
    "        }\n",
    "    }\n",
    "}\n",
    "\n",
    "//class RedisConnectionException : DatabaseConnectionException {}\n",
    "class RedisDatabase : IDatabase\n",
    "{\n",
    "    public async Task<bool> OpenAsync() => await Task.FromResult(true);\n",
    "}\n",
    "\n",
    "var database = new RedisDatabase();\n",
    "var opened = database.BasicRetryAsync(database => database.OpenAsync());"
   ]
  },
  {
   "cell_type": "code",
   "execution_count": null,
   "metadata": {
    "dotnet_interactive": {
     "language": "csharp"
    },
    "polyglot_notebook": {
     "kernelName": "csharp"
    },
    "vscode": {
     "languageId": "polyglot-notebook"
    }
   },
   "outputs": [],
   "source": [
    "using System.Collections.Generic;\n",
    "\n",
    "static void post(string url, dynamic parameters,\n",
    "    Dictionary<string, string> headers,\n",
    "    Action OnSuccess, Action<Exception> OnFailure)      // callbacks: seperating responsibility 🤝\n",
    "{\n",
    "    //lets say we have failed\n",
    "    var exception = new ArgumentException();            // should we throw it? or get its decision from callback?\n",
    "    OnFailure(exception);                               // built in Action and Func dont have ref T support; we can have customized delegate\n",
    "    throw exception;                                    // or we can have a custome reference type like EventArgs and then callback can set some flag etc\n",
    "}\n",
    "\n",
    "static void post(string url, dynamic parameters,\n",
    "    Func<Dictionary<string, string>> getHeaders,        // lazy loading: seperating responsibility 🤝\n",
    "    Action OnSuccess, Action<Exception> OnFailure)\n",
    "{\n",
    "    var headers = getHeaders();\n",
    "}\n",
    "\n"
   ]
  },
  {
   "cell_type": "markdown",
   "metadata": {},
   "source": [
    "- why we are using static\n",
    "    - everything needed should be passed\n",
    "    - parallel and distributed processing\n",
    "    - message passing\n",
    "- why its a good idea to have them in seperate class\n",
    "- extension methods force you that they must be static and makes perfect sense"
   ]
  },
  {
   "cell_type": "markdown",
   "metadata": {},
   "source": [
    "# Traveling Salesman 📃🎈🔮"
   ]
  },
  {
   "cell_type": "markdown",
   "metadata": {},
   "source": [
    "## SelectMany"
   ]
  },
  {
   "cell_type": "code",
   "execution_count": null,
   "metadata": {
    "dotnet_interactive": {
     "language": "csharp"
    },
    "polyglot_notebook": {
     "kernelName": "csharp"
    },
    "vscode": {
     "languageId": "polyglot-notebook"
    }
   },
   "outputs": [],
   "source": [
    "using static System.Console;\n",
    "using System;\n",
    "using System.Collections.Generic;\n",
    "using System.Linq;\n",
    "\n",
    "record Order(int Id, string Product);\n",
    "record Customer(string Name, List<Order> Orders);\n",
    "\n",
    "var customers = new List<Customer>\n",
    "{\n",
    "    new Customer(\"Alpha\",\n",
    "        Orders: new List<Order>\n",
    "        {\n",
    "            new Order(1, \"Book\"),\n",
    "            new Order(2, \"Pen\")\n",
    "        }),\n",
    "    new Customer(\"Bravo\",\n",
    "        Orders: new List<Order>\n",
    "        {\n",
    "            new Order(3, \"Notebook\")\n",
    "        })\n",
    "};\n",
    "\n",
    "void print<T>(IEnumerable<T> collection)\n",
    "{\n",
    "    foreach (var item in collection)\n",
    "        WriteLine(item);\n",
    "}\n",
    "\n",
    "var allOrders = customers.SelectMany(customer => customer.Orders);\n",
    "print(allOrders);\n",
    "\n",
    "var allOrderIds = customers.SelectMany(\n",
    "    c => c.Orders,      //collectionSelector        if we want to handle null case we can do something like c => c.Orders ?? Enumerable.Empty<Order>()\n",
    "    (c, o) => o.Id);    //resultSelector            this will not be \"fired\" when collectionSelector is emtpy\n",
    "print(allOrderIds);"
   ]
  },
  {
   "cell_type": "markdown",
   "metadata": {},
   "source": [
    "## Permutation with SelectMany"
   ]
  },
  {
   "cell_type": "code",
   "execution_count": null,
   "metadata": {
    "dotnet_interactive": {
     "language": "csharp"
    },
    "polyglot_notebook": {
     "kernelName": "csharp"
    },
    "vscode": {
     "languageId": "polyglot-notebook"
    }
   },
   "outputs": [],
   "source": [
    "IEnumerable<IEnumerable<T>> Permutations<T>(IEnumerable<T> items)\n",
    "{\n",
    "    if (items.Count() == 1)             // recursion termination\n",
    "        return new[] { items };\n",
    "\n",
    "    return items.SelectMany(\n",
    "        item => Permutations(items.Where(i => !i.Equals(item))),        //collectionSelector\n",
    "        (item, permutation) => new[] { item }.Concat(permutation));     //resultSelector\n",
    "}\n",
    "\n",
    "Permutations([1, 2, 3])"
   ]
  },
  {
   "cell_type": "markdown",
   "metadata": {},
   "source": [
    "## Permutation & Recursion - Brute-force"
   ]
  },
  {
   "cell_type": "code",
   "execution_count": null,
   "metadata": {
    "dotnet_interactive": {
     "language": "csharp"
    },
    "polyglot_notebook": {
     "kernelName": "csharp"
    },
    "vscode": {
     "languageId": "polyglot-notebook"
    }
   },
   "outputs": [],
   "source": [
    "record Edge(string From, string To, double Distance);\n",
    "\n",
    "static IEnumerable<IEnumerable<Edge>> Permutations(IEnumerable<Edge> items,\n",
    "    string startNode,\n",
    "    string currentNode, HashSet<string> visitedNodes)\n",
    "{\n",
    "    visitedNodes.Add(currentNode);\n",
    "\n",
    "    // always think to get out of recursion first\n",
    "\n",
    "    // checking if we have visited them all\n",
    "    if (visitedNodes.Count == items.Select(e => e.From).Distinct().Count())\n",
    "    {\n",
    "        // finding our way back home\n",
    "        var backToStart = items.FirstOrDefault(e => e.From == currentNode && e.To == startNode);\n",
    "        if (backToStart != null) // we found a good route that takes us back home\n",
    "            return new List<List<Edge>> { new List<Edge> { backToStart } };\n",
    "        else // we are on the wrong track; we have visited all items but we cant go back home\n",
    "        {\n",
    "            visitedNodes.Remove(currentNode);\n",
    "            return Enumerable.Empty<IEnumerable<Edge>>();\n",
    "        }\n",
    "    }\n",
    "\n",
    "    // the next item we want to visit is the one which is connected to our current node\n",
    "    // and we havnt visited it yet\n",
    "    var startingEdges = items.Where(item => item.From == currentNode && !visitedNodes.Contains(item.To));\n",
    "\n",
    "    return startingEdges.SelectMany(\n",
    "        item =>\n",
    "        {\n",
    "            var newVisitedNodes = new HashSet<string>(visitedNodes);\n",
    "            return Permutations(items, startNode, item.To, newVisitedNodes)\n",
    "                .Select(permutation => new[] { item }.Concat(permutation));\n",
    "        }\n",
    "    );\n",
    "}\n",
    "\n",
    "var edges = new List<Edge>\n",
    "{\n",
    "    new Edge(\"A\", \"B\", 1.0),\n",
    "    new Edge(\"B\", \"A\", 1.0),\n",
    "    \n",
    "    new Edge(\"A\", \"C\", 1.5),    // diagonal\n",
    "    new Edge(\"C\", \"A\", 1.5),    // diagonal\n",
    "    \n",
    "    new Edge(\"A\", \"D\", 1.0),\n",
    "    new Edge(\"D\", \"A\", 1.0),\n",
    "\n",
    "    new Edge(\"B\", \"C\", 1.0),\n",
    "    new Edge(\"C\", \"B\", 1.0),\n",
    "\n",
    "    new Edge(\"B\", \"D\", 1.5),    // diagonal\n",
    "    new Edge(\"D\", \"B\", 1.5),    // diagonal\n",
    "\n",
    "    new Edge(\"C\", \"D\", 1.0),\n",
    "    new Edge(\"D\", \"C\", 1.0)\n",
    "};\n",
    "\n",
    "var permutations = Permutations(edges, \"A\", \"A\", new HashSet<string>());\n",
    "var q = from p in permutations\n",
    "        select new { Nodes = p, Distance = p.Sum(n => n.Distance)};\n",
    "\n",
    "foreach (var r in q)\n",
    "    Console.WriteLine(\"[{1}] {0}\",\n",
    "        string.Join(\" ; \", r.Nodes.Select(e => $\"{e.From}->{e.To}({e.Distance})\")),\n",
    "        r.Distance);\n",
    "\n",
    "Console.WriteLine(\"Least Distance Route:\");\n",
    "var leastDistanceRoute = q.OrderBy(r => r.Distance).FirstOrDefault();\n",
    "\n",
    "if (null != leastDistanceRoute)\n",
    "    Console.WriteLine(\"[{1}] {0}\",\n",
    "        string.Join(\" ; \", leastDistanceRoute.Nodes.Select(e => $\"{e.From}->{e.To}({e.Distance})\")),\n",
    "        leastDistanceRoute.Distance);\n"
   ]
  },
  {
   "cell_type": "markdown",
   "metadata": {},
   "source": [
    "## Traveling Salesman"
   ]
  },
  {
   "cell_type": "code",
   "execution_count": null,
   "metadata": {
    "dotnet_interactive": {
     "language": "csharp"
    },
    "polyglot_notebook": {
     "kernelName": "csharp"
    },
    "vscode": {
     "languageId": "polyglot-notebook"
    }
   },
   "outputs": [],
   "source": [
    "record Edge(string From, string To, double Distance);\n",
    "\n",
    "class TravelingSalesman// : IEnumerable<string>\n",
    "{\n",
    "    string startFrom = null;\n",
    "    List<Edge> edges = new();\n",
    "\n",
    "    public TravelingSalesman(string startFrom, IEnumerable<Edge> edges)\n",
    "    {\n",
    "        if (string.IsNullOrWhiteSpace(startFrom)) throw new ArgumentException(\"startFrom\");\n",
    "        if (null == edges) throw new ArgumentException(\"edges\");\n",
    "\n",
    "        foreach(var edge in edges)\n",
    "        {\n",
    "            if (null != edge)\n",
    "            {\n",
    "                var viceVersa = new Edge(edge.To, edge.From, edge.Distance);\n",
    "\n",
    "                // we are interested in unique edges\n",
    "                if (!this.edges.Contains(edge)) this.edges.Add(edge);\n",
    "                if (!this.edges.Contains(viceVersa)) this.edges.Add(viceVersa);\n",
    "            }\n",
    "        }\n",
    "    }\n",
    "}\n",
    "\n",
    "var system = new TravelingSalesman(\"A\",\n",
    "[\n",
    "    new Edge(\"A\", \"B\", 1), new Edge(\"B\", \"A\", 1),\n",
    "    new Edge(\"B\", \"C\", 1),\n",
    "    new Edge(\"A\", \"C\", 1)\n",
    "]);\n",
    "\n",
    "//system.GetBestPath()"
   ]
  },
  {
   "cell_type": "markdown",
   "metadata": {},
   "source": [
    "# Points 👈"
   ]
  },
  {
   "cell_type": "markdown",
   "metadata": {},
   "source": [
    "- __IEnumerable<T>__\n",
    "    - though more verbose; but as we have type inference in C# and it is becoming succint more and more we have to type it very rare\n",
    "    - its safe than arrays (int[]) as its read only contract (Visitor Pattern)\n",
    "    - its an abstraction; anyone implementing it can enjoy lets say \"System.Linq\" toppings\n",
    "\n",
    "- __Extension Methods & Pipes__\n",
    "    - How this along with Fluent APIs solve inside to outside problem of Procedural Languages\n",
    "        - Where(Where(x, predicate1), predicate2) becomes Where(predicate1).Where(predicate2)\n",
    "\n",
    "- __IDE Focused Language Design__\n",
    "    - How LINQ choices were made to keep C# as IDE focused language\n",
    "\n",
    "- __Code Quotations and ORM__\n",
    "    - LINQ's code quotation approach resolves the classic ORM issue; we can \"translate\" code quotation to another code quotation and can run it some place else\n",
    "    - Relational or Non Relational; doesnt matter\n",
    "        - SQL, Oracle, mySQL, PostgreSQL\n",
    "        - LINQ to XML, Objects\n",
    "        - Parallel LINQ; we will learn about it\n",
    "        - LINQ to Json (Json.Net)\n",
    "        - LINQ to LDAP / Sharepoint\n",
    "        - LINQ to XML-RPC\n",
    "        - LINQ to MongoDB, Amazon DynamoDB, RavenDB, CosmosDB, Couchbase\n",
    "        - LINQ to Hadoop / Hive, Apache Spark, Azure Data Lake, Google BigQuery\n",
    "        - Reactive Extension\n",
    "        - Spotify, GraphQL"
   ]
  }
 ],
 "metadata": {
  "kernelspec": {
   "display_name": ".NET (C#)",
   "language": "C#",
   "name": ".net-csharp"
  },
  "language_info": {
   "name": "python",
   "version": "3.12.2"
  },
  "polyglot_notebook": {
   "kernelInfo": {
    "defaultKernelName": "csharp",
    "items": [
     {
      "aliases": [],
      "name": "csharp"
     },
     {
      "aliases": [],
      "languageName": "python",
      "name": "pythonkernel"
     }
    ]
   }
  }
 },
 "nbformat": 4,
 "nbformat_minor": 2
}
