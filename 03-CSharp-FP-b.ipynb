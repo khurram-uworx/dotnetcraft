{
 "cells": [
  {
   "cell_type": "markdown",
   "metadata": {},
   "source": [
    "# Let in LINQ 💾"
   ]
  },
  {
   "cell_type": "markdown",
   "metadata": {},
   "source": [
    "- if we want to store the result of a subexpression in order to use it in subsequent clauses\n",
    "- https://learn.microsoft.com/en-us/dotnet/csharp/language-reference/keywords/let-clause"
   ]
  },
  {
   "cell_type": "code",
   "execution_count": null,
   "metadata": {
    "dotnet_interactive": {
     "language": "csharp"
    },
    "polyglot_notebook": {
     "kernelName": "csharp"
    },
    "vscode": {
     "languageId": "polyglot-notebook"
    }
   },
   "outputs": [],
   "source": [
    "using static System.Console;\n",
    "\n",
    "string[] strings =\n",
    "[\n",
    "    \"A penny saved is a penny earned\",\n",
    "    \"The early bird catches the worm\",\n",
    "    \"The pen is mightier than the sword\"\n",
    "];\n",
    "char[] vovels = [ 'a', 'e', 'i', 'o', 'u' ];\n",
    "\n",
    "var query = from sentence in strings\n",
    "            let words = sentence.Split(' ')\n",
    "            \n",
    "            from word in words\n",
    "            let w = word.ToLower()\n",
    "            \n",
    "            where vovels.Contains(w[0])\n",
    "            select word;\n",
    "\n",
    "foreach (var v in query)\n",
    "    WriteLine($\"{v} starts with a vowel\");"
   ]
  },
  {
   "cell_type": "markdown",
   "metadata": {},
   "source": [
    "# Closure 🎗️"
   ]
  },
  {
   "cell_type": "markdown",
   "metadata": {},
   "source": [
    "<img src=images/functional-programming-meme-3.jpg>"
   ]
  },
  {
   "cell_type": "markdown",
   "metadata": {},
   "source": [
    "## Revision Closure 101"
   ]
  },
  {
   "cell_type": "code",
   "execution_count": null,
   "metadata": {
    "dotnet_interactive": {
     "language": "csharp"
    },
    "polyglot_notebook": {
     "kernelName": "csharp"
    },
    "vscode": {
     "languageId": "polyglot-notebook"
    }
   },
   "outputs": [],
   "source": [
    "using static System.Console;\n",
    "\n",
    "int outerVariable = 10;\n",
    "\n",
    "Action displayValue = () => WriteLine(outerVariable);\n",
    "Func<int, int> addValue = (x) => x + outerVariable;\n",
    "\n",
    "outerVariable = 15;\n",
    "\n",
    "displayValue();\n",
    "WriteLine(addValue(5));"
   ]
  },
  {
   "cell_type": "markdown",
   "metadata": {},
   "source": [
    "- treating code as data\n",
    "- dynamic nature of C# compiler\n",
    "- https://learn.microsoft.com/en-us/dotnet/api/system.delegate"
   ]
  },
  {
   "cell_type": "code",
   "execution_count": null,
   "metadata": {
    "dotnet_interactive": {
     "language": "csharp"
    },
    "polyglot_notebook": {
     "kernelName": "csharp"
    },
    "vscode": {
     "languageId": "polyglot-notebook"
    }
   },
   "outputs": [],
   "source": [
    "using static System.Console;\n",
    "\n",
    "int outerVariable = 10;\n",
    "\n",
    "int _captureDeclareTimeValue = outerVariable;\n",
    "Action displayValue = () => WriteLine(_captureDeclareTimeValue);\n",
    "Func<int, int> addValue = (x) => x + _captureDeclareTimeValue;\n",
    "\n",
    "outerVariable = 15;\n",
    "\n",
    "displayValue();\n",
    "WriteLine(addValue(5));"
   ]
  },
  {
   "cell_type": "markdown",
   "metadata": {},
   "source": [
    "## Local Functions"
   ]
  },
  {
   "cell_type": "markdown",
   "metadata": {},
   "source": [
    "<img src=images/functional-programming-meme-2.jpg>"
   ]
  },
  {
   "cell_type": "code",
   "execution_count": null,
   "metadata": {
    "dotnet_interactive": {
     "language": "csharp"
    },
    "polyglot_notebook": {
     "kernelName": "csharp"
    },
    "vscode": {
     "languageId": "polyglot-notebook"
    }
   },
   "outputs": [],
   "source": [
    "#nullable enable\n",
    "\n",
    "void Process(string?[] lines, string mark)\n",
    "{\n",
    "    foreach (var line in lines)\n",
    "    {\n",
    "        if (IsValid(line))\n",
    "        {\n",
    "            // Processing logic...\n",
    "        }\n",
    "    }\n",
    "\n",
    "    bool IsValid(string? line) =>\n",
    "        !string.IsNullOrEmpty(line) && line.Length >= mark.Length;\n",
    "}"
   ]
  },
  {
   "cell_type": "markdown",
   "metadata": {},
   "source": [
    "Its matter of choice; how you can express better"
   ]
  },
  {
   "cell_type": "code",
   "execution_count": null,
   "metadata": {
    "dotnet_interactive": {
     "language": "csharp"
    },
    "polyglot_notebook": {
     "kernelName": "csharp"
    },
    "vscode": {
     "languageId": "polyglot-notebook"
    }
   },
   "outputs": [],
   "source": [
    "using System.Linq;\n",
    "\n",
    "int Factorial(int n)\n",
    "{\n",
    "    if (n < 0) throw new ArgumentException(\"Input must be a non-negative integer\");\n",
    "\n",
    "    return nthFactorial(n);\n",
    "\n",
    "    int nthFactorial(int n) =>\n",
    "        n < 2 ? 1 : n * nthFactorial(n - 1);\n",
    "}\n",
    "\n",
    "Factorial(5)"
   ]
  },
  {
   "cell_type": "code",
   "execution_count": null,
   "metadata": {
    "dotnet_interactive": {
     "language": "csharp"
    },
    "polyglot_notebook": {
     "kernelName": "csharp"
    },
    "vscode": {
     "languageId": "polyglot-notebook"
    }
   },
   "outputs": [],
   "source": [
    "using System.Linq;\n",
    "\n",
    "int Factorial(int n)\n",
    "{\n",
    "    if (n < 0) throw new ArgumentException(\"Input must be a non-negative integer\");\n",
    "\n",
    "    Func<int, int> nthFactorial = default(Func<int, int>); // for recursion we had to define it\n",
    "    nthFactorial = n => n < 2 ? 1 : n * nthFactorial(n - 1);\n",
    "\n",
    "    return nthFactorial(n);\n",
    "}\n",
    "\n",
    "Factorial(5)"
   ]
  },
  {
   "cell_type": "code",
   "execution_count": null,
   "metadata": {
    "dotnet_interactive": {
     "language": "csharp"
    },
    "polyglot_notebook": {
     "kernelName": "csharp"
    },
    "vscode": {
     "languageId": "polyglot-notebook"
    }
   },
   "outputs": [],
   "source": [
    "IEnumerable<string> sequenceToLowercase(IEnumerable<string> input)\n",
    "{\n",
    "    if (null == input) return Enumerable.Empty<string>();   // throw new ArgumentException(\"input is not valid\");\n",
    "    if (!input.Any()) return Enumerable.Empty<string>();    // throw new ArgumentException(\"There are no items to convert to lowercase.\");\n",
    "    \n",
    "    return LowercaseIterator();\n",
    "    \n",
    "    IEnumerable<string> LowercaseIterator()\n",
    "    {\n",
    "        foreach (var output in input.Select(item => item.ToLower()))\n",
    "            yield return output; // this is not possible in lambdas\n",
    "    }\n",
    "}\n",
    "\n",
    "void print<T>(IEnumerable<T> input)\n",
    "{\n",
    "    Console.WriteLine(string.Join(\", \", input));\n",
    "}\n",
    "\n",
    "print(sequenceToLowercase(null));\n",
    "print(sequenceToLowercase(new string[] { }));\n",
    "print(sequenceToLowercase(new [] { \"Hello\", \"World\" }));"
   ]
  },
  {
   "cell_type": "markdown",
   "metadata": {},
   "source": [
    "- https://learn.microsoft.com/en-us/dotnet/csharp/programming-guide/classes-and-structs/local-functions"
   ]
  },
  {
   "cell_type": "markdown",
   "metadata": {},
   "source": [
    "# Functors ⛈️"
   ]
  },
  {
   "cell_type": "markdown",
   "metadata": {},
   "source": [
    "- https://en.wikipedia.org/wiki/Functor_(functional_programming)\n",
    "- A functor is a design pattern that allows one to apply a function to values inside a generic type without changing the structure of the generic type"
   ]
  },
  {
   "cell_type": "markdown",
   "metadata": {},
   "source": [
    "- Map of Javascript\n",
    "- Select() of C#\n",
    "- Projection"
   ]
  },
  {
   "cell_type": "code",
   "execution_count": null,
   "metadata": {
    "dotnet_interactive": {
     "language": "javascript"
    },
    "polyglot_notebook": {
     "kernelName": "javascript"
    },
    "vscode": {
     "languageId": "polyglot-notebook"
    }
   },
   "outputs": [],
   "source": [
    "// javascript\n",
    "\n",
    "const numbers = [1, 2, 3, 4];\n",
    "const functor = numbers.map(x => x * 2);        // array type has map implementation\n",
    "console.log(functor);\n",
    "\n",
    "\n",
    "class Functor {\n",
    "  constructor(value) {\n",
    "    this.value = value;\n",
    "  }\n",
    "\n",
    "  map(fn) {                                     // our custom type implementing a map function\n",
    "    return new Functor(fn(this.value));         // we are generating a new instance 👈\n",
    "  }\n",
    "}\n",
    "\n",
    "const customFunctor = new Functor(5);\n",
    "const mappedFunctor = customFunctor.map(x => x * 2);\n",
    "console.log(mappedFunctor);"
   ]
  },
  {
   "cell_type": "code",
   "execution_count": null,
   "metadata": {
    "dotnet_interactive": {
     "language": "csharp"
    },
    "polyglot_notebook": {
     "kernelName": "csharp"
    },
    "vscode": {
     "languageId": "polyglot-notebook"
    }
   },
   "outputs": [],
   "source": [
    "using static System.Console;\n",
    "using System.Linq;\n",
    "\n",
    "// Java like Generic / Seperate Map function\n",
    "// But its an extension method and can be brought into context on need basis\n",
    "static IEnumerable<TResult> Map<T, TResult>(this IEnumerable<T> source, Func<T, TResult> selector) =>\n",
    "    source.Select(selector); // I am cheating here; and using LINQ's select\n",
    "\n",
    "var numbers = new List<int> { 1, 2, 3, 4, 5 };\n",
    "var squaredNumbers = numbers.Map(x => x * x);\n",
    "foreach(var number in squaredNumbers)\n",
    "    WriteLine(number);\n",
    "\n",
    "foreach(var number in numbers.Select(n => n * n))\n",
    "    WriteLine(number);"
   ]
  },
  {
   "cell_type": "code",
   "execution_count": null,
   "metadata": {
    "dotnet_interactive": {
     "language": "csharp"
    },
    "polyglot_notebook": {
     "kernelName": "csharp"
    },
    "vscode": {
     "languageId": "polyglot-notebook"
    }
   },
   "outputs": [],
   "source": [
    "using static System.Console;\n",
    "using System.Linq;\n",
    "\n",
    "record Student(string Name, double LastScore, double TotalScore);\n",
    "\n",
    "var students = new[] { new Student(\"Khurram\", 80, 110), new Student(\"Abdullah\", 90, 120) };\n",
    "\n",
    "foreach(var student in students.Select(s => new         // generating a new type / anonymous type\n",
    "    {\n",
    "        s.Name, Percentage = s.LastScore / s.TotalScore * 100\n",
    "    }))\n",
    "\n",
    "    WriteLine($\"Name: {student.Name}, Percentage: {student.Percentage:0.00}\");"
   ]
  },
  {
   "cell_type": "code",
   "execution_count": null,
   "metadata": {
    "dotnet_interactive": {
     "language": "csharp"
    },
    "polyglot_notebook": {
     "kernelName": "csharp"
    },
    "vscode": {
     "languageId": "polyglot-notebook"
    }
   },
   "outputs": [],
   "source": [
    "// Common Types; IEnumerable<T> and Linq / Functor\n",
    "\n",
    "using static System.Console;\n",
    "using System.Linq;\n",
    "\n",
    "//Func<string, bool>\n",
    "var validate = s => !string.IsNullOrEmpty(s)\n",
    "    && s.All(char.IsDigit)\n",
    "    && s.Length > 4;\n",
    "\n",
    "string t1 = \"1234567\";\n",
    "string f1 = \"1234\";\n",
    "string f2 = \"123abc\";\n",
    "string f3 = null;\n",
    "\n",
    "WriteLine(validate(t1));\n",
    "WriteLine(validate(f1));\n",
    "WriteLine(validate(f2));\n",
    "WriteLine(validate(f3));"
   ]
  },
  {
   "cell_type": "code",
   "execution_count": null,
   "metadata": {
    "dotnet_interactive": {
     "language": "csharp"
    },
    "polyglot_notebook": {
     "kernelName": "csharp"
    },
    "vscode": {
     "languageId": "polyglot-notebook"
    }
   },
   "outputs": [],
   "source": [
    "using static System.Console;\n",
    "\n",
    "class Functor\n",
    "{\n",
    "    readonly Func<int, int> function;\n",
    "    public Functor(Func<int, int> function) => (this.function) = function;\n",
    "    public int Invoke(int x) => this.function(x);               // its not necessary to call it Map\n",
    "    public int this[int x] => this.function(x);                 // indexer\n",
    "}\n",
    "\n",
    "var square = new Functor(x => x * x);\n",
    "WriteLine(square.Invoke(5));    //OOP way\n",
    "WriteLine(square[5]);"
   ]
  },
  {
   "cell_type": "markdown",
   "metadata": {},
   "source": [
    "# Referential Transparency 📝"
   ]
  },
  {
   "cell_type": "markdown",
   "metadata": {},
   "source": [
    "- Referential transparency is a property of expressions in which an expression can be replaced with its corresponding value without changing the program's behavior\n",
    "- This property is key to functional programming as it makes reasoning about code easier and allows for optimizations such as memoization."
   ]
  },
  {
   "cell_type": "code",
   "execution_count": null,
   "metadata": {
    "dotnet_interactive": {
     "language": "csharp"
    },
    "polyglot_notebook": {
     "kernelName": "csharp"
    },
    "vscode": {
     "languageId": "polyglot-notebook"
    }
   },
   "outputs": [],
   "source": [
    "int Factorial(int n)\n",
    "{\n",
    "    if (n < 0)                              // recursion termination\n",
    "        throw new ArgumentException(\"Input must be a non-negative integer\", nameof(n));\n",
    "    else if (n == 0)                        // recursion termination\n",
    "        return 1;\n",
    "    else\n",
    "        return n * Factorial(n - 1);        // tail recursion\n",
    "}\n",
    "\n",
    "Factorial(5)"
   ]
  },
  {
   "cell_type": "markdown",
   "metadata": {},
   "source": [
    "## Memoization"
   ]
  },
  {
   "cell_type": "code",
   "execution_count": null,
   "metadata": {
    "dotnet_interactive": {
     "language": "csharp"
    },
    "polyglot_notebook": {
     "kernelName": "csharp"
    },
    "vscode": {
     "languageId": "polyglot-notebook"
    }
   },
   "outputs": [],
   "source": [
    "using static System.Console;\n",
    "using System.Collections.Generic;\n",
    "\n",
    "static Dictionary<int, long> memo = new Dictionary<int, long>();\n",
    "\n",
    "// Memoized Fibonacci function\n",
    "static long Fibonacci(int n)\n",
    "{\n",
    "    if (n <= 1) return n;\n",
    "\n",
    "    if (memo.ContainsKey(n)) return memo[n];\n",
    "\n",
    "    long result = Fibonacci(n - 1) + Fibonacci(n - 2);\n",
    "    memo[n] = result;\n",
    "    return result;\n",
    "}\n",
    "\n",
    "for (int i = 0; i <= 40; i++)\n",
    "    WriteLine($\"Fibonacci({i}) = {Fibonacci(i)}\");"
   ]
  },
  {
   "cell_type": "code",
   "execution_count": null,
   "metadata": {
    "dotnet_interactive": {
     "language": "csharp"
    },
    "polyglot_notebook": {
     "kernelName": "csharp"
    },
    "vscode": {
     "languageId": "polyglot-notebook"
    }
   },
   "outputs": [],
   "source": [
    "using static System.Console;\n",
    "\n",
    "class Functor<T>\n",
    "{\n",
    "    Dictionary<T, T> dictionary = new();\n",
    "    Func<T, T> function;\n",
    "    \n",
    "    public Functor(Func<T, T> function) => (this.function) = function;\n",
    "    \n",
    "    T hitOrMiss(T x)\n",
    "    {\n",
    "        if (this.dictionary.ContainsKey(x)) return this.dictionary[x];\n",
    "\n",
    "        T y = this.function(x);\n",
    "        this.dictionary.Add(x, y);\n",
    "        return y;\n",
    "    }\n",
    "\n",
    "    public T Invoke(T x) => this.hitOrMiss(x);\n",
    "    public T this[T x] => this.hitOrMiss(x); // indexer\n",
    "}\n",
    "\n",
    "var square = new Functor<int>(x => x * x);\n",
    "WriteLine(square[5]);"
   ]
  },
  {
   "cell_type": "markdown",
   "metadata": {},
   "source": [
    "- https://learn.microsoft.com/en-us/dotnet/api/microsoft.extensions.caching.memory.imemorycache"
   ]
  },
  {
   "cell_type": "markdown",
   "metadata": {},
   "source": [
    "# Currying 🎊"
   ]
  },
  {
   "cell_type": "markdown",
   "metadata": {},
   "source": [
    "How we can pass functions to function; we can return a function from a function as well"
   ]
  },
  {
   "cell_type": "code",
   "execution_count": null,
   "metadata": {
    "dotnet_interactive": {
     "language": "csharp"
    },
    "polyglot_notebook": {
     "kernelName": "csharp"
    },
    "vscode": {
     "languageId": "polyglot-notebook"
    }
   },
   "outputs": [],
   "source": [
    "using static System.Console;\n",
    "\n",
    "int traditionalAdd(int a, int b) => a + b;\n",
    "\n",
    "Func<int, int> elaboratedAddX(int x) // returning a function that takes a parameter\n",
    "{\n",
    "    return new Func<int, int>(\n",
    "        (y) =>\n",
    "        {\n",
    "            return x + y;\n",
    "        }\n",
    "    );\n",
    "}\n",
    "\n",
    "Func<int, int> addX(int x) => y => x + y;\n",
    "\n",
    "Func<int, int, int> GiveMeOperations(bool adding)\n",
    "{\n",
    "    return adding ?\n",
    "        (a, b) => a + b :\n",
    "        (a, b) => a - b;\n",
    "}\n",
    "\n",
    "var add1 = elaboratedAddX(5);\n",
    "var add2 = addX(5);\n",
    "var op = GiveMeOperations(adding: true);\n",
    "\n",
    "WriteLine(add1(4));\n",
    "WriteLine(add2(4));\n",
    "WriteLine(op(5, 4));"
   ]
  },
  {
   "cell_type": "markdown",
   "metadata": {},
   "source": [
    "__Lets make things interesting__"
   ]
  },
  {
   "cell_type": "code",
   "execution_count": null,
   "metadata": {
    "dotnet_interactive": {
     "language": "csharp"
    },
    "polyglot_notebook": {
     "kernelName": "csharp"
    },
    "vscode": {
     "languageId": "polyglot-notebook"
    }
   },
   "outputs": [],
   "source": [
    "using static System.Console;\n",
    "\n",
    "Func<int, Func<int, int>> elaboratedCurriedAdd() // returning a function that takes a function as parameter\n",
    "{\n",
    "    return new Func<int, Func<int, int>>(\n",
    "        (x) =>\n",
    "        {\n",
    "            return new Func<int, int>(\n",
    "                (y) =>\n",
    "                {\n",
    "                    return x + y;\n",
    "                }\n",
    "            );\n",
    "        }\n",
    "    );\n",
    "}\n",
    "Func<int, Func<int, int>> curriedAdd() => x => y => x + y;\n",
    "\n",
    "var curry = elaboratedCurriedAdd();     // its a function\n",
    "var adder4 = curry(4);                  // its still a function\n",
    "var r2 = adder4(5);                     // we have the final answer\n",
    "\n",
    "var r3 = curriedAdd()(4)(5);            // let r3 = curriedAdd 4 5\n",
    "\n",
    "WriteLine(r2);\n",
    "WriteLine(r3);"
   ]
  },
  {
   "cell_type": "markdown",
   "metadata": {},
   "source": [
    "Haskell Curry was a logician and mathematician whose work significantly influenced the field of functional programming. Curry functions, or \"currying,\" refer to the process of transforming a function that takes multiple arguments into a series of functions that each take a single argument.\n",
    "What is Currying?\n",
    "\n",
    "Currying is a technique used in functional programming where a function with multiple parameters is transformed into a sequence of functions, each taking a single parameter. It allows for more flexible function composition and partial application of functions.\n",
    "\n",
    "- Currying is useful for partial implementations\n",
    "- Function Composition\n",
    "- Reusability\n",
    "- Declarative Code\n",
    "- Immutability\n",
    "- Higher Order Functions"
   ]
  },
  {
   "cell_type": "markdown",
   "metadata": {},
   "source": [
    "# Putting it Altogether 🎇"
   ]
  },
  {
   "cell_type": "code",
   "execution_count": null,
   "metadata": {
    "dotnet_interactive": {
     "language": "csharp"
    },
    "polyglot_notebook": {
     "kernelName": "csharp"
    },
    "vscode": {
     "languageId": "polyglot-notebook"
    }
   },
   "outputs": [],
   "source": [
    "using static System.Console;\n",
    "using System.Threading;\n",
    "\n",
    "record Device(string ip);\n",
    "\n",
    "static void DoSomething(this Device device) { Thread.Sleep(3000); }\n",
    "static void DoSomethingElse(this Device device) { Thread.Sleep(3000); }\n",
    "\n",
    "void log(Device d, string message) { WriteLine($\"[{d.ip}] {message}\"); }\n",
    "void error(Device d, Exception ex) { WriteLine($\"[{d.ip}] {ex}\"); }\n",
    "\n",
    "void Process(CancellationToken token, IEnumerable<Device> devices)\n",
    "{\n",
    "    Parallel.ForEach(devices, d =>\n",
    "    {\n",
    "        try\n",
    "        {\n",
    "            if (token.IsCancellationRequested) return;\n",
    "            log(d, \"Doing something\");\n",
    "            d.DoSomething();\n",
    "\n",
    "            if (token.IsCancellationRequested) return;\n",
    "            log(d, \"Doing something else\");\n",
    "            d.DoSomethingElse();\n",
    "        }\n",
    "        catch (Exception ex)\n",
    "        {\n",
    "            error(d, ex);\n",
    "        }\n",
    "    });\n",
    "}"
   ]
  },
  {
   "cell_type": "code",
   "execution_count": null,
   "metadata": {
    "dotnet_interactive": {
     "language": "csharp"
    },
    "polyglot_notebook": {
     "kernelName": "csharp"
    },
    "vscode": {
     "languageId": "polyglot-notebook"
    }
   },
   "outputs": [],
   "source": [
    "using static System.Console;\n",
    "using System.Threading;\n",
    "\n",
    "record Device(string ip);\n",
    "\n",
    "static void DoSomething(this Device device) { Thread.Sleep(3000); }\n",
    "static void DoSomethingElse(this Device device) { Thread.Sleep(3000); }\n",
    "\n",
    "Action<Device, CancellationToken, Action<Device, string>> getStep(Action<Device> func, string step)\n",
    "{\n",
    "    return (d, token, log) =>\n",
    "    {\n",
    "        if (token.IsCancellationRequested) return;\n",
    "        log(d, step);\n",
    "        func(d);\n",
    "    };\n",
    "}\n",
    "\n",
    "Action<Action<Device, string>, Action<Device, Exception>> processDevice(CancellationToken token, Device d)\n",
    "{\n",
    "    return (log, error) =>\n",
    "    {\n",
    "        try\n",
    "        {\n",
    "            getStep(d => d.DoSomething(), \"Doing something\")(d, token, log);\n",
    "            getStep(d => d.DoSomethingElse(), \"Doing something else\")(d, token, log);\n",
    "        }\n",
    "        catch (Exception ex)\n",
    "        {\n",
    "            error(d, ex);\n",
    "        }\n",
    "    };\n",
    "}\n",
    "\n",
    "void Process(CancellationToken token, Func<IEnumerable<Device>> getDevices)\n",
    "{\n",
    "    Parallel.ForEach(getDevices(), d => processDevice(token, d)\n",
    "    (\n",
    "        (d, s) => WriteLine($\"[{d.ip}] {s}\"),\n",
    "        (d, e) => WriteLine($\"[{d.ip}] {{e}}\")\n",
    "    ));\n",
    "}\n",
    "\n",
    "Process(CancellationToken.None, () => new [] { new Device(\"1\"), new Device(\"2\") });"
   ]
  },
  {
   "cell_type": "code",
   "execution_count": null,
   "metadata": {
    "dotnet_interactive": {
     "language": "javascript"
    },
    "polyglot_notebook": {
     "kernelName": "javascript"
    },
    "vscode": {
     "languageId": "polyglot-notebook"
    }
   },
   "outputs": [],
   "source": [
    "// NgRx Examples - Disclaimer: I am not NgRx user/expert :)\n",
    "\n",
    "import { createAction, createSelector, createReducer, props, on, Action } from '@ngrx/store';\n",
    "\n",
    "// Curried Action Creator\n",
    "const createCustomAction = (type: string) => (payload?: any) =>\n",
    "  createAction(type, props<{ payload: any }>());\n",
    "\n",
    "const loadItems = createCustomAction('[Items] Load Items');\n",
    "const addItem = createCustomAction('[Items] Add Item');\n",
    "store.dispatch(loadItems({ payload: { category: 'books' } }));\n",
    "store.dispatch(addItem({ payload: { id: 1, name: 'NgRx Book' } }));\n",
    "\n",
    "// Curried Selector\n",
    "const selectFeature = (featureName: string) => createSelector(\n",
    "  (state: any) => state[featureName],\n",
    "  (featureState) => featureState\n",
    ");\n",
    "\n",
    "const selectItemsFeature = selectFeature('items');\n",
    "const items = store.select(selectItemsFeature);\n",
    "\n",
    "//Curried State Updaters\n",
    "const updateState = (key: string) => (state: any, payload: any) => ({\n",
    "  ...state,\n",
    "  [key]: payload,\n",
    "});\n",
    "\n",
    "const itemsReducer = createReducer(\n",
    "  initialState,\n",
    "  on(loadItemsSuccess, (state, { payload }) => updateState('items')(state, payload)),\n",
    "  on(addItemSuccess, (state, { payload }) => updateState('items')([...state.items, payload]))\n",
    ");\n",
    "\n",
    "function reducer(state: any, action: Action) {\n",
    "  return itemsReducer(state, action);\n",
    "}"
   ]
  },
  {
   "cell_type": "code",
   "execution_count": null,
   "metadata": {
    "dotnet_interactive": {
     "language": "csharp"
    },
    "polyglot_notebook": {
     "kernelName": "csharp"
    },
    "vscode": {
     "languageId": "polyglot-notebook"
    }
   },
   "outputs": [],
   "source": [
    "//Redux Example - Disclaimer: I am not Redux user/expert :)\n",
    "\n",
    "import { createStore, applyMiddleware } from 'redux';\n",
    "import thunk from 'redux-thunk';\n",
    "import logger from 'redux-logger';\n",
    "import rootReducer from './reducers';\n",
    "\n",
    "const store = createStore(\n",
    "  rootReducer,                    \n",
    "  applyMiddleware(thunk, logger)  // the createStore is expecting a function here\n",
    ");                                // we provided what applyMiddleware returned which is a curried function"
   ]
  },
  {
   "cell_type": "markdown",
   "metadata": {},
   "source": [
    "# Immutable Data Types 🗄️"
   ]
  },
  {
   "cell_type": "markdown",
   "metadata": {},
   "source": [
    "- Principles and goals of Immutable Data Types and Functional Progamming aligs\n",
    "- Referential Transparency; *expression can be replaced with value*\n",
    "- Thread Safety / Concurrency\n",
    "    - This is the reason Functional Programming is Cloud Friendly\n",
    "- Predictable Behavior\n",
    "- No Side Effect\n",
    "    - Pure Functions\n",
    "\n",
    "Haskell: all data is immutable by default\n",
    "Java/C# and even F#: all data is mutable by default"
   ]
  },
  {
   "cell_type": "code",
   "execution_count": null,
   "metadata": {
    "dotnet_interactive": {
     "language": "fsharp"
    },
    "polyglot_notebook": {
     "kernelName": "fsharp"
    },
    "vscode": {
     "languageId": "polyglot-notebook"
    }
   },
   "outputs": [],
   "source": [
    "let list = [1; 2; 3]\n",
    "let newList = 0 :: list  -- Prepend 0 to the list, creating a new list"
   ]
  },
  {
   "cell_type": "markdown",
   "metadata": {},
   "source": [
    "## Immutable Data Types (C#)"
   ]
  },
  {
   "cell_type": "markdown",
   "metadata": {},
   "source": [
    "Built in Immutable Data Types\n",
    "- strings\n",
    "- System.DateTime and System.DateTimeOffset\n",
    "- Tuples"
   ]
  },
  {
   "cell_type": "code",
   "execution_count": null,
   "metadata": {
    "dotnet_interactive": {
     "language": "csharp"
    },
    "polyglot_notebook": {
     "kernelName": "csharp"
    },
    "vscode": {
     "languageId": "polyglot-notebook"
    }
   },
   "outputs": [],
   "source": [
    "var tuple = Tuple.Create(1, \"hello\", true);\n",
    "var valueTuple = (1, \"hello\", true);\n",
    "//tuple.Item1 = 2;        //  will not work\n",
    "valueTuple.Item1 = 2;"
   ]
  },
  {
   "cell_type": "markdown",
   "metadata": {},
   "source": [
    "Immutable Collections of System.Collections.Immutable\n",
    "- ImmutableList, ImmutableArray\n",
    "- ImmutableDictionary\n",
    "- ImmutableQueue, ImmutableStack\n",
    "- ImmutableSortedDictionary, ImmutableSortedSet"
   ]
  },
  {
   "cell_type": "markdown",
   "metadata": {},
   "source": [
    "## Custom Immutable Types & Deconstruction ✂️"
   ]
  },
  {
   "cell_type": "markdown",
   "metadata": {},
   "source": [
    "Custom Immutable Types\n",
    "- Classes\n",
    "- Records"
   ]
  },
  {
   "cell_type": "code",
   "execution_count": null,
   "metadata": {
    "dotnet_interactive": {
     "language": "csharp"
    },
    "polyglot_notebook": {
     "kernelName": "csharp"
    },
    "vscode": {
     "languageId": "polyglot-notebook"
    }
   },
   "outputs": [],
   "source": [
    "class Person\n",
    "{\n",
    "    public string FirstName { get; }\n",
    "    public string LastName { get; }\n",
    "\n",
    "    public Person(string firstName, string lastName) =>\n",
    "        (FirstName, LastName) = (firstName, lastName);\n",
    "    \n",
    "    public void Deconstruct(out string firstName, out string lastName)  // by adding this method; class/instances become deconstructable\n",
    "    {\n",
    "        firstName = this.FirstName;\n",
    "        lastName = this.LastName;\n",
    "    }\n",
    "}\n",
    "\n",
    "var person = new Person(\"Khurram\", \"Az\");\n",
    "Person correctedPerson = new Person(person.FirstName, \"Aziz\");\n",
    "var (firstName, lastName) = correctedPerson;     // deconstruction to tuple\n",
    "Console.WriteLine($\"Nice to meet you {firstName}\");"
   ]
  },
  {
   "cell_type": "code",
   "execution_count": null,
   "metadata": {
    "dotnet_interactive": {
     "language": "csharp"
    },
    "polyglot_notebook": {
     "kernelName": "csharp"
    },
    "vscode": {
     "languageId": "polyglot-notebook"
    }
   },
   "outputs": [],
   "source": [
    "record Person(string FirstName, string LastName);\n",
    "var person = new Person(\"Khurram\", \"Az\");\n",
    "Person correctedPerson = person with { LastName = \"Aziz\" };\n",
    "var (firstName, lastName) = correctedPerson;     // deconstruction to tuple\n",
    "Console.WriteLine($\"Nice to meet you {firstName}\");"
   ]
  },
  {
   "cell_type": "markdown",
   "metadata": {},
   "source": [
    "# Pattern Matching 🧱"
   ]
  },
  {
   "cell_type": "markdown",
   "metadata": {},
   "source": [
    "## Usages in C#"
   ]
  },
  {
   "cell_type": "markdown",
   "metadata": {},
   "source": [
    "- __is expression__\n",
    "    - if (x is Person p)\n",
    "- __switch statement__\n",
    "    - switch (x) { case Person p: }\n",
    "- __switch expression__\n",
    "    - the cool cousin of switch statement\n",
    "    - we will learn about it shortly"
   ]
  },
  {
   "cell_type": "markdown",
   "metadata": {},
   "source": [
    "## C# Pattern Matching Journey"
   ]
  },
  {
   "cell_type": "code",
   "execution_count": null,
   "metadata": {
    "dotnet_interactive": {
     "language": "csharp"
    },
    "polyglot_notebook": {
     "kernelName": "csharp"
    },
    "vscode": {
     "languageId": "polyglot-notebook"
    }
   },
   "outputs": [],
   "source": [
    "record Shape(double Area) {}\n",
    "record Circle(int Radius) : Shape(Math.PI * Radius * Radius) {}\n",
    "record Rectangle(int Height, int Width) : Shape (Height * Width) { }\n",
    "\n",
    "var randomShape = new Shape(100);\n",
    "\n",
    "// C# 6\n",
    "if (randomShape is Circle)\n",
    "{\n",
    "    Circle c = randomShape as Circle;\n",
    "}\n",
    "\n",
    "// C# 7\n",
    "if (randomShape is Circle c)\n",
    "{\n",
    "}\n",
    "switch (randomShape)\n",
    "{\n",
    "    case Circle c:\n",
    "        break;\n",
    "    case Rectangle r when r.Height == r.Width:\n",
    "        break;\n",
    "    case Rectangle r:\n",
    "        break;\n",
    "}\n",
    "\n",
    "// C# 8\n",
    "if (randomShape is Circle { Radius: 10}) // we can have checks across multiple properties\n",
    "{\n",
    "}\n",
    "\n",
    "var detail = randomShape switch\n",
    "{\n",
    "    Circle c => $\"Its Circle with Radius {c.Radius}\",\n",
    "    Rectangle r when r.Height == r.Width => $\"Its a square with side {r.Height}\",\n",
    "    { Area: 100 } => $\"It can be either circle or rectangle or some shape with Area 100\",\n",
    "    _ => \"We dont know about it yet\"\n",
    "};\n",
    "\n",
    "// C# 9\n",
    "if (randomShape is Circle c { Radius: > 10 and < 20})\n",
    "{}\n",
    "if (randomShape is not Circle) // or is not null\n",
    "{}\n",
    "detail = randomShape switch\n",
    "{\n",
    "    Circle { Area: > 100 } c => $\"Its a large Circle with Radius {c.Radius}\",\n",
    "    Circle c => $\"Its Circle with Radius {c.Radius}\",\n",
    "    Rectangle r when r.Height == r.Width => $\"Its a square with side {r.Height}\",\n",
    "    { Area: 100 } => $\"It can be either circle or rectangle or some shape with Area 100\",\n",
    "    _ => \"We dont know about it yet\"\n",
    "};\n",
    "\n",
    "var areaDetail = randomShape.Area switch // var storyPoints = 50;\n",
    "{\n",
    "    > 100 and < 1000 => \"\",\n",
    "    > 100 => \"Its shape that will take more than 4 things\",\n",
    "    _ => \"Its fine\"\n",
    "};"
   ]
  },
  {
   "cell_type": "code",
   "execution_count": null,
   "metadata": {
    "dotnet_interactive": {
     "language": "csharp"
    },
    "polyglot_notebook": {
     "kernelName": "csharp"
    },
    "vscode": {
     "languageId": "polyglot-notebook"
    }
   },
   "outputs": [],
   "source": [
    "using System.Linq;\n",
    "\n",
    "// C# 10\n",
    "record Order(int Id, string Product, int Amount);\n",
    "record Customer(string Name, List<Order> Orders);\n",
    "\n",
    "var customers = new List<Customer>\n",
    "{\n",
    "    new Customer(\"Alpha\",\n",
    "        Orders: new List<Order>\n",
    "        {\n",
    "            new Order(1, \"Book\", 20),\n",
    "            new Order(2, \"Pen\", 30)\n",
    "        }),\n",
    "    new Customer(\"Bravo\",\n",
    "        Orders: new List<Order>\n",
    "        {\n",
    "            new Order(3, \"Notebook\", 10)\n",
    "        })\n",
    "};\n",
    "\n",
    "foreach(var customer in customers)\n",
    "{\n",
    "    if (customer is { Orders: { Count: > 1 }}  // we have a repeated order\n",
    "        && customer.Orders.Sum(o => o.Amount) >= 50) // we have earned good\n",
    "\n",
    "        Console.WriteLine($\"{customer.Name} is a good customer\");\n",
    "}"
   ]
  },
  {
   "cell_type": "code",
   "execution_count": null,
   "metadata": {
    "dotnet_interactive": {
     "language": "csharp"
    },
    "polyglot_notebook": {
     "kernelName": "csharp"
    },
    "vscode": {
     "languageId": "polyglot-notebook"
    }
   },
   "outputs": [],
   "source": [
    "using System.Linq;\n",
    "\n",
    "static bool isAlphabetOrSpace(char c) =>    // Functional Programming sorcery\n",
    "    c is (>= 'a' and <= 'z') or\n",
    "    (>= 'A' and <= 'Z') or\n",
    "    ' ';\n",
    "    \n",
    "static bool IsClean(this string s) =>       // extension methods allow us to glue our functional stuff onto OOP stuff\n",
    "    !string.IsNullOrWhiteSpace(s) &&        // lets not forget null checks\n",
    "    s.All(isAlphabetOrSpace) &&             // Linq-y\n",
    "    s.StartsWith(\" \") && s.EndsWith(\" \");   // OOP-ish\n",
    "\n",
    "#nullable enable\n",
    "\n",
    "record Application(string? Manufacturer, string? Name);       // immutable data type\n",
    "\n",
    "var app = new Application(null, \"Visual Studio\");\n",
    "if (!app.Manufacturer.IsClean() || !app.Name.IsClean())      // business validation\n",
    "    Console.WriteLine(\"We dont have clean values\");\n",
    "\n",
    "#nullable disable"
   ]
  },
  {
   "cell_type": "markdown",
   "metadata": {},
   "source": [
    "## Checking for Null"
   ]
  },
  {
   "cell_type": "code",
   "execution_count": null,
   "metadata": {
    "dotnet_interactive": {
     "language": "csharp"
    },
    "polyglot_notebook": {
     "kernelName": "csharp"
    },
    "vscode": {
     "languageId": "polyglot-notebook"
    }
   },
   "outputs": [],
   "source": [
    "class Something {}\n",
    "Something something = null;\n",
    "Something another = new Something();\n",
    "\n",
    "if (something is null) Console.WriteLine(\"something is null\");\n",
    "if (another is not null) Console.WriteLine(\"another is not null\");"
   ]
  },
  {
   "cell_type": "markdown",
   "metadata": {},
   "source": [
    "## Type Testing"
   ]
  },
  {
   "cell_type": "code",
   "execution_count": null,
   "metadata": {
    "dotnet_interactive": {
     "language": "csharp"
    },
    "polyglot_notebook": {
     "kernelName": "csharp"
    },
    "vscode": {
     "languageId": "polyglot-notebook"
    }
   },
   "outputs": [],
   "source": [
    "class Something {}\n",
    "Something something = new Something();      // something is not null\n",
    "\n",
    "var disposable = something as IDisposable;  // but disposeable will be null as something is not IDisposable\n",
    "if (null == disposable) Console.WriteLine(\"disposable is null\");"
   ]
  },
  {
   "cell_type": "code",
   "execution_count": null,
   "metadata": {
    "dotnet_interactive": {
     "language": "csharp"
    },
    "polyglot_notebook": {
     "kernelName": "csharp"
    },
    "vscode": {
     "languageId": "polyglot-notebook"
    }
   },
   "outputs": [],
   "source": [
    "IEnumerable<int> numbers = [10, 20, 30];\n",
    "IList<int> indexable = numbers as IList<int>;\n",
    "if (indexable != null)\n",
    "    Console.WriteLine(indexable[0] + indexable[indexable.Count - 1]);  // output: 40"
   ]
  },
  {
   "cell_type": "code",
   "execution_count": null,
   "metadata": {
    "dotnet_interactive": {
     "language": "csharp"
    },
    "polyglot_notebook": {
     "kernelName": "csharp"
    },
    "vscode": {
     "languageId": "polyglot-notebook"
    }
   },
   "outputs": [],
   "source": [
    "int i = 23;\n",
    "object iBoxed = i;\n",
    "int? nullable = 7;\n",
    "\n",
    "if (iBoxed is int a && nullable is int b)\n",
    "    Console.WriteLine(a + b);"
   ]
  },
  {
   "cell_type": "code",
   "execution_count": null,
   "metadata": {
    "dotnet_interactive": {
     "language": "csharp"
    },
    "polyglot_notebook": {
     "kernelName": "csharp"
    },
    "vscode": {
     "languageId": "polyglot-notebook"
    }
   },
   "outputs": [],
   "source": [
    "int i = 5;\n",
    "Console.WriteLine(typeof(int));\n",
    "Console.WriteLine(i.GetType() == typeof(int));"
   ]
  },
  {
   "cell_type": "code",
   "execution_count": null,
   "metadata": {
    "dotnet_interactive": {
     "language": "csharp"
    },
    "polyglot_notebook": {
     "kernelName": "csharp"
    },
    "vscode": {
     "languageId": "polyglot-notebook"
    }
   },
   "outputs": [],
   "source": [
    "int? maybe = 12;\n",
    "\n",
    "if (maybe is int number)\n",
    "    Console.WriteLine($\"The nullable int 'maybe' has the value {number}\");\n",
    "else\n",
    "    Console.WriteLine(\"The nullable int 'maybe' doesn't hold a value\");"
   ]
  },
  {
   "cell_type": "code",
   "execution_count": null,
   "metadata": {
    "dotnet_interactive": {
     "language": "csharp"
    },
    "polyglot_notebook": {
     "kernelName": "csharp"
    },
    "vscode": {
     "languageId": "polyglot-notebook"
    }
   },
   "outputs": [],
   "source": [
    "T MidPoint<T>(IEnumerable<T> sequence)\n",
    "{\n",
    "    if (sequence is IList<T> list)\n",
    "        return list[list.Count / 2];\n",
    "    else if (sequence is null)\n",
    "        throw new ArgumentNullException(nameof(sequence), \"Sequence can't be null.\");\n",
    "    else\n",
    "    {\n",
    "        int halfLength = sequence.Count() / 2 - 1;\n",
    "        if (halfLength < 0) halfLength = 0;\n",
    "        return sequence.Skip(halfLength).First();\n",
    "    }\n",
    "}\n",
    "\n",
    "MidPoint([1, 2, 3, 4])"
   ]
  },
  {
   "cell_type": "markdown",
   "metadata": {},
   "source": [
    "## Compare discrete values"
   ]
  },
  {
   "cell_type": "code",
   "execution_count": null,
   "metadata": {
    "dotnet_interactive": {
     "language": "csharp"
    },
    "polyglot_notebook": {
     "kernelName": "csharp"
    },
    "vscode": {
     "languageId": "polyglot-notebook"
    }
   },
   "outputs": [],
   "source": [
    "enum Operation { SystemTest, Start, Stop, Reset, New }\n",
    "enum State { Started, Completed, Failed, NotAvailable }\n",
    "\n",
    "State PerformOperation(Operation command) =>\n",
    "   command switch\n",
    "   {\n",
    "       Operation.SystemTest => State.Completed,\n",
    "       Operation.Start => State.Started,\n",
    "       Operation.Stop => State.Completed,\n",
    "       Operation.Reset => State.NotAvailable,\n",
    "       _ => throw new ArgumentException(\"Invalid enum value for command\", nameof(command)),\n",
    "   };\n",
    "\n",
    "PerformOperation(Operation.SystemTest)"
   ]
  },
  {
   "cell_type": "markdown",
   "metadata": {},
   "source": [
    "## Relational patterns"
   ]
  },
  {
   "cell_type": "code",
   "execution_count": null,
   "metadata": {
    "dotnet_interactive": {
     "language": "csharp"
    },
    "polyglot_notebook": {
     "kernelName": "csharp"
    },
    "vscode": {
     "languageId": "polyglot-notebook"
    }
   },
   "outputs": [],
   "source": [
    "string WaterState(int tempInFahrenheit) =>\n",
    "    tempInFahrenheit switch\n",
    "    {\n",
    "        (> 32) and (< 212) => \"liquid\",\n",
    "        < 32 => \"solid\",\n",
    "        > 212 => \"gas\",\n",
    "        32 => \"solid/liquid transition\",\n",
    "        212 => \"liquid / gas transition\",\n",
    "    };\n",
    "\n",
    "// if not all cases are handled; we get compiler warning\n",
    "\n",
    "string WaterState2(int tempInFahrenheit) =>\n",
    "    tempInFahrenheit switch\n",
    "    {\n",
    "        < 32 => \"solid\",\n",
    "        32 => \"solid/liquid transition\",\n",
    "        < 212 => \"liquid\",\n",
    "        212 => \"liquid / gas transition\"\n",
    "        //_ => \"gas\",\n",
    "};\n",
    "\n",
    "Console.WriteLine(WaterState(213));\n",
    "Console.WriteLine(WaterState2(213));"
   ]
  },
  {
   "cell_type": "code",
   "execution_count": null,
   "metadata": {
    "dotnet_interactive": {
     "language": "csharp"
    },
    "polyglot_notebook": {
     "kernelName": "csharp"
    },
    "vscode": {
     "languageId": "polyglot-notebook"
    }
   },
   "outputs": [],
   "source": [
    "record Order(int Items, decimal Cost); // why we are using decimal ? :)\n",
    "\n",
    "decimal CalculateDiscount(Order order) =>\n",
    "    order switch\n",
    "    {\n",
    "        { Items: > 10, Cost: > 1000.00m } => 0.10m,\n",
    "        { Items: > 5, Cost: > 500.00m } => 0.05m,\n",
    "        { Cost: > 250.00m } => 0.02m,\n",
    "        null => throw new ArgumentNullException(nameof(order), \"Can't calculate discount on null order\"),\n",
    "        var someObject => 0m,\n",
    "    };"
   ]
  },
  {
   "cell_type": "code",
   "execution_count": null,
   "metadata": {
    "dotnet_interactive": {
     "language": "csharp"
    },
    "polyglot_notebook": {
     "kernelName": "csharp"
    },
    "vscode": {
     "languageId": "polyglot-notebook"
    }
   },
   "outputs": [],
   "source": [
    "record Order(int Items, decimal Cost);\n",
    "\n",
    "// deconstruction and pattern matching\n",
    "decimal CalculateDiscount(Order order) =>\n",
    "    order switch\n",
    "    {\n",
    "        ( > 10,  > 1000.00m) => 0.10m,\n",
    "        ( > 5, > 50.00m) => 0.05m,\n",
    "        { Cost: > 250.00m } => 0.02m,\n",
    "        null => throw new ArgumentNullException(nameof(order), \"Can't calculate discount on null order\"),\n",
    "        var someObject => 0m,\n",
    "    };"
   ]
  },
  {
   "cell_type": "markdown",
   "metadata": {},
   "source": [
    "## List Patterns"
   ]
  },
  {
   "cell_type": "code",
   "execution_count": null,
   "metadata": {
    "dotnet_interactive": {
     "language": "csharp"
    },
    "polyglot_notebook": {
     "kernelName": "csharp"
    },
    "vscode": {
     "languageId": "polyglot-notebook"
    }
   },
   "outputs": [],
   "source": [
    "using static System.Console;\n",
    "\n",
    "int[] numbers = { 1, 2, 3 };\n",
    "\n",
    "WriteLine(numbers is [1, 2, 3]);            // True\n",
    "WriteLine(numbers is [1, 2, 4]);            // False\n",
    "WriteLine(numbers is [0 or 1, <= 2, >= 3]); // True"
   ]
  },
  {
   "cell_type": "code",
   "execution_count": null,
   "metadata": {
    "dotnet_interactive": {
     "language": "csharp"
    },
    "polyglot_notebook": {
     "kernelName": "csharp"
    },
    "vscode": {
     "languageId": "polyglot-notebook"
    }
   },
   "outputs": [],
   "source": [
    "using static System.Console;\n",
    "\n",
    "WriteLine(new[] { 1, 2, 3, 4, 5 } is [> 0, > 0, ..]);\n",
    "WriteLine(new[] { 1, 1 } is [_, _, ..]);\n",
    "\n",
    "WriteLine(new[] { 1, 2, 3, 4 } is [.., > 0, > 0]);\n",
    "WriteLine(new[] { 2, 4 } is [.., 2, 4]);\n",
    "\n",
    "WriteLine(new[] { 1, 2, 3, 4 } is [>= 0, .., 2 or 4]);\n",
    "WriteLine(new[] { 1, 0, 0, 1 } is [1, 0, .., 0, 1]);"
   ]
  },
  {
   "cell_type": "code",
   "execution_count": null,
   "metadata": {
    "dotnet_interactive": {
     "language": "csharp"
    },
    "polyglot_notebook": {
     "kernelName": "csharp"
    },
    "vscode": {
     "languageId": "polyglot-notebook"
    }
   },
   "outputs": [],
   "source": [
    "using static System.Console;\n",
    "\n",
    "void Validate(int[] numbers) // we cant use IEnumerable; as we will not be able to use Length\n",
    "{\n",
    "    var result = numbers is [< 0, .. { Length: 2 or 4 }, > 0] ? \"valid\" : \"not valid\";\n",
    "    WriteLine(result);\n",
    "}\n",
    "\n",
    "Validate(new[] { -1, 0, 1 });\n",
    "Validate(new[] { -1, 0, 0, 1 });"
   ]
  },
  {
   "cell_type": "markdown",
   "metadata": {},
   "source": [
    "https://learn.microsoft.com/en-us/dotnet/csharp/language-reference/proposals/csharp-11.0/list-patterns"
   ]
  },
  {
   "cell_type": "markdown",
   "metadata": {},
   "source": [
    "## Resources"
   ]
  },
  {
   "cell_type": "markdown",
   "metadata": {},
   "source": [
    "- https://learn.microsoft.com/en-us/dotnet/csharp/fundamentals/functional/pattern-matching\n",
    "- https://learn.microsoft.com/en-us/dotnet/csharp/language-reference/operators/patterns 👈\n",
    "- https://learn.microsoft.com/en-us/dotnet/csharp/language-reference/language-specification/patterns\n",
    "- https://learn.microsoft.com/en-us/dotnet/csharp/language-reference/proposals/csharp-8.0/patterns 👈"
   ]
  },
  {
   "cell_type": "markdown",
   "metadata": {},
   "source": [
    "# Pattern Matching and Deconstruction 🧱✂️"
   ]
  },
  {
   "cell_type": "code",
   "execution_count": null,
   "metadata": {
    "dotnet_interactive": {
     "language": "csharp"
    },
    "polyglot_notebook": {
     "kernelName": "csharp"
    },
    "vscode": {
     "languageId": "polyglot-notebook"
    }
   },
   "outputs": [],
   "source": [
    "using static System.Console; // to get rid of class name noise\n",
    "\n",
    "// records give us one liner types and they have all the OOP goodness\n",
    "abstract record WeatherResponse;\n",
    "record Success(string City, double Temperature, string Condition) : WeatherResponse;\n",
    "record Sunny(string City, double Temperature) : Success(City, Temperature, \"Sunny\");\n",
    "record NotFound(string City) : WeatherResponse;\n",
    "record Error(string ErrorMessage) : WeatherResponse;\n",
    "\n",
    "WeatherResponse GetWeatherResponse(string city) => city switch\n",
    "{\n",
    "    // Simulating different responses\n",
    "    \"Lahore\" => new Sunny(\"Lahore\", 49.0),\n",
    "    \"Faisalabad\" => new Success(\"Faisalabad\", 49.5, \"Very Sunny\"),\n",
    "    not null => new NotFound(city),\n",
    "    _ => new Error(\"Unknown error occurred\")\n",
    "};\n",
    "\n",
    "void HandleWeatherResponse(WeatherResponse response)\n",
    "{\n",
    "    Func<string, bool> printAndReturn = s => // so we can use it with one-liner =>s in pattern matching\n",
    "    {\n",
    "        WriteLine(s);\n",
    "        return true;\n",
    "    };\n",
    "\n",
    "    // discarding returned value; we are only interested in console writing\n",
    "    _ = response switch // switch pattern matching work with returns\n",
    "    {\n",
    "        //some OOP spices\n",
    "        Success(string city, double temperature, string condition) => // will match Success and Sunny\n",
    "            printAndReturn($\"Weather in {city}: {temperature}°C, {condition}\"),\n",
    "        NotFound(string city) =>\n",
    "            printAndReturn($\"'{city}' city not found.\"),\n",
    "        Error(string errorMessage) =>\n",
    "            printAndReturn($\"Error: {errorMessage}\"),\n",
    "        _ => printAndReturn(\"Unknown response type.\")\n",
    "    };\n",
    "}\n",
    "\n",
    "// back to imperative\n",
    "var cities = new[] { \"Lahore\", \"Gotham\", \"Faisalabad\", null };\n",
    "foreach (var city in cities)\n",
    "    HandleWeatherResponse(GetWeatherResponse(city));"
   ]
  },
  {
   "cell_type": "markdown",
   "metadata": {},
   "source": [
    "# Pattern Matching and Recursion 🧱🔮"
   ]
  },
  {
   "cell_type": "code",
   "execution_count": null,
   "metadata": {
    "dotnet_interactive": {
     "language": "fsharp"
    },
    "polyglot_notebook": {
     "kernelName": "fsharp"
    },
    "vscode": {
     "languageId": "polyglot-notebook"
    }
   },
   "outputs": [],
   "source": [
    "// Elixir\n",
    "defmodule Factorial do\n",
    "  def of(n) when n < 0, do: \"undefined\"\n",
    "  def of(0), do: 1\n",
    "  def of(n), do: n * of(n - 1)\n",
    "end\n",
    "\n",
    "Factorial.of 5"
   ]
  },
  {
   "cell_type": "markdown",
   "metadata": {},
   "source": [
    "<img src=\"images/erlang-functions.png\">"
   ]
  },
  {
   "cell_type": "code",
   "execution_count": null,
   "metadata": {
    "dotnet_interactive": {
     "language": "csharp"
    },
    "polyglot_notebook": {
     "kernelName": "csharp"
    },
    "vscode": {
     "languageId": "polyglot-notebook"
    }
   },
   "outputs": [],
   "source": [
    "// Haskell\n",
    "\n",
    "size :: Int -> String\n",
    "size 1 = \"Small\"\n",
    "size 2 = \"Medium\"\n",
    "size 3 = \"Large\"\n",
    "size _ = \"Unknown size\""
   ]
  },
  {
   "cell_type": "code",
   "execution_count": null,
   "metadata": {
    "dotnet_interactive": {
     "language": "csharp"
    },
    "polyglot_notebook": {
     "kernelName": "csharp"
    },
    "vscode": {
     "languageId": "polyglot-notebook"
    }
   },
   "outputs": [],
   "source": [
    "// Prolog\n",
    "\n",
    "% Facts: Symptoms\n",
    "has_symptom(flu, fever).\n",
    "has_symptom(flu, headache).\n",
    "has_symptom(flu, body_aches).\n",
    "has_symptom(flu, cough).\n",
    "has_symptom(flu, sore_throat).\n",
    "has_symptom(flu, runny_nose).\n",
    "has_symptom(allergy, sneezing).\n",
    "has_symptom(allergy, watery_eyes).\n",
    "has_symptom(allergy, runny_nose).\n",
    "has_symptom(allergy, itchy_eyes).\n",
    "has_symptom(cold, sneezing).\n",
    "has_symptom(cold, watery_eyes).\n",
    "has_symptom(cold, runny_nose).\n",
    "has_symptom(cold, cough).\n",
    "has_symptom(cold, sore_throat).\n",
    "\n",
    "% Determine illness (predicate function)\n",
    "diagnose_illness(Symptom, Illness) :-\n",
    "    has_symptom(Illness, Symptom).\n",
    "\n",
    "% Querying illness (query function)\n",
    "?- diagnose_illness(fever, What)."
   ]
  },
  {
   "cell_type": "code",
   "execution_count": null,
   "metadata": {
    "dotnet_interactive": {
     "language": "csharp"
    },
    "polyglot_notebook": {
     "kernelName": "csharp"
    },
    "vscode": {
     "languageId": "polyglot-notebook"
    }
   },
   "outputs": [],
   "source": [
    "#!connect jupyter --kernel-name pythonkernel --kernel-spec python3"
   ]
  },
  {
   "cell_type": "code",
   "execution_count": null,
   "metadata": {
    "dotnet_interactive": {
     "language": "pythonkernel"
    },
    "polyglot_notebook": {
     "kernelName": "pythonkernel"
    },
    "vscode": {
     "languageId": "polyglot-notebook"
    }
   },
   "outputs": [],
   "source": [
    "def factorial(n):\n",
    "    match n:\n",
    "        #case _ if n < 0:\n",
    "        #    raise ValueError(\"Input must be a non-negative integer\")\n",
    "        case 0:\n",
    "            return 1\n",
    "        case _:\n",
    "            return n * factorial(n - 1)\n",
    "\n",
    "factorial(5)"
   ]
  },
  {
   "cell_type": "code",
   "execution_count": null,
   "metadata": {
    "dotnet_interactive": {
     "language": "fsharp"
    },
    "polyglot_notebook": {
     "kernelName": "fsharp"
    },
    "vscode": {
     "languageId": "polyglot-notebook"
    }
   },
   "outputs": [],
   "source": [
    "module Factorial =\n",
    "    let rec calc n = \n",
    "        match n with\n",
    "        // we can use None like Elixer; but F# is more functional in this context\n",
    "        // we will then have to handle None as well in last match when doing recursion\n",
    "        // invalidArg \"n\" \"Input must be a non-negative integer.\"\n",
    "\n",
    "        | n when n < 0 -> invalidArg \"n\" \"Input must be a non-negative integer\"\n",
    "        // this is equivalent to | n when n < 0 -> raise (System.ArgumentException(\"Input must be a non-negative integer.\"))\n",
    "        \n",
    "        | 0 -> 1\n",
    "        | n -> n * calc (n - 1)\n",
    "        \n",
    "// Sadly cant use of from Elixer example; because its F# keyword\n",
    "Factorial.calc 5"
   ]
  },
  {
   "cell_type": "code",
   "execution_count": null,
   "metadata": {
    "dotnet_interactive": {
     "language": "csharp"
    },
    "polyglot_notebook": {
     "kernelName": "csharp"
    },
    "vscode": {
     "languageId": "polyglot-notebook"
    }
   },
   "outputs": [],
   "source": [
    "int Factorial(int n) => n switch // to remove squigly we need to cover all cases\n",
    "{\n",
    "    0 => 1,\n",
    "    > 0 => n * Factorial(n - 1),\n",
    "    // _ => throw new ArgumentException(\"Input must be a non-negative integer\")\n",
    "};\n",
    "\n",
    "Factorial(5)"
   ]
  },
  {
   "cell_type": "code",
   "execution_count": null,
   "metadata": {
    "dotnet_interactive": {
     "language": "csharp"
    },
    "polyglot_notebook": {
     "kernelName": "csharp"
    },
    "vscode": {
     "languageId": "polyglot-notebook"
    }
   },
   "outputs": [],
   "source": [
    "// Iterations and Linq\n",
    "\n",
    "using System.Linq;\n",
    "\n",
    "int Factorial(int n)\n",
    "{\n",
    "    if (n < 0) throw new ArgumentException(\"Input must be a non-negative integer\");\n",
    "    return Enumerable.Range(1, n).Aggregate(1, (acc, x) => acc * x);\n",
    "}\n",
    "\n",
    "Factorial(5)"
   ]
  },
  {
   "cell_type": "markdown",
   "metadata": {},
   "source": [
    "# Resources 📚"
   ]
  },
  {
   "cell_type": "markdown",
   "metadata": {},
   "source": [
    "- https://www.youtube.com/watch?v=nvVmFqmZX9s The sceptics guide to pattern matching - Matt Ellis - NDC Oslo 2021"
   ]
  }
 ],
 "metadata": {
  "kernelspec": {
   "display_name": ".NET (C#)",
   "language": "C#",
   "name": ".net-csharp"
  },
  "language_info": {
   "name": "python",
   "version": "3.12.2"
  },
  "polyglot_notebook": {
   "kernelInfo": {
    "defaultKernelName": "csharp",
    "items": [
     {
      "aliases": [],
      "name": "csharp"
     },
     {
      "aliases": [],
      "languageName": "python",
      "name": "pythonkernel"
     }
    ]
   }
  }
 },
 "nbformat": 4,
 "nbformat_minor": 2
}
