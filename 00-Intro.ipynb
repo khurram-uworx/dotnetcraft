{
 "cells": [
  {
   "cell_type": "markdown",
   "metadata": {},
   "source": [
    "# C# / .NET Runtime / Libraries"
   ]
  },
  {
   "cell_type": "markdown",
   "metadata": {},
   "source": [
    "## No Non Sense Approach"
   ]
  },
  {
   "cell_type": "markdown",
   "metadata": {},
   "source": [
    "- Naming\n",
    "- Type System\n",
    "    - Value and Reference Types\n",
    "    - Tuples\n",
    "    - Class and Record Differences\n",
    "- Reusing language keywords where it makes sense\n",
    "    - using\n",
    "    - where (linq and constraining method parameters)\n",
    "    - partial (classes and methods) 🤝\n",
    "    - => for lambdas and one liner method bodies\n",
    "        - Value tuples gel well"
   ]
  },
  {
   "cell_type": "markdown",
   "metadata": {},
   "source": [
    "## Types: Common Type System (CTS) of .NET"
   ]
  },
  {
   "cell_type": "markdown",
   "metadata": {},
   "source": [
    "- Thoughtfully designed\n",
    "- Comprehensive\n",
    "- Feature Rich\n",
    "- Functional Programming friendly 👈"
   ]
  },
  {
   "cell_type": "markdown",
   "metadata": {},
   "source": [
    "## C# and Runtime is closer to C/C++ and Hardware"
   ]
  },
  {
   "cell_type": "markdown",
   "metadata": {},
   "source": [
    "- Delegates / Pointers\n",
    "- Unsafe Code when required\n",
    "- Deterministic and Non Deterministic Cleanup\n",
    "    - Deconstructor / Finalizer\n",
    "    - Disposable Pattern\n",
    "- Operator Overloading\n",
    "- Numerics"
   ]
  },
  {
   "cell_type": "markdown",
   "metadata": {},
   "source": [
    "## 🎉 Generics"
   ]
  },
  {
   "cell_type": "markdown",
   "metadata": {},
   "source": [
    "- Generics are integral part of language / runtime\n",
    "- Collections and Design Patterns using Generics"
   ]
  },
  {
   "cell_type": "markdown",
   "metadata": {},
   "source": [
    "## 🎉 C# Compiler approach of completeness"
   ]
  },
  {
   "cell_type": "markdown",
   "metadata": {},
   "source": [
    "even if it is confusing at times\n",
    "- Method Parameters\n",
    "- Value and Reference Tuples\n",
    "- Value and Reference Records"
   ]
  },
  {
   "cell_type": "markdown",
   "metadata": {},
   "source": [
    "## 🎉 Higher Order Language Constructs"
   ]
  },
  {
   "cell_type": "markdown",
   "metadata": {},
   "source": [
    "- foreach /w IEnumerable\n",
    "- Using /w IDisposable\n",
    "- How Lambdas, Anonymous Types and Value Tuples are handled 👈\n",
    "- LINQ /w IQueryable 🤝\n",
    "- Null and language constructs\n",
    "- Tuples and language constructs"
   ]
  },
  {
   "cell_type": "markdown",
   "metadata": {},
   "source": [
    "## 🎉 Dynamic Nature of C# Compiler"
   ]
  },
  {
   "cell_type": "markdown",
   "metadata": {},
   "source": [
    "- foreach and IEnumerable\n",
    "- Value Tuples\n",
    "- there are other interesting examples; which we will discuss 🤝"
   ]
  }
 ],
 "metadata": {
  "kernelspec": {
   "display_name": ".NET (C#)",
   "language": "C#",
   "name": ".net-csharp"
  },
  "language_info": {
   "name": "polyglot-notebook"
  },
  "polyglot_notebook": {
   "kernelInfo": {
    "defaultKernelName": "csharp",
    "items": [
     {
      "aliases": [],
      "languageName": "csharp",
      "name": "csharp"
     },
     {
      "aliases": [],
      "languageName": "python",
      "name": "pythonkernel"
     }
    ]
   }
  }
 },
 "nbformat": 4,
 "nbformat_minor": 2
}
