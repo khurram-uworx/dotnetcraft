{
 "cells": [
  {
   "cell_type": "markdown",
   "metadata": {},
   "source": [
    "# The Beauty of Pascal Casing 😃"
   ]
  },
  {
   "cell_type": "markdown",
   "metadata": {},
   "source": [
    "<img src=images/tabs-spaces.jpg width=700>\n",
    "\n",
    "- *All public things are Pascal Cased*"
   ]
  },
  {
   "cell_type": "code",
   "execution_count": null,
   "metadata": {
    "dotnet_interactive": {
     "language": "csharp"
    },
    "polyglot_notebook": {
     "kernelName": "csharp"
    }
   },
   "outputs": [],
   "source": [
    "class Person\n",
    "{\n",
    "    string firstName;\n",
    "    public string FirstName { get => this.firstName; }\n",
    "}\n",
    "\n",
    "void DoSomething(this Person person) { }\n",
    "\n",
    "var person = new Person();\n",
    "person.DoSomething()()"
   ]
  },
  {
   "cell_type": "markdown",
   "metadata": {},
   "source": [
    "https://gamlor.info/posts-output/2023-12-02-paste-and-edit-to-csharp/en"
   ]
  },
  {
   "cell_type": "markdown",
   "metadata": {},
   "source": [
    "# NULL is your friend 🙀"
   ]
  },
  {
   "cell_type": "code",
   "execution_count": null,
   "metadata": {
    "dotnet_interactive": {
     "language": "csharp"
    },
    "polyglot_notebook": {
     "kernelName": "csharp"
    }
   },
   "outputs": [],
   "source": [
    "string location;\n",
    "DateTime time;\n",
    "\n",
    "Console.WriteLine(location == null ? \"location is null\" : location);\n",
    "Console.WriteLine(time == null ? \"time is null\" : time.ToString());"
   ]
  },
  {
   "cell_type": "markdown",
   "metadata": {},
   "source": [
    "1. We will get to see runtime error\n",
    "2. location is null and time is null\n",
    "3. location is null and 0 (epoch) time which might be 1970 something\n",
    "4. location is null and 0 (epoch) time which might be 1/1/0001"
   ]
  },
  {
   "cell_type": "code",
   "execution_count": null,
   "metadata": {
    "dotnet_interactive": {
     "language": "csharp"
    },
    "polyglot_notebook": {
     "kernelName": "csharp"
    }
   },
   "outputs": [],
   "source": [
    "// C# 8 onwards Compiler will not compile the above code; lets try Console Project (Framework project)\n",
    "\n",
    "// the following code will compile and is semantically same\n",
    "string location = default(string);\n",
    "DateTime time = default(DateTime);\n",
    "\n",
    "Console.WriteLine(location == null ? \"location is null\" : location);\n",
    "Console.WriteLine(time == null ? \"time is null\" : time.ToString());"
   ]
  },
  {
   "cell_type": "markdown",
   "metadata": {},
   "source": [
    "<img src=images/stack-machine.png width=700>\n",
    "\n",
    "\n",
    "*I call it my billion-dollar mistake. It was the invention of the null reference in 1965. At that time, I was designing the first comprehensive type system for references in an object oriented language (ALGOL W). My goal was to ensure that all use of references should be absolutely safe, with checking performed automatically by the compiler. But I couldn't resist the temptation to put in a null reference, simply because it was so easy to implement. This has led to innumerable errors, vulnerabilities, and system crashes, which have probably caused a billion dollars of pain and damage in the last forty years* - https://en.wikipedia.org/wiki/Tony_Hoare\n",
    "\n",
    "- https://learn.microsoft.com/en-us/dotnet/csharp/tutorials/nullable-reference-types\n",
    "- https://learn.microsoft.com/en-us/dotnet/csharp/nullable-migration-strategies\n",
    "    - https://learn.microsoft.com/en-us/dotnet/csharp/language-reference/compiler-messages/nullable-warnings\n",
    "    - Nullable disable as the default when setting is absent\n",
    "    - Nullable enable as the default for new projects"
   ]
  },
  {
   "cell_type": "code",
   "execution_count": null,
   "metadata": {
    "dotnet_interactive": {
     "language": "csharp"
    },
    "polyglot_notebook": {
     "kernelName": "csharp"
    }
   },
   "outputs": [],
   "source": [
    "class Person { public string FirstName { get; set; } }\n",
    "\n",
    "Person person = null;\n",
    "person.FirstName"
   ]
  },
  {
   "cell_type": "code",
   "execution_count": null,
   "metadata": {
    "dotnet_interactive": {
     "language": "value"
    },
    "polyglot_notebook": {
     "kernelName": "value"
    }
   },
   "outputs": [],
   "source": [
    "Script; Console Project (Core Project)"
   ]
  },
  {
   "cell_type": "markdown",
   "metadata": {},
   "source": [
    "- .NET Break Session 18 for C# features around null"
   ]
  },
  {
   "cell_type": "code",
   "execution_count": null,
   "metadata": {
    "dotnet_interactive": {
     "language": "csharp"
    },
    "polyglot_notebook": {
     "kernelName": "csharp"
    }
   },
   "outputs": [],
   "source": [
    "using System.Linq;\n",
    "\n",
    "var list = new List<string>();\n",
    "// Kotlin val list: MutableList<String?> = mutableListOf()\n",
    "\n",
    "list.Add(\"Lahore\");\n",
    "list.Add(null);\n",
    "list.Add(\"Faisalabad\");\n",
    "\n",
    "string secondNonNull = null != list &&\n",
    "    list.Count > 1 &&\n",
    "    !string.IsNullOrEmpty(list[1])\n",
    "    ? list[1] : \"Default\"; // ??\n",
    "// Kotlin val secondNonNull = list.getOrNull(1) ?: \"Default\"\n",
    "Console.WriteLine(secondNonNull);\n",
    "\n",
    "string secondNonNull2 = list?.Skip(1).FirstOrDefault() ?? \"Default\";\n",
    "Console.WriteLine(secondNonNull2);"
   ]
  },
  {
   "cell_type": "markdown",
   "metadata": {},
   "source": [
    "<img src=images/pearl-jam-rockstar.jpg width=700>"
   ]
  },
  {
   "cell_type": "markdown",
   "metadata": {},
   "source": [
    "# Types 🔖"
   ]
  },
  {
   "cell_type": "markdown",
   "metadata": {},
   "source": [
    "__Recap__\n",
    "\n",
    "- *Value and Reference Types; Default Values*\n",
    "- *Enums* & *ToString() & Parsing*"
   ]
  },
  {
   "cell_type": "markdown",
   "metadata": {},
   "source": [
    "## Conversion & Casting"
   ]
  },
  {
   "cell_type": "markdown",
   "metadata": {},
   "source": [
    "<img src=images/numbers.png width=700>"
   ]
  },
  {
   "cell_type": "code",
   "execution_count": null,
   "metadata": {
    "dotnet_interactive": {
     "language": "csharp"
    },
    "polyglot_notebook": {
     "kernelName": "csharp"
    }
   },
   "outputs": [],
   "source": [
    "int i = 10;\n",
    "double d = i; // implicit conversion"
   ]
  },
  {
   "cell_type": "markdown",
   "metadata": {},
   "source": [
    "<img src=images/bank-lockers.webp width=400>"
   ]
  },
  {
   "cell_type": "code",
   "execution_count": null,
   "metadata": {
    "dotnet_interactive": {
     "language": "csharp"
    },
    "polyglot_notebook": {
     "kernelName": "csharp"
    }
   },
   "outputs": [],
   "source": [
    "double g = 9.8;\n",
    "int i1 = (int)g; // casting\n",
    "int i2 = Convert.ToInt32(g); //explicit\n",
    "\n",
    "Console.WriteLine(i1); // any guesses?\n",
    "Console.WriteLine(i2); // any guesses?"
   ]
  },
  {
   "cell_type": "markdown",
   "metadata": {},
   "source": [
    "- file length is long; storing it in int; 2gb limit"
   ]
  },
  {
   "cell_type": "code",
   "execution_count": null,
   "metadata": {
    "dotnet_interactive": {
     "language": "csharp"
    },
    "polyglot_notebook": {
     "kernelName": "csharp"
    }
   },
   "outputs": [],
   "source": [
    "double g = 9.8;\n",
    "int gInt = (int)g;\n",
    "double g2 = (double)gInt;\n",
    "g2 // any guesses ?"
   ]
  },
  {
   "cell_type": "markdown",
   "metadata": {},
   "source": [
    "## Boxing & Unboxing"
   ]
  },
  {
   "cell_type": "markdown",
   "metadata": {},
   "source": [
    "Boxing is used to store value types in the garbage-collected heap. Boxing is an implicit conversion of a value type to the type object or to any interface type implemented by this value type.<br>\n",
    "\n",
    "<img src=images/boxing-unboxing.png>"
   ]
  },
  {
   "cell_type": "code",
   "execution_count": null,
   "metadata": {
    "dotnet_interactive": {
     "language": "csharp"
    },
    "polyglot_notebook": {
     "kernelName": "csharp"
    }
   },
   "outputs": [],
   "source": [
    "int i = 42;\n",
    "double d = 3.14;\n",
    "\n",
    "object boxedInteger = i;\n",
    "object boxedDouble = d;\n",
    "double d2 = (double)boxedDouble;\n",
    "\n",
    "Console.WriteLine($\"Value of i:         {i}, Type: {i.GetType()}\");\n",
    "Console.WriteLine($\"Value of d:         {d}, Type: {d.GetType()}\");\n",
    "Console.WriteLine($\"Value of boxed i:   {boxedInteger}, Type: {boxedInteger.GetType()}\");\n",
    "Console.WriteLine($\"Value of boxed d:   {boxedDouble}, Type: {boxedDouble.GetType()}\");\n",
    "Console.WriteLine($\"Value of unboxed d: {d2}, Type: {d2.GetType()}\");"
   ]
  },
  {
   "cell_type": "markdown",
   "metadata": {},
   "source": [
    "- Memory and Performance Overhead\n",
    "- But useful; when dealing with legacy code or for convenience"
   ]
  },
  {
   "cell_type": "code",
   "execution_count": null,
   "metadata": {
    "dotnet_interactive": {
     "language": "csharp"
    },
    "polyglot_notebook": {
     "kernelName": "csharp"
    }
   },
   "outputs": [],
   "source": [
    "var array = new object[] {9, 9.8, \"10\" }; // Array of different types\n",
    "\n",
    "foreach(var d in array)\n",
    "    Console.WriteLine($\"Value: {d}, Type: {d.GetType()}\");"
   ]
  },
  {
   "cell_type": "code",
   "execution_count": null,
   "metadata": {
    "dotnet_interactive": {
     "language": "csharp"
    },
    "polyglot_notebook": {
     "kernelName": "csharp"
    }
   },
   "outputs": [],
   "source": [
    "var cities = new List<string>() { \"Karachi\", \"Lahore\", \"Faisalabad\", \"Rawalpindi \"};\n",
    "IEnumerable collection = cities;\n",
    "IEnumerable<string> collectionString = cities;\n",
    "\n",
    "void print(IEnumerable items)   // Association; IEnumerable or IEnumerable<string>\n",
    "{                               // Generality / Abstraction aka Parametric Polymorphism\n",
    "    Console.WriteLine(items.GetType());\n",
    "    foreach(var item in collection)\n",
    "        Console.WriteLine($\"{item} [{item.GetType()}]\");\n",
    "}\n",
    "\n",
    "print(cities);\n",
    "print(collection);\n",
    "print(collectionString);"
   ]
  },
  {
   "cell_type": "markdown",
   "metadata": {},
   "source": [
    "__Further Readings__\n",
    "- https://learn.microsoft.com/en-us/dotnet/csharp/programming-guide/types/casting-and-type-conversions\n",
    "- https://learn.microsoft.com/en-us/dotnet/csharp/programming-guide/types/boxing-and-unboxing\n",
    "- https://learn.microsoft.com/en-us/dotnet/csharp/tour-of-csharp/types"
   ]
  },
  {
   "cell_type": "markdown",
   "metadata": {},
   "source": [
    "# Tuples 🗄️"
   ]
  },
  {
   "cell_type": "code",
   "execution_count": null,
   "metadata": {
    "dotnet_interactive": {
     "language": "csharp"
    },
    "polyglot_notebook": {
     "kernelName": "csharp"
    }
   },
   "outputs": [],
   "source": [
    "// How to return multiple things from method\n",
    "//Action<int, int>)     method(int, int)\n",
    "\n",
    "int GetTemperature(string deviceIp, out string deviceName)\n",
    "{\n",
    "    deviceName = \"Lahore / 203\";\n",
    "    return 26;\n",
    "}\n",
    "\n",
    "Tuple<string, int> GetTemperature(string deviceIp)\n",
    "{\n",
    "    var deviceName = \"Lahore / 203\";\n",
    "    var temperature = 26;\n",
    "    return new Tuple<string, int>(deviceName, temperature); // can we return null?\n",
    "}"
   ]
  },
  {
   "cell_type": "markdown",
   "metadata": {},
   "source": [
    "## The Reference Tuple"
   ]
  },
  {
   "cell_type": "code",
   "execution_count": null,
   "metadata": {
    "dotnet_interactive": {
     "language": "csharp"
    },
    "polyglot_notebook": {
     "kernelName": "csharp"
    }
   },
   "outputs": [],
   "source": [
    "var start = new Tuple<int, int>(4, 5);\n",
    "\n",
    "Tuple<int, int> GetFinalCoordinate() => new (4, 5);\n",
    "var final = GetFinalCoordinate();\n",
    "\n",
    "Console.WriteLine(start == final);      // will print ?"
   ]
  },
  {
   "cell_type": "markdown",
   "metadata": {},
   "source": [
    "Tuple is a reference type; reference types uses reference for comparison by default\n",
    "- we cannt rename Item1, Item2...\n",
    "- we can override Equals (and gethashcode)"
   ]
  },
  {
   "cell_type": "code",
   "execution_count": null,
   "metadata": {
    "dotnet_interactive": {
     "language": "csharp"
    },
    "polyglot_notebook": {
     "kernelName": "csharp"
    }
   },
   "outputs": [],
   "source": [
    "var start = new Tuple<int, int>(4, 5);\n",
    "\n",
    "Tuple<int, int> GetSameCoordinate(Tuple<int, int> previous) => previous;\n",
    "Tuple<int, int> MutateCoordinate(Tuple<int, int> previous)\n",
    "{\n",
    "    //previous.Item1 += 1; // doent work\n",
    "    return new(previous.Item1 + 1, previous.Item2 + 1);\n",
    "}\n",
    "\n",
    "var same = GetSameCoordinate(start);\n",
    "var next = MutateCoordinate(start);\n",
    "\n",
    "Console.WriteLine(start == same);       // should print true\n",
    "Console.WriteLine(start == next);       // will print false"
   ]
  },
  {
   "cell_type": "markdown",
   "metadata": {},
   "source": [
    "Tuple<T..> were not good for Functional Programming; where though Immutability is appreciated; but we need value equality as well "
   ]
  },
  {
   "cell_type": "markdown",
   "metadata": {},
   "source": [
    "## The Value Tuple"
   ]
  },
  {
   "cell_type": "markdown",
   "metadata": {},
   "source": [
    "We have this System.ValueTuple which is a value type (structure) and compiler also offer syntactic sugar in its usage\n",
    "- Think of this as structure that gets created magically"
   ]
  },
  {
   "cell_type": "code",
   "execution_count": null,
   "metadata": {
    "dotnet_interactive": {
     "language": "csharp"
    },
    "polyglot_notebook": {
     "kernelName": "csharp"
    }
   },
   "outputs": [],
   "source": [
    "(double, int, int) t = (4.5, 3, 1);\n",
    "Console.WriteLine($\"Tuple: {t.Item1}, {t.Item2}, {t.Item3}\");       // unnamed\n",
    "Console.WriteLine(t.ToString(), t.GetHashCode());"
   ]
  },
  {
   "cell_type": "code",
   "execution_count": null,
   "metadata": {
    "dotnet_interactive": {
     "language": "csharp"
    },
    "polyglot_notebook": {
     "kernelName": "csharp"
    }
   },
   "outputs": [],
   "source": [
    "(double Sum, int Count) sumAndCounts(IEnumerable<double> numbers)\n",
    "{\n",
    "    //return (numbers.Sum(), numbers.Count()); using linq\n",
    "\n",
    "    double sum = 0;\n",
    "    int count = 0;\n",
    "\n",
    "    foreach(var number in numbers)\n",
    "    {\n",
    "        count++;\n",
    "        sum += number;\n",
    "    }\n",
    "\n",
    "    return (sum, count);\n",
    "}\n",
    "\n",
    "var t = sumAndCounts([1.1, 2.2, 3.3, 4.4]);                         // named\n",
    "Console.WriteLine($\"Sum of {t.Count} elements is {t.Sum}.\");"
   ]
  },
  {
   "cell_type": "code",
   "execution_count": null,
   "metadata": {
    "dotnet_interactive": {
     "language": "csharp"
    },
    "polyglot_notebook": {
     "kernelName": "csharp"
    }
   },
   "outputs": [],
   "source": [
    "(double Sum, int Count) sumAndCounts(IEnumerable<double> numbers) => (numbers.Sum(), numbers.Count());\n",
    "\n",
    "var t = sumAndCounts([1.1, 2.2, 3.3, 4.4]);\n",
    "var t2 = (Sum: 11, Count: 4);\n",
    "t == t2                         // value types when compared uses value comparison"
   ]
  },
  {
   "cell_type": "code",
   "execution_count": null,
   "metadata": {
    "dotnet_interactive": {
     "language": "csharp"
    },
    "polyglot_notebook": {
     "kernelName": "csharp"
    }
   },
   "outputs": [],
   "source": [
    "// deconstruction; deconstruction along with pattern matching are popular in Functional Programming\n",
    "(double, int) sumAndCounts(IEnumerable<double> numbers) => (numbers.Sum(), numbers.Count());\n",
    "(double sum, int count) = sumAndCounts([1.1, 2.2, 3.3, 4.4]);\n",
    "Console.WriteLine($\"Sum of {count} elements is {sum}.\");"
   ]
  },
  {
   "cell_type": "code",
   "execution_count": null,
   "metadata": {
    "dotnet_interactive": {
     "language": "csharp"
    },
    "polyglot_notebook": {
     "kernelName": "csharp"
    }
   },
   "outputs": [],
   "source": [
    "//using and tuple\n",
    "global using Coordinate = (int X, int Y);\n",
    "\n",
    "Coordinate start = (5, 10);\n",
    "Coordinate finish = (6, 12);"
   ]
  },
  {
   "cell_type": "markdown",
   "metadata": {},
   "source": [
    "## Tuples in Python"
   ]
  },
  {
   "cell_type": "code",
   "execution_count": null,
   "metadata": {
    "dotnet_interactive": {
     "language": "csharp"
    },
    "polyglot_notebook": {
     "kernelName": "csharp"
    }
   },
   "outputs": [],
   "source": [
    "#!connect jupyter --kernel-name pythonkernel --kernel-spec python3"
   ]
  },
  {
   "cell_type": "code",
   "execution_count": null,
   "metadata": {
    "dotnet_interactive": {
     "language": "pythonkernel"
    },
    "polyglot_notebook": {
     "kernelName": "pythonkernel"
    }
   },
   "outputs": [],
   "source": [
    "# Python\n",
    "\n",
    "grid_colors = {} # empty dictionary\n",
    "\n",
    "# Assign colors to grid coordinates using tuples as keys\n",
    "grid_colors[(0, 0)] = 'red'\n",
    "grid_colors[(0, 1)] = 'green'\n",
    "grid_colors[(1, 0)] = 'blue'\n",
    "grid_colors[(1, 1)] = 'yellow'\n",
    "\n",
    "print(grid_colors[(0, 1)]) # guess the output?"
   ]
  },
  {
   "cell_type": "code",
   "execution_count": null,
   "metadata": {
    "dotnet_interactive": {
     "language": "csharp"
    },
    "polyglot_notebook": {
     "kernelName": "csharp"
    }
   },
   "outputs": [],
   "source": [
    "using System.Collections.Generic;\n",
    "\n",
    "var gridColors = new Dictionary<(int, int), string>();\n",
    "\n",
    "gridColors[(0, 0)] = \"red\";\n",
    "gridColors[(0, 1)] = \"green\";\n",
    "gridColors[(1, 0)] = \"blue\";\n",
    "gridColors[(1, 1)] = \"yellow\";\n",
    "\n",
    "Console.WriteLine(gridColors[(0, 1)]);"
   ]
  },
  {
   "cell_type": "markdown",
   "metadata": {},
   "source": [
    "## Deconstruction"
   ]
  },
  {
   "cell_type": "code",
   "execution_count": null,
   "metadata": {
    "dotnet_interactive": {
     "language": "csharp"
    },
    "polyglot_notebook": {
     "kernelName": "csharp"
    }
   },
   "outputs": [],
   "source": [
    "(string city, int population, double size) QueryCityData(string name)\n",
    "{\n",
    "    if (name == \"Lahore\")\n",
    "        return (name, 11130000, 1772);\n",
    "    else if (name == \"Faisalabad\")\n",
    "        return (name, 3204000, 1330);\n",
    "\n",
    "    return (\"\", 0, 0);\n",
    "}\n",
    "\n",
    "var result = QueryCityData(\"Lahore\");\n",
    "var city = result.city;\n",
    "var pop = result.population;\n",
    "var size = result.size;\n",
    "// Do something with the data.\n",
    "result.Item1"
   ]
  },
  {
   "cell_type": "code",
   "execution_count": null,
   "metadata": {
    "dotnet_interactive": {
     "language": "csharp"
    },
    "polyglot_notebook": {
     "kernelName": "csharp"
    }
   },
   "outputs": [],
   "source": [
    "// the three ways of deconstruction\n",
    "\n",
    "// 1\n",
    "(string city1, int population1, double area1) = QueryCityData(\"Lahore\");\n",
    "\n",
    "// 2 var\n",
    "var (city2a, population2a, area2a) = QueryCityData(\"Lahore\");\n",
    "(string city2b, var population2b, var area2b) = QueryCityData(\"Lahore\");\n",
    "\n",
    "// 3 existing variables\n",
    "string city3 = \"Faisalabad\";\n",
    "int population3 = 3204000;\n",
    "double area3 = 1330;\n",
    "(city3, population3, area3) = QueryCityData(\"Lahore\");\n",
    "\n",
    "// we can discard and mix and match"
   ]
  },
  {
   "cell_type": "markdown",
   "metadata": {},
   "source": [
    "*this is cool, can we add this into classes*\n",
    "\n",
    "Deconstruction is now first class concept"
   ]
  },
  {
   "cell_type": "code",
   "execution_count": null,
   "metadata": {
    "dotnet_interactive": {
     "language": "csharp"
    },
    "polyglot_notebook": {
     "kernelName": "csharp"
    }
   },
   "outputs": [],
   "source": [
    "class Person\n",
    "{\n",
    "    public string FirstName { get; set; }\n",
    "    public string LastName { get; set; }\n",
    "\n",
    "    public void Deconstruct(out string firstName, out string lastName)  // by adding this method; class/instances become deconstructable\n",
    "    {\n",
    "        firstName = this.FirstName;\n",
    "        lastName = this.LastName;\n",
    "    }\n",
    "}\n",
    "\n",
    "var p = new Person() { FirstName = \"Khurram\", LastName = \"Aziz\" };\n",
    "(string firstName, string lastName) = p;       // C# compiler's dynamic nature\n",
    "\n",
    "Console.WriteLine($\"Hey there {firstName}\");"
   ]
  },
  {
   "cell_type": "markdown",
   "metadata": {},
   "source": [
    "__Further Readings__\n",
    "- https://learn.microsoft.com/en-us/dotnet/api/system.tuple\n",
    "- https://learn.microsoft.com/en-us/dotnet/api/system.valuetuple\n",
    "    - https://learn.microsoft.com/en-us/dotnet/csharp/language-reference/builtin-types/value-tuples\n",
    "- https://learn.microsoft.com/en-us/dotnet/csharp/fundamentals/functional/deconstruct\n",
    "- https://learn.microsoft.com/en-us/dotnet/csharp/tour-of-csharp/types"
   ]
  },
  {
   "cell_type": "markdown",
   "metadata": {},
   "source": [
    "# Records 🗄️"
   ]
  },
  {
   "cell_type": "markdown",
   "metadata": {},
   "source": [
    "- We want immutable data type"
   ]
  },
  {
   "cell_type": "code",
   "execution_count": null,
   "metadata": {
    "dotnet_interactive": {
     "language": "csharp"
    },
    "polyglot_notebook": {
     "kernelName": "csharp"
    }
   },
   "outputs": [],
   "source": [
    "class Person\n",
    "{\n",
    "    public required string FirstName { get; init; }\n",
    "    public required string LastName { get; init; }\n",
    "};\n",
    "\n",
    "var person = new Person { FirstName = \"Khurram\", LastName = \"Az\" };\n",
    "var correctedPerson = new Person { FirstName = person.FirstName, LastName = \"Aziz\"};\n",
    "var correctedPerson2 = new Person { FirstName = person.FirstName, LastName = \"Aziz\"};\n",
    "\n",
    "Console.WriteLine(correctedPerson); // no tostring\n",
    "correctedPerson == correctedPerson2 // no equality by value\n",
    "\n",
    "// we can ofcourse achieve these two by overriding tostring and equals; and implementing iequatable"
   ]
  },
  {
   "cell_type": "markdown",
   "metadata": {},
   "source": [
    "they are reference type like classes (by default) but are different:\n",
    "- classes are mutable; records are immutable (by default)\n",
    "- records have value based equality\n",
    "- records and automatic (read only) fields / primary constructor"
   ]
  },
  {
   "cell_type": "code",
   "execution_count": null,
   "metadata": {
    "dotnet_interactive": {
     "language": "csharp"
    },
    "polyglot_notebook": {
     "kernelName": "csharp"
    }
   },
   "outputs": [],
   "source": [
    "// Positional Syntax\n",
    "record Person(string FirstName, string LastName);   //primary constructor; compiler generates the properties\n",
    "var person = new Person(\"Khurram\", \"Az\");\n",
    "Person correctedPerson = person with { LastName = \"Aziz\" }; // immutable by default\n",
    "Console.WriteLine(correctedPerson); // built in fancy tostring"
   ]
  },
  {
   "cell_type": "code",
   "execution_count": null,
   "metadata": {
    "dotnet_interactive": {
     "language": "csharp"
    },
    "polyglot_notebook": {
     "kernelName": "csharp"
    }
   },
   "outputs": [],
   "source": [
    "record Person(string FirstName, string LastName);   // records are reference type\n",
    "var person1 = new Person(\"Khurram\", \"Aziz\");\n",
    "var person2 = new Person(\"Khurram\", \"Aziz\");\n",
    "person1 == person2  // equality by value"
   ]
  },
  {
   "cell_type": "code",
   "execution_count": null,
   "metadata": {
    "dotnet_interactive": {
     "language": "csharp"
    },
    "polyglot_notebook": {
     "kernelName": "csharp"
    }
   },
   "outputs": [],
   "source": [
    "record Person(string FirstName, string LastName);\n",
    "var person = new Person(\"Khurram\", \"Aziz\");\n",
    "var (firstName, lastName) = person;     // deconstruction to tuple\n",
    "Console.WriteLine($\"Nice to meet you {firstName}\");"
   ]
  },
  {
   "cell_type": "code",
   "execution_count": null,
   "metadata": {
    "dotnet_interactive": {
     "language": "csharp"
    },
    "polyglot_notebook": {
     "kernelName": "csharp"
    }
   },
   "outputs": [],
   "source": [
    "// useful for DTOs (APIs)\n",
    "using System.Text.Json.Serialization;\n",
    "\n",
    "record Person(\n",
    "    [property: JsonPropertyName(\"firstName\")] string FirstName,\n",
    "    [property: JsonPropertyName(\"lastName\")] string LastName);"
   ]
  },
  {
   "cell_type": "markdown",
   "metadata": {},
   "source": [
    "__Differences from Java Record__\n",
    "- record is inherited from java.lang.Record; and you cannt inherit it from other; not the case in C#/.NET\n",
    "- one record per one file; not the case in C#; convenient inline DTOs\n",
    "- slightly cleaner syntax with primary constructor\n",
    "\n",
    "__For the sake of completeness__"
   ]
  },
  {
   "cell_type": "code",
   "execution_count": null,
   "metadata": {
    "dotnet_interactive": {
     "language": "csharp"
    },
    "polyglot_notebook": {
     "kernelName": "csharp"
    }
   },
   "outputs": [],
   "source": [
    "record class CPerson(string FirstName, string LastName);    //reference type; the default; class is optional\n",
    "record struct SPerson(string FirstName, string LastName);   //value type"
   ]
  },
  {
   "cell_type": "code",
   "execution_count": null,
   "metadata": {
    "dotnet_interactive": {
     "language": "csharp"
    },
    "polyglot_notebook": {
     "kernelName": "csharp"
    }
   },
   "outputs": [],
   "source": [
    "// Nominal Creation\n",
    "\n",
    "record Entity(int DatabaseRecordNumber) { }\n",
    "\n",
    "record Person //: Entity\n",
    "{\n",
    "    public required string FirstName { get; init; }         // init will only let to set the property at the time of creation\n",
    "    public string MiddleName { get; set; }\n",
    "    public required string LastName { get; init; }\n",
    "\n",
    "    //public Person() : base(0) { } // you start to loose the simplicity of record; but its your choice where you want your dial to be\n",
    "};\n",
    "\n",
    "record Employee(int EmployeeNumber) : Person\n",
    "{ }\n",
    "\n",
    "\n",
    "var p = new Person() { FirstName = \"Khurram\", LastName = \"Aziz\" }; // and if some required property is missing? it will not by happy\n",
    "// record is mutable\n",
    "p.MiddleName = \"\";      // not that much different than class; but we got tostring and value equality"
   ]
  },
  {
   "cell_type": "code",
   "execution_count": null,
   "metadata": {
    "dotnet_interactive": {
     "language": "csharp"
    },
    "polyglot_notebook": {
     "kernelName": "csharp"
    }
   },
   "outputs": [],
   "source": [
    "using System.Text.Json.Serialization;\n",
    "\n",
    "record Person\n",
    "{\n",
    "    [JsonPropertyName(\"firstName\")]\n",
    "    public required string FirstName { get; init; }     \n",
    "    \n",
    "    [JsonPropertyName(\"lastName\")]\n",
    "    public required string LastName { get; init; }\n",
    "};"
   ]
  },
  {
   "cell_type": "markdown",
   "metadata": {},
   "source": [
    "__Further Readings__\n",
    "- https://learn.microsoft.com/en-us/dotnet/csharp/language-reference/builtin-types/record"
   ]
  },
  {
   "cell_type": "markdown",
   "metadata": {},
   "source": [
    "# Operator Overloading ➕➗"
   ]
  },
  {
   "cell_type": "code",
   "execution_count": null,
   "metadata": {
    "dotnet_interactive": {
     "language": "javascript"
    },
    "polyglot_notebook": {
     "kernelName": "javascript"
    }
   },
   "outputs": [],
   "source": [
    "// javascript\n",
    "\n",
    "let name = 'Khurram';\n",
    "console.log('Hello ' + name);\n",
    "\n",
    "let i = 5;\n",
    "let j = 10;\n",
    "let k = '2';\n",
    "console.log(i + j);\n",
    "console.log(i + k);\n",
    "console.log(k + i);\n",
    "console.log(i + j + k);"
   ]
  },
  {
   "cell_type": "code",
   "execution_count": null,
   "metadata": {
    "dotnet_interactive": {
     "language": "csharp"
    },
    "polyglot_notebook": {
     "kernelName": "csharp"
    }
   },
   "outputs": [],
   "source": [
    "struct Number // all things indirectly inherit from object; including \"value types\"\n",
    "{\n",
    "    int number;\n",
    "\n",
    "    public Number(int number) => this.number = number;\n",
    "\n",
    "    public override string ToString() => number.ToString();\n",
    "\n",
    "    public static string operator +(Number a, Number b) => new Number(a.number + b.number).ToString();\n",
    "\n",
    "    public static string operator +(Number a, string b)\n",
    "    {\n",
    "        return a.ToString() + b; \n",
    "    }\n",
    "\n",
    "    public static string operator +(string a, Number b)\n",
    "    {\n",
    "        return a + b.ToString();\n",
    "    }\n",
    "}\n",
    "\n",
    "Number i = new(5);\n",
    "Number j = new(10);\n",
    "string k = \"2\";\n",
    "\n",
    "Console.WriteLine(i + j);\n",
    "Console.WriteLine(i + k);\n",
    "Console.WriteLine(k + i);\n",
    "Console.WriteLine(i + j + k);"
   ]
  },
  {
   "cell_type": "markdown",
   "metadata": {},
   "source": [
    "Conversion and Casting as Operator Overloading"
   ]
  },
  {
   "cell_type": "code",
   "execution_count": null,
   "metadata": {
    "dotnet_interactive": {
     "language": "csharp"
    },
    "polyglot_notebook": {
     "kernelName": "csharp"
    }
   },
   "outputs": [],
   "source": [
    "struct Digit\n",
    "{\n",
    "    private readonly byte digit;\n",
    "\n",
    "    public Digit(byte digit)\n",
    "    {\n",
    "        if (digit > 9)\n",
    "        {\n",
    "            throw new ArgumentOutOfRangeException(nameof(digit), \"Digit cannot be greater than nine.\");\n",
    "        }\n",
    "        this.digit = digit;\n",
    "    }\n",
    "\n",
    "    public static implicit operator byte(Digit d) => d.digit;\n",
    "    public static explicit operator Digit(byte b) => new Digit(b);\n",
    "\n",
    "    public override string ToString() => $\"{digit}\";\n",
    "}\n",
    "\n",
    "var d = new Digit(7);\n",
    "byte number = d;\n",
    "Console.WriteLine(number);\n",
    "number += 3;\n",
    "\n",
    "Digit digit = (Digit)number;\n",
    "Console.WriteLine(digit);"
   ]
  },
  {
   "cell_type": "markdown",
   "metadata": {},
   "source": [
    "__Further Reading__\n",
    "- https://learn.microsoft.com/en-us/dotnet/csharp/language-reference/operators/operator-overloading\n",
    "- https://learn.microsoft.com/en-us/dotnet/csharp/language-reference/operators/user-defined-conversion-operators"
   ]
  }
 ],
 "metadata": {
  "kernelspec": {
   "display_name": ".NET (C#)",
   "language": "C#",
   "name": ".net-csharp"
  },
  "language_info": {
   "name": "polyglot-notebook"
  },
  "polyglot_notebook": {
   "kernelInfo": {
    "defaultKernelName": "csharp",
    "items": [
     {
      "aliases": [],
      "languageName": "csharp",
      "name": "csharp"
     },
     {
      "aliases": [],
      "languageName": "python",
      "name": "pythonkernel"
     }
    ]
   }
  }
 },
 "nbformat": 4,
 "nbformat_minor": 2
}
