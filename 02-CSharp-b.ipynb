{
 "cells": [
  {
   "cell_type": "markdown",
   "metadata": {},
   "source": [
    "# Reusing language keywords"
   ]
  },
  {
   "cell_type": "markdown",
   "metadata": {},
   "source": [
    "- how single language keyword is used in different context; but keyword's semantic remained same\n",
    "-  where it makes sense\n",
    "- Examples\n",
    "    - using\n",
    "    - where\n",
    "    - partial classes and methods\n",
    "    - => lambdas and one liner method bodies and value tuples"
   ]
  },
  {
   "cell_type": "code",
   "execution_count": null,
   "metadata": {
    "dotnet_interactive": {
     "language": "csharp"
    },
    "polyglot_notebook": {
     "kernelName": "csharp"
    },
    "vscode": {
     "languageId": "polyglot-notebook"
    }
   },
   "outputs": [],
   "source": [
    "class Person\n",
    "{\n",
    "    string name;\n",
    "    int age;\n",
    "\n",
    "    public Person(string name, int age) =>\n",
    "        (this.name, this.age) = (name, age);\n",
    "}"
   ]
  },
  {
   "cell_type": "markdown",
   "metadata": {},
   "source": [
    "# Seperating Responsibility 🤝"
   ]
  },
  {
   "cell_type": "markdown",
   "metadata": {},
   "source": [
    "<img src=images/mediator.png width=600>"
   ]
  },
  {
   "cell_type": "markdown",
   "metadata": {},
   "source": [
    "# Discussion: Method Parameters 🪂"
   ]
  },
  {
   "cell_type": "markdown",
   "metadata": {},
   "source": [
    "Passing Parameter By Reference and how we start writing confusing code"
   ]
  },
  {
   "cell_type": "code",
   "execution_count": null,
   "metadata": {
    "dotnet_interactive": {
     "language": "csharp"
    },
    "polyglot_notebook": {
     "kernelName": "csharp"
    },
    "vscode": {
     "languageId": "polyglot-notebook"
    }
   },
   "outputs": [],
   "source": [
    "class Model { } // imagine Model has complex structure; lot of fields; nested model/collections\n",
    "\n",
    "void UpdateSection1(Model model) { }\n",
    "void UpdateSection2(Model model) { }\n",
    "\n",
    "Data Access Layer\n",
    "void UpdateFields(string firstName, string lastName, 1, 2, 3);\n",
    "\n",
    "\n",
    "\n",
    "\n",
    "var model = new Model();\n",
    "UpdateSection1(model);      // you dont see what fields are getting affected; you have to step into the code to understand it\n",
    "UpdateSection2(model);      // you dont see if all necessary fields are appropriately set by first step so it can get consumed/used in step 2\n",
    "                            // missing null checks\n",
    "                            // some step is missed"
   ]
  },
  {
   "cell_type": "code",
   "execution_count": null,
   "metadata": {
    "dotnet_interactive": {
     "language": "csharp"
    },
    "polyglot_notebook": {
     "kernelName": "csharp"
    },
    "vscode": {
     "languageId": "polyglot-notebook"
    }
   },
   "outputs": [],
   "source": [
    "class Model { }\n",
    "\n",
    "var model = new Model();\n",
    "\n",
    "// do first things with model\n",
    "if (true /*lot of checks to ensure first things were successful*/)\n",
    "{\n",
    "    // do second things with model\n",
    "    if (true /*lot of checks to ensure second things were successful*/)\n",
    "    {\n",
    "        // do third things with model\n",
    "        if (true /*lot of checks to ensure third things were successful*/)\n",
    "        {\n",
    "            // and so on....\n",
    "        }\n",
    "        //else how to recover out of this; undo second....undo first; things are getting out of control\n",
    "    }\n",
    "    //else how to recover out of this; undo first things?\n",
    "}\n",
    "//else how to recover out of this; log failure ofcourse; report to user? anything else?"
   ]
  },
  {
   "cell_type": "code",
   "execution_count": null,
   "metadata": {
    "dotnet_interactive": {
     "language": "csharp"
    },
    "polyglot_notebook": {
     "kernelName": "csharp"
    },
    "vscode": {
     "languageId": "polyglot-notebook"
    }
   },
   "outputs": [],
   "source": [
    "// we can make things linear\n",
    "\n",
    "class Model { } // imagine Model has complex structure; lot of fields; nested model/collections\n",
    "\n",
    "bool MultiStepMethod(Model model) // there are design patterns for this; but lets not go there now\n",
    "{\n",
    "    // do first things with model\n",
    "    if (!true /*lot of checks to ensure first things were successful*/)\n",
    "        // do we need to recover + undo previous steps?\n",
    "        // log + report to user? anything else?\n",
    "        return false; // or its an exception?\n",
    "\n",
    "    // use return / exceptions\n",
    "    // dont use exceptions as return mechanism\n",
    "\n",
    "    // do second things with model\n",
    "    if (!true /*lot of checks to ensure first things were successful*/)\n",
    "        // do we need to recover + undo previous steps?\n",
    "        // log + report to user? anything else?\n",
    "        return false; // or its an exception?\n",
    "\n",
    "    // do third things with model\n",
    "    if (!true /*lot of checks to ensure first things were successful*/)\n",
    "        // do we need to recover + undo previous steps?\n",
    "        // log + report to user? anything else?\n",
    "        return false; // or its an exception?\n",
    "\n",
    "    // we are here and nothing wrong happened\n",
    "    return true; /* finally */\n",
    "}\n",
    "\n",
    "MultiStepMethod(new Model());"
   ]
  },
  {
   "cell_type": "markdown",
   "metadata": {},
   "source": [
    "- Some ways to get out of it"
   ]
  },
  {
   "cell_type": "code",
   "execution_count": null,
   "metadata": {
    "dotnet_interactive": {
     "language": "csharp"
    },
    "polyglot_notebook": {
     "kernelName": "csharp"
    },
    "vscode": {
     "languageId": "polyglot-notebook"
    }
   },
   "outputs": [],
   "source": [
    "class Model { }\n",
    "\n",
    "Model UpdateSection1(Model model) => model; // for the sake of implementation\n",
    "Model UpdateSection2(Model model) => model;\n",
    "\n",
    "var model = new Model();\n",
    "model = UpdateSection1(model);\n",
    "// check model + log failures + recover etc\n",
    "model = UpdateSection2(model);\n",
    "// check model + log failures + recover etc\n",
    "\n",
    "// we can wrap calls; but it can be confusing some times\n",
    "var model2 = UpdateSection2(UpdateSection1(new Model())); // but how to do checks + failures?"
   ]
  },
  {
   "cell_type": "code",
   "execution_count": null,
   "metadata": {
    "dotnet_interactive": {
     "language": "csharp"
    },
    "polyglot_notebook": {
     "kernelName": "csharp"
    },
    "vscode": {
     "languageId": "polyglot-notebook"
    }
   },
   "outputs": [],
   "source": [
    "class Model { }\n",
    "\n",
    "Model UpdateSection1(Model model)\n",
    "{\n",
    "    // do validations; which we should always\n",
    "    bool validated = true;\n",
    "    if (!validated) throw new ArgumentException();\n",
    "\n",
    "    // do whatever\n",
    "    try\n",
    "    {\n",
    "        return model;\n",
    "    }\n",
    "    catch (Exception ex)\n",
    "    {\n",
    "        //log + report + recover\n",
    "        throw;\n",
    "    }\n",
    "}\n",
    "\n",
    "Model UpdateSection2(Model model) => model; // same like above; but for sake of moving on\n",
    "\n",
    "try\n",
    "{\n",
    "    var model = UpdateSection2(UpdateSection1(new Model())); // if in chain anything wrong happen; we will get exception\n",
    "}\n",
    "catch (Exception ex)\n",
    "{\n",
    "    // how to tell which step failed? we can have different wrapped exception; Step1Exception; Step2Exception and associated catch blocks\n",
    "}"
   ]
  },
  {
   "cell_type": "code",
   "execution_count": null,
   "metadata": {
    "dotnet_interactive": {
     "language": "csharp"
    },
    "polyglot_notebook": {
     "kernelName": "csharp"
    },
    "vscode": {
     "languageId": "polyglot-notebook"
    }
   },
   "outputs": [],
   "source": [
    "class Model { }\n",
    "\n",
    "static Model UpdateSection1(this Model model) => model;\n",
    "static Model UpdateSection2(this Model model) => model;\n",
    "\n",
    "// extension methods; we can chain the extension methods\n",
    "var model = new Model()\n",
    "    .UpdateSection1()\n",
    "    .UpdateSection2();"
   ]
  },
  {
   "cell_type": "code",
   "execution_count": null,
   "metadata": {
    "dotnet_interactive": {
     "language": "csharp"
    },
    "polyglot_notebook": {
     "kernelName": "csharp"
    },
    "vscode": {
     "languageId": "polyglot-notebook"
    }
   },
   "outputs": [],
   "source": [
    "using static System.Console;\n",
    "\n",
    "class Section1 { }\n",
    "class Section2 : Section1 { }\n",
    "class Model : Section2 { }\n",
    "\n",
    "void UpdateSection(Section1 model) { WriteLine(\"Updating Section 1\"); } // method overloads; less chance of missing step\n",
    "void UpdateSection(Section2 model) { WriteLine(\"Updating Section 2\"); } // method overloads\n",
    "\n",
    "var model = new Model();\n",
    "\n",
    "UpdateSection(model);               // will match to most closest overload; Section 2\n",
    "\n",
    "UpdateSection(model as Section1);\n",
    "UpdateSection(model as Section2);"
   ]
  }
 ],
 "metadata": {
  "kernelspec": {
   "display_name": ".NET (C#)",
   "language": "C#",
   "name": ".net-csharp"
  },
  "language_info": {
   "name": "python",
   "version": "3.12.2"
  },
  "polyglot_notebook": {
   "kernelInfo": {
    "defaultKernelName": "csharp",
    "items": [
     {
      "aliases": [],
      "name": "csharp"
     },
     {
      "aliases": [],
      "languageName": "python",
      "name": "pythonkernel"
     }
    ]
   }
  }
 },
 "nbformat": 4,
 "nbformat_minor": 2
}
